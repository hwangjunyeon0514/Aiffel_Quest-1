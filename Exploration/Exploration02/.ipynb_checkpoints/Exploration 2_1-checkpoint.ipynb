{
 "cells": [
  {
   "cell_type": "markdown",
   "id": "76e15bd6",
   "metadata": {},
   "source": [
    "(1) 데이터 가져오기\n",
    "sklearn.datasets의 load_diabetes에서 데이터를 가져와주세요.\n",
    "diabetes의 data를 df_X에, target을 df_y에 저장해주세요."
   ]
  },
  {
   "cell_type": "code",
   "execution_count": 46,
   "id": "78d43075",
   "metadata": {},
   "outputs": [
    {
     "name": "stdout",
     "output_type": "stream",
     "text": [
      "(442, 10)\n",
      "(442,)\n",
      "<class 'sklearn.utils.Bunch'>\n",
      "['age', 'sex', 'bmi', 'bp', 's1', 's2', 's3', 's4', 's5', 's6']\n",
      "[[ 0.03807591  0.05068012  0.06169621 ... -0.00259226  0.01990842\n",
      "  -0.01764613]\n",
      " [-0.00188202 -0.04464164 -0.05147406 ... -0.03949338 -0.06832974\n",
      "  -0.09220405]\n",
      " [ 0.08529891  0.05068012  0.04445121 ... -0.00259226  0.00286377\n",
      "  -0.02593034]\n",
      " ...\n",
      " [ 0.04170844  0.05068012 -0.01590626 ... -0.01107952 -0.04687948\n",
      "   0.01549073]\n",
      " [-0.04547248 -0.04464164  0.03906215 ...  0.02655962  0.04452837\n",
      "  -0.02593034]\n",
      " [-0.04547248 -0.04464164 -0.0730303  ... -0.03949338 -0.00421986\n",
      "   0.00306441]]\n",
      "<class 'numpy.ndarray'>\n"
     ]
    }
   ],
   "source": [
    "from sklearn.datasets import load_diabetes   # 사이킷 런에서는 번치라는 데이터셋을 제공한다!\n",
    "import matplotlib.pyplot as plt\n",
    "\n",
    "diabetes = load_diabetes()\n",
    "df_X = diabetes.data\n",
    "df_y = diabetes.target\n",
    "\n",
    "print(df_X.shape)\n",
    "print(df_y.shape)\n",
    "print(type(diabetes))   # 정답라벨이 따로 존재! - (.data, .target) bunch는 dict와 비슷하게 키와 벨류(데이터, 타겟)\n",
    "print(diabetes.feature_names)   # 괄호를 치는 것은 함수, 자료(변수명)의 데이터를 볼때는 안친다?\n",
    "print(df_X)\n",
    "print(type(df_X))"
   ]
  },
  {
   "cell_type": "markdown",
   "id": "7420ea16",
   "metadata": {},
   "source": [
    "(2) 모델에 입력할 데이터 X 준비하기\n",
    "df_X에 있는 값들을 numpy array로 변환해서 저장해주세요."
   ]
  },
  {
   "cell_type": "code",
   "execution_count": 47,
   "id": "dd86db5a",
   "metadata": {},
   "outputs": [
    {
     "name": "stdout",
     "output_type": "stream",
     "text": [
      "<class 'numpy.ndarray'>\n"
     ]
    }
   ],
   "source": [
    "import numpy as np\n",
    "X = np.array(df_X)\n",
    "print(type(X))"
   ]
  },
  {
   "cell_type": "markdown",
   "id": "1a44e54e",
   "metadata": {},
   "source": [
    "(3) 모델에 예측할 데이터 y 준비하기\n",
    "df_y에 있는 값들을 numpy array로 변환해서 저장해주세요."
   ]
  },
  {
   "cell_type": "code",
   "execution_count": 48,
   "id": "d19cbac7",
   "metadata": {},
   "outputs": [],
   "source": [
    "y = np.array(df_y)"
   ]
  },
  {
   "cell_type": "markdown",
   "id": "a9b57bfb",
   "metadata": {},
   "source": [
    "(4) train 데이터와 test 데이터로 분리하기\n",
    "X와 y 데이터를 각각 train 데이터와 test 데이터로 분리해주세요."
   ]
  },
  {
   "cell_type": "code",
   "execution_count": 49,
   "id": "ae5f4f60",
   "metadata": {},
   "outputs": [
    {
     "name": "stdout",
     "output_type": "stream",
     "text": [
      "(353, 10)\n"
     ]
    }
   ],
   "source": [
    "from sklearn.model_selection import train_test_split\n",
    "X_train, X_test, y_train, y_test = train_test_split(X, y, test_size=0.2, random_state=42)\n",
    "print(X_train.shape)"
   ]
  },
  {
   "cell_type": "markdown",
   "id": "d0291087",
   "metadata": {},
   "source": [
    "(5) 모델 준비하기\n",
    "입력 데이터 개수에 맞는 가중치 W와 b를 준비해주세요.\n",
    "모델 함수를 구현해주세요."
   ]
  },
  {
   "cell_type": "code",
   "execution_count": 50,
   "id": "69066a68",
   "metadata": {},
   "outputs": [
    {
     "name": "stdout",
     "output_type": "stream",
     "text": [
      "[0.34444981 0.62777381 0.86512366 0.45509179 0.38205322 0.70526956\n",
      " 0.40521678 0.55271141 0.55299516 0.80262072]\n"
     ]
    }
   ],
   "source": [
    "w = np.random.rand(X_train.shape[1])\n",
    "b = np.random.rand()\n",
    "print(w)\n",
    "\n",
    "def model(x, w, b):\n",
    "    predictions = x.dot(w) + b\n",
    "    return predictions"
   ]
  },
  {
   "cell_type": "markdown",
   "id": "0b9c1281",
   "metadata": {},
   "source": [
    "(6) 손실함수 loss 정의하기\n",
    "손실함수를 MSE 함수로 정의해주세요."
   ]
  },
  {
   "cell_type": "code",
   "execution_count": 51,
   "id": "8366f811",
   "metadata": {},
   "outputs": [],
   "source": [
    "def MSE(a, b):\n",
    "    return ((a - b) ** 2).mean()\n",
    "\n",
    "def loss(x, w, b, y):\n",
    "    predictions = model(x, w, b)\n",
    "    L = MSE(predictions, y)\n",
    "    return L"
   ]
  },
  {
   "cell_type": "markdown",
   "id": "67b1108b",
   "metadata": {},
   "source": [
    "(7) 기울기를 구하는 gradient 함수 구현하기\n",
    "기울기를 계산하는 gradient 함수를 구현해주세요."
   ]
  },
  {
   "cell_type": "code",
   "execution_count": 52,
   "id": "ebebff22",
   "metadata": {},
   "outputs": [],
   "source": [
    "def gradient(X, w, b, y):\n",
    "    # N은 데이터 포인트의 개수입니다.\n",
    "    # len(y)는 타깃 벡터 y의 길이, 즉 샘플 데이터의 개수를 반환합니다.\n",
    "    N = len(y)\n",
    "    \n",
    "    # y_pred는 모델의 예측값입니다.\n",
    "    # model 함수는 입력 데이터 X, 가중치 W, 절편 b를 사용하여 예측값을 계산합니다.\n",
    "    y_pred = model(X, w, b)\n",
    "    \n",
    "    # 손실 함수(Loss Function)의 가중치 W에 대한 그래디언트 dW를 계산합니다.\n",
    "    # 이는 평균 제곱 오차(Mean Squared Error)를 사용하는 선형 회귀에서 그래디언트를 계산하는 방법입니다.\n",
    "    # 1/N * 2는 미분 과정에서 생기는 상수 항이며, X.T.dot(y_pred - y)는 실제값 y와 예측값 y_pred의 차이에 데이터 X를 행렬 곱셈합니다.\n",
    "    dw = 1/N * 2 * X.T.dot(y_pred - y)  # 내적\n",
    "        \n",
    "    # 절편 b에 대한 그래디언트 db를 계산합니다.\n",
    "    # (y_pred - y).mean()는 예측값과 실제값의 차이의 평균을 계산하고, 2를 곱하여 그래디언트를 구합니다.\n",
    "    db = 2 * (y_pred - y).mean()\n",
    "    return dw, db"
   ]
  },
  {
   "cell_type": "markdown",
   "id": "c298b34f",
   "metadata": {},
   "source": [
    "(8) 하이퍼 파라미터인 학습률 설정하기\n",
    "학습률, learning rate 를 설정해주세요\n",
    "만약 학습이 잘 되지 않는다면 learning rate 값을 한번 여러 가지로 설정하며 실험해 보세요."
   ]
  },
  {
   "cell_type": "code",
   "execution_count": 53,
   "id": "dce8fe05",
   "metadata": {},
   "outputs": [],
   "source": [
    "learning_rate = 0.01"
   ]
  },
  {
   "cell_type": "markdown",
   "id": "b14a9949",
   "metadata": {},
   "source": [
    "(9) 모델 학습하기\n",
    "정의된 손실함수와 기울기 함수로 모델을 학습해주세요.\n",
    "loss값이 충분히 떨어질 때까지 학습을 진행해주세요.\n",
    "입력하는 데이터인 X에 들어가는 특성 컬럼들을 몇 개 빼도 괜찮습니다. 다양한 데이터로 실험해 보세요."
   ]
  },
  {
   "cell_type": "code",
   "execution_count": 54,
   "id": "8669aedb",
   "metadata": {},
   "outputs": [
    {
     "name": "stdout",
     "output_type": "stream",
     "text": [
      "Iteration 1000 : Loss 5251.8342\n",
      "Iteration 2000 : Loss 4766.1026\n",
      "Iteration 3000 : Loss 4407.5209\n",
      "Iteration 4000 : Loss 4139.2439\n",
      "Iteration 5000 : Loss 3935.4818\n",
      "Iteration 6000 : Loss 3778.1452\n",
      "Iteration 7000 : Loss 3654.5118\n",
      "Iteration 8000 : Loss 3555.6034\n",
      "Iteration 9000 : Loss 3475.0574\n",
      "Iteration 10000 : Loss 3408.3405\n",
      "Iteration 11000 : Loss 3352.2018\n",
      "Iteration 12000 : Loss 3304.2911\n",
      "Iteration 13000 : Loss 3262.8930\n",
      "Iteration 14000 : Loss 3226.7415\n",
      "Iteration 15000 : Loss 3194.8898\n",
      "Iteration 16000 : Loss 3166.6194\n",
      "Iteration 17000 : Loss 3141.3764\n",
      "Iteration 18000 : Loss 3118.7264\n",
      "Iteration 19000 : Loss 3098.3228\n",
      "Iteration 20000 : Loss 3079.8844\n",
      "Iteration 21000 : Loss 3063.1791\n",
      "Iteration 22000 : Loss 3048.0124\n",
      "Iteration 23000 : Loss 3034.2192\n",
      "Iteration 24000 : Loss 3021.6575\n",
      "Iteration 25000 : Loss 3010.2039\n",
      "Iteration 26000 : Loss 2999.7504\n",
      "Iteration 27000 : Loss 2990.2013\n",
      "Iteration 28000 : Loss 2981.4719\n",
      "Iteration 29000 : Loss 2973.4866\n",
      "Iteration 30000 : Loss 2966.1775\n"
     ]
    }
   ],
   "source": [
    "losses = []\n",
    "for i in range(1, 30001):\n",
    "    dw, db = gradient(X, w, b, y)\n",
    "    w -= learning_rate * dw\n",
    "    b -= learning_rate * db\n",
    "    L = loss(X, w, b, y)\n",
    "    losses.append(L)\n",
    "    if i % 1000 == 0:\n",
    "        print('Iteration %d : Loss %0.4f' % (i, L))"
   ]
  },
  {
   "cell_type": "code",
   "execution_count": 55,
   "id": "2f00f061",
   "metadata": {},
   "outputs": [
    {
     "data": {
      "image/png": "[encoded data removed]",
      "text/plain": [
       "<Figure size 432x288 with 1 Axes>"
      ]
     },
     "metadata": {
      "needs_background": "light"
     },
     "output_type": "display_data"
    }
   ],
   "source": [
    "plt.plot(losses)\n",
    "plt.show()"
   ]
  },
  {
   "cell_type": "markdown",
   "id": "4edb053c",
   "metadata": {},
   "source": [
    "(10) test 데이터에 대한 성능 확인하기\n",
    "test 데이터에 대한 성능을 확인해주세요."
   ]
  },
  {
   "cell_type": "code",
   "execution_count": 56,
   "id": "e0b2ed51",
   "metadata": {
    "scrolled": true
   },
   "outputs": [
    {
     "name": "stdout",
     "output_type": "stream",
     "text": [
      "Test MSE:  2815.0531700710353\n"
     ]
    }
   ],
   "source": [
    "y_pred = model(X_test, w, b)\n",
    "mse = MSE(y_pred, y_test)\n",
    "print(\"Test MSE: \", mse)"
   ]
  },
  {
   "cell_type": "markdown",
   "id": "c61c7d43",
   "metadata": {},
   "source": [
    "(11) 정답 데이터와 예측한 데이터 시각화하기\n",
    "x축에는 X 데이터의 첫 번째 컬럼을, y축에는 정답인 target 데이터를 넣어서 모델이 예측한 데이터를 시각화해 주세요."
   ]
  },
  {
   "cell_type": "code",
   "execution_count": 57,
   "id": "0e138658",
   "metadata": {
    "scrolled": true
   },
   "outputs": [
    {
     "data": {
      "image/png": "[encoded data removed]",
      "text/plain": [
       "<Figure size 432x288 with 1 Axes>"
      ]
     },
     "metadata": {
      "needs_background": "light"
     },
     "output_type": "display_data"
    }
   ],
   "source": [
    "import matplotlib.pyplot as plt\n",
    "# x = np.linspace(-0.1, 0.1, 6)\n",
    "# y = model(X, w, b)\n",
    "# plt.plot(y, c=\"r\")\n",
    "plt.scatter(X_test[:, 0], y_test, label='true')\n",
    "plt.scatter(X_test[:, 0], y_pred, label='pred')\n",
    "plt.xlabel('Age')\n",
    "plt.ylabel('Blood sugar levels')\n",
    "plt.legend()\n",
    "plt.show()"
   ]
  },
  {
   "cell_type": "markdown",
   "id": "118259ea",
   "metadata": {},
   "source": []
  }
 ],
 "metadata": {
  "kernelspec": {
   "display_name": "Python 3 (ipykernel)",
   "language": "python",
   "name": "python3"
  },
  "language_info": {
   "codemirror_mode": {
    "name": "ipython",
    "version": 3
   },
   "file_extension": ".py",
   "mimetype": "text/x-python",
   "name": "python",
   "nbconvert_exporter": "python",
   "pygments_lexer": "ipython3",
   "version": "3.9.7"
  }
 },
 "nbformat": 4,
 "nbformat_minor": 5
}
