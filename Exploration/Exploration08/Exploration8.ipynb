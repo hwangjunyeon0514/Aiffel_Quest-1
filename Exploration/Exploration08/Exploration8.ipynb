{
 "cells": [
  {
   "cell_type": "code",
   "execution_count": 1,
   "id": "9900eece",
   "metadata": {},
   "outputs": [
    {
     "name": "stdout",
     "output_type": "stream",
     "text": [
      "1.3.3\n",
      "0.5.2\n",
      "4.1.2\n",
      "2.6.0\n"
     ]
    }
   ],
   "source": [
    "import pandas as pd\n",
    "import konlpy\n",
    "import gensim\n",
    "import tensorflow as tf\n",
    "\n",
    "print(pd.__version__)\n",
    "print(konlpy.__version__)\n",
    "print(gensim.__version__)\n",
    "print(tf.__version__)"
   ]
  },
  {
   "cell_type": "markdown",
   "id": "bd1419f5",
   "metadata": {},
   "source": [
    "## 1) 데이터 준비와 확인"
   ]
  },
  {
   "cell_type": "code",
   "execution_count": 2,
   "id": "ac02bc31",
   "metadata": {},
   "outputs": [
    {
     "data": {
      "text/html": [
       "<div>\n",
       "<style scoped>\n",
       "    .dataframe tbody tr th:only-of-type {\n",
       "        vertical-align: middle;\n",
       "    }\n",
       "\n",
       "    .dataframe tbody tr th {\n",
       "        vertical-align: top;\n",
       "    }\n",
       "\n",
       "    .dataframe thead th {\n",
       "        text-align: right;\n",
       "    }\n",
       "</style>\n",
       "<table border=\"1\" class=\"dataframe\">\n",
       "  <thead>\n",
       "    <tr style=\"text-align: right;\">\n",
       "      <th></th>\n",
       "      <th>id</th>\n",
       "      <th>document</th>\n",
       "      <th>label</th>\n",
       "    </tr>\n",
       "  </thead>\n",
       "  <tbody>\n",
       "    <tr>\n",
       "      <th>0</th>\n",
       "      <td>9976970</td>\n",
       "      <td>아 더빙.. 진짜 짜증나네요 목소리</td>\n",
       "      <td>0</td>\n",
       "    </tr>\n",
       "    <tr>\n",
       "      <th>1</th>\n",
       "      <td>3819312</td>\n",
       "      <td>흠...포스터보고 초딩영화줄....오버연기조차 가볍지 않구나</td>\n",
       "      <td>1</td>\n",
       "    </tr>\n",
       "    <tr>\n",
       "      <th>2</th>\n",
       "      <td>10265843</td>\n",
       "      <td>너무재밓었다그래서보는것을추천한다</td>\n",
       "      <td>0</td>\n",
       "    </tr>\n",
       "    <tr>\n",
       "      <th>3</th>\n",
       "      <td>9045019</td>\n",
       "      <td>교도소 이야기구먼 ..솔직히 재미는 없다..평점 조정</td>\n",
       "      <td>0</td>\n",
       "    </tr>\n",
       "    <tr>\n",
       "      <th>4</th>\n",
       "      <td>6483659</td>\n",
       "      <td>사이몬페그의 익살스런 연기가 돋보였던 영화!스파이더맨에서 늙어보이기만 했던 커스틴 ...</td>\n",
       "      <td>1</td>\n",
       "    </tr>\n",
       "  </tbody>\n",
       "</table>\n",
       "</div>"
      ],
      "text/plain": [
       "         id                                           document  label\n",
       "0   9976970                                아 더빙.. 진짜 짜증나네요 목소리      0\n",
       "1   3819312                  흠...포스터보고 초딩영화줄....오버연기조차 가볍지 않구나      1\n",
       "2  10265843                                  너무재밓었다그래서보는것을추천한다      0\n",
       "3   9045019                      교도소 이야기구먼 ..솔직히 재미는 없다..평점 조정      0\n",
       "4   6483659  사이몬페그의 익살스런 연기가 돋보였던 영화!스파이더맨에서 늙어보이기만 했던 커스틴 ...      1"
      ]
     },
     "execution_count": 2,
     "metadata": {},
     "output_type": "execute_result"
    }
   ],
   "source": [
    "train_data = pd.read_table('~/aiffel/sentiment_classification/data/ratings_train.txt')\n",
    "test_data = pd.read_table('~/aiffel/sentiment_classification/data/ratings_test.txt')\n",
    "\n",
    "train_data.head()"
   ]
  },
  {
   "cell_type": "code",
   "execution_count": 3,
   "id": "608275dc",
   "metadata": {},
   "outputs": [
    {
     "name": "stdout",
     "output_type": "stream",
     "text": [
      "id          False\n",
      "document     True\n",
      "label       False\n",
      "dtype: bool\n",
      "id          False\n",
      "document     True\n",
      "label       False\n",
      "dtype: bool\n"
     ]
    }
   ],
   "source": [
    "# 결측 데이터 확인\n",
    "print(train_data.isnull().any(axis = 0))\n",
    "print(test_data.isnull().any(axis = 0))"
   ]
  },
  {
   "cell_type": "markdown",
   "id": "79d5d4b2",
   "metadata": {},
   "source": [
    "양쪽 모두 document에 결측데이터가 있음을 확인함 -> 결측 데이터 제거"
   ]
  },
  {
   "cell_type": "code",
   "execution_count": 4,
   "id": "212d381a",
   "metadata": {},
   "outputs": [
    {
     "data": {
      "text/plain": [
       "(3817, 842)"
      ]
     },
     "execution_count": 4,
     "metadata": {},
     "output_type": "execute_result"
    }
   ],
   "source": [
    "# 중복 데이터 확인\n",
    "train_data.duplicated(subset=['document']).sum(), test_data.duplicated(subset=['document']).sum()"
   ]
  },
  {
   "cell_type": "code",
   "execution_count": 5,
   "id": "4d1de8f2",
   "metadata": {},
   "outputs": [
    {
     "data": {
      "text/html": [
       "<div>\n",
       "<style scoped>\n",
       "    .dataframe tbody tr th:only-of-type {\n",
       "        vertical-align: middle;\n",
       "    }\n",
       "\n",
       "    .dataframe tbody tr th {\n",
       "        vertical-align: top;\n",
       "    }\n",
       "\n",
       "    .dataframe thead th {\n",
       "        text-align: right;\n",
       "    }\n",
       "</style>\n",
       "<table border=\"1\" class=\"dataframe\">\n",
       "  <thead>\n",
       "    <tr style=\"text-align: right;\">\n",
       "      <th></th>\n",
       "      <th>id</th>\n",
       "      <th>document</th>\n",
       "      <th>label</th>\n",
       "    </tr>\n",
       "  </thead>\n",
       "  <tbody>\n",
       "    <tr>\n",
       "      <th>1058</th>\n",
       "      <td>5890638</td>\n",
       "      <td>4</td>\n",
       "      <td>0</td>\n",
       "    </tr>\n",
       "    <tr>\n",
       "      <th>1097</th>\n",
       "      <td>2062443</td>\n",
       "      <td>쵝오</td>\n",
       "      <td>1</td>\n",
       "    </tr>\n",
       "    <tr>\n",
       "      <th>1248</th>\n",
       "      <td>3502685</td>\n",
       "      <td>최고</td>\n",
       "      <td>1</td>\n",
       "    </tr>\n",
       "    <tr>\n",
       "      <th>1483</th>\n",
       "      <td>775332</td>\n",
       "      <td>최고</td>\n",
       "      <td>1</td>\n",
       "    </tr>\n",
       "    <tr>\n",
       "      <th>1707</th>\n",
       "      <td>8009134</td>\n",
       "      <td>재밌다</td>\n",
       "      <td>1</td>\n",
       "    </tr>\n",
       "    <tr>\n",
       "      <th>...</th>\n",
       "      <td>...</td>\n",
       "      <td>...</td>\n",
       "      <td>...</td>\n",
       "    </tr>\n",
       "    <tr>\n",
       "      <th>149919</th>\n",
       "      <td>6502490</td>\n",
       "      <td>짱</td>\n",
       "      <td>1</td>\n",
       "    </tr>\n",
       "    <tr>\n",
       "      <th>149949</th>\n",
       "      <td>3924716</td>\n",
       "      <td>OO 영화</td>\n",
       "      <td>0</td>\n",
       "    </tr>\n",
       "    <tr>\n",
       "      <th>149960</th>\n",
       "      <td>6368431</td>\n",
       "      <td>지루하다</td>\n",
       "      <td>0</td>\n",
       "    </tr>\n",
       "    <tr>\n",
       "      <th>149966</th>\n",
       "      <td>6735753</td>\n",
       "      <td>1</td>\n",
       "      <td>0</td>\n",
       "    </tr>\n",
       "    <tr>\n",
       "      <th>149987</th>\n",
       "      <td>7669621</td>\n",
       "      <td>재미있어요^^</td>\n",
       "      <td>1</td>\n",
       "    </tr>\n",
       "  </tbody>\n",
       "</table>\n",
       "<p>3817 rows × 3 columns</p>\n",
       "</div>"
      ],
      "text/plain": [
       "             id document  label\n",
       "1058    5890638        4      0\n",
       "1097    2062443       쵝오      1\n",
       "1248    3502685       최고      1\n",
       "1483     775332       최고      1\n",
       "1707    8009134      재밌다      1\n",
       "...         ...      ...    ...\n",
       "149919  6502490        짱      1\n",
       "149949  3924716    OO 영화      0\n",
       "149960  6368431     지루하다      0\n",
       "149966  6735753        1      0\n",
       "149987  7669621  재미있어요^^      1\n",
       "\n",
       "[3817 rows x 3 columns]"
      ]
     },
     "execution_count": 5,
     "metadata": {},
     "output_type": "execute_result"
    }
   ],
   "source": [
    "train_data[train_data.duplicated(subset=['document'])]"
   ]
  },
  {
   "cell_type": "markdown",
   "id": "a910debe",
   "metadata": {},
   "source": [
    "중복데이터가 많음을 확인하였다. -> 중복데이터 중 처음것만 남김"
   ]
  },
  {
   "cell_type": "markdown",
   "id": "87dd5c54",
   "metadata": {},
   "source": [
    "## 2) 데이터로더 구성"
   ]
  },
  {
   "cell_type": "code",
   "execution_count": 6,
   "id": "dca27255",
   "metadata": {},
   "outputs": [],
   "source": [
    "from konlpy.tag import Mecab\n",
    "import numpy as np\n",
    "from collections import Counter\n",
    "\n",
    "tokenizer = Mecab()\n",
    "stopwords = ['의','가','이','은','들','는','좀','잘','걍','과','도','를','으로','자','에','와','한','하다']\n",
    "\n",
    "def load_data(train_data, test_data, num_words=10000):\n",
    "    # 중복 및 결측 데이터 처리\n",
    "    train_data = train_data.drop_duplicates(subset=['document'])\n",
    "    train_data = train_data.dropna(how = 'any') \n",
    "    test_data = test_data.drop_duplicates(subset=['document'])\n",
    "    test_data = test_data.dropna(how = 'any') \n",
    "    \n",
    "    X_train = []\n",
    "    for sentence in train_data['document']:\n",
    "        temp_X = tokenizer.morphs(sentence) # 토큰화 (형태소 추출)\n",
    "        temp_X = [word for word in temp_X if not word in stopwords] # 불용어 제거\n",
    "        X_train.append(temp_X)\n",
    "\n",
    "    X_test = []\n",
    "    for sentence in test_data['document']:\n",
    "        temp_X = tokenizer.morphs(sentence) # 토큰화 (형태소 추출)\n",
    "        temp_X = [word for word in temp_X if not word in stopwords] # 불용어 제거\n",
    "        X_test.append(temp_X)\n",
    "    \n",
    "    words = np.concatenate(X_train).tolist()\n",
    "    counter = Counter(words)\n",
    "    counter = counter.most_common(num_words - 4)\n",
    "    vocab = ['<PAD>', '<BOS>', '<UNK>', '<UNUSED>'] + [key for key, _ in counter]\n",
    "    word_to_index = {word:index for index, word in enumerate(vocab)}\n",
    "        \n",
    "    def wordlist_to_indexlist(wordlist):\n",
    "        return [1] + [word_to_index[word] if word in word_to_index else word_to_index['<UNK>'] for word in wordlist]\n",
    "        \n",
    "    X_train = list(map(wordlist_to_indexlist, X_train))\n",
    "    X_test = list(map(wordlist_to_indexlist, X_test))\n",
    "        \n",
    "    return X_train, train_data['label'].values, X_test, test_data['label'].values, word_to_index\n",
    "    \n",
    "X_train, y_train, X_test, y_test, word_to_index = load_data(train_data, test_data)"
   ]
  },
  {
   "cell_type": "code",
   "execution_count": 7,
   "id": "f68e4046",
   "metadata": {},
   "outputs": [
    {
     "data": {
      "text/plain": [
       "(146182, (146182,), 49157, (49157,))"
      ]
     },
     "execution_count": 7,
     "metadata": {},
     "output_type": "execute_result"
    }
   ],
   "source": [
    "len(X_train), y_train.shape, len(X_test), y_test.shape"
   ]
  },
  {
   "cell_type": "code",
   "execution_count": 8,
   "id": "32a4c528",
   "metadata": {},
   "outputs": [],
   "source": [
    "# word_to_index에서 index_to_word도 만들어줌.\n",
    "index_to_word = {index:word for word, index in word_to_index.items()}"
   ]
  },
  {
   "cell_type": "code",
   "execution_count": 9,
   "id": "a20afb99",
   "metadata": {},
   "outputs": [],
   "source": [
    "# 문장 1개를 활용할 딕셔너리와 함께 주면, 단어 인덱스 리스트 벡터로 변환해 주는 함수입니다. \n",
    "# 단, 모든 문장은 <BOS>로 시작하는 것으로 합니다. \n",
    "def get_encoded_sentence(sentence, word_to_index):\n",
    "    return [word_to_index['<BOS>']]+[word_to_index[word] if word in word_to_index else word_to_index['<UNK>'] for word in sentence.split()]\n",
    "\n",
    "# 여러 개의 문장 리스트를 한꺼번에 단어 인덱스 리스트 벡터로 encode해 주는 함수입니다. \n",
    "def get_encoded_sentences(sentences, word_to_index):\n",
    "    return [get_encoded_sentence(sentence, word_to_index) for sentence in sentences]\n",
    "\n",
    "# 숫자 벡터로 encode된 문장을 원래대로 decode하는 함수입니다. \n",
    "def get_decoded_sentence(encoded_sentence, index_to_word):\n",
    "    return ' '.join(index_to_word[index] if index in index_to_word else '<UNK>' for index in encoded_sentence[1:])  #[1:]를 통해 <BOS>를 제외\n",
    "\n",
    "# 여러 개의 숫자 벡터로 encode된 문장을 한꺼번에 원래대로 decode하는 함수입니다. \n",
    "def get_decoded_sentences(encoded_sentences, index_to_word):\n",
    "    return [get_decoded_sentence(encoded_sentence, index_to_word) for encoded_sentence in encoded_sentences]"
   ]
  },
  {
   "cell_type": "markdown",
   "id": "6a5717b2",
   "metadata": {},
   "source": [
    "## 3) 모델 구성을 위한 데이터 분석 및 가공\n",
    "- 데이터셋 내 문장 길이 분포\n",
    "- 적절한 최대 문장 길이 지정\n",
    "- keras.preprocessing.sequence.pad_sequences 을 활용한 패딩 추가"
   ]
  },
  {
   "cell_type": "code",
   "execution_count": 10,
   "id": "80545cd4",
   "metadata": {},
   "outputs": [
    {
     "name": "stdout",
     "output_type": "stream",
     "text": [
      "문장길이 평균 :  16.96940191154864\n",
      "문장길이 최대 :  117\n",
      "문장길이 표준편차 :  12.843571191092\n"
     ]
    }
   ],
   "source": [
    "total_data_text = list(X_train) + list(X_test)\n",
    "# 텍스트데이터 문장길이의 리스트를 생성한 후\n",
    "num_tokens = [len(tokens) for tokens in total_data_text]\n",
    "num_tokens = np.array(num_tokens)\n",
    "\n",
    "# 문장길이의 평균값, 최대값, 표준편차를 계산해 본다. \n",
    "print('문장길이 평균 : ', np.mean(num_tokens))\n",
    "print('문장길이 최대 : ', np.max(num_tokens))\n",
    "print('문장길이 표준편차 : ', np.std(num_tokens))"
   ]
  },
  {
   "cell_type": "code",
   "execution_count": 11,
   "id": "21f96ae4",
   "metadata": {},
   "outputs": [
    {
     "name": "stdout",
     "output_type": "stream",
     "text": [
      "pad_sequences maxlen :  42\n",
      "전체 문장의 93.42988343341575%가 maxlen 설정값 이내에 포함됩니다. \n"
     ]
    }
   ],
   "source": [
    "max_tokens = np.mean(num_tokens) + 2 * np.std(num_tokens)\n",
    "maxlen = int(max_tokens)\n",
    "print('pad_sequences maxlen : ', maxlen)\n",
    "print(f'전체 문장의 {np.sum(num_tokens < max_tokens) / len(num_tokens) * 100}%가 maxlen 설정값 이내에 포함됩니다. ')"
   ]
  },
  {
   "cell_type": "code",
   "execution_count": 12,
   "id": "d51cdd84",
   "metadata": {},
   "outputs": [],
   "source": [
    "X_train = tf.keras.preprocessing.sequence.pad_sequences(X_train,\n",
    "                                                        value=word_to_index[\"<PAD>\"],\n",
    "                                                        padding='pre',\n",
    "                                                        maxlen=maxlen)\n",
    "\n",
    "X_test = tf.keras.preprocessing.sequence.pad_sequences(X_test,\n",
    "                                                       value=word_to_index[\"<PAD>\"],\n",
    "                                                       padding='pre',\n",
    "                                                       maxlen=maxlen)"
   ]
  },
  {
   "cell_type": "code",
   "execution_count": 13,
   "id": "4b6f017d",
   "metadata": {},
   "outputs": [
    {
     "data": {
      "text/plain": [
       "((146182, 42), (49157, 42))"
      ]
     },
     "execution_count": 13,
     "metadata": {},
     "output_type": "execute_result"
    }
   ],
   "source": [
    "X_train.shape, X_test.shape"
   ]
  },
  {
   "cell_type": "code",
   "execution_count": 14,
   "id": "dc167285",
   "metadata": {},
   "outputs": [],
   "source": [
    "# X_train = tf.keras.preprocessing.sequence.pad_sequences(X_train,\n",
    "#                                                         value=word_to_index[\"<PAD>\"],\n",
    "#                                                         padding='post',\n",
    "#                                                         maxlen=maxlen)\n",
    "\n",
    "# X_test = tf.keras.preprocessing.sequence.pad_sequences(X_test,\n",
    "#                                                        value=word_to_index[\"<PAD>\"],\n",
    "#                                                        padding='post',\n",
    "#                                                        maxlen=maxlen)"
   ]
  },
  {
   "cell_type": "markdown",
   "id": "31046184",
   "metadata": {},
   "source": [
    "## 4) 모델 구성 및 validation set 구성\n",
    "- 모델은 3가지 이상 다양하게 구성하여 실험해 보세요."
   ]
  },
  {
   "cell_type": "code",
   "execution_count": 15,
   "id": "7e3476e2",
   "metadata": {},
   "outputs": [],
   "source": [
    "vocab_size = 10000\n",
    "word_vector_dim = 16"
   ]
  },
  {
   "cell_type": "code",
   "execution_count": 16,
   "id": "79b9f247",
   "metadata": {},
   "outputs": [
    {
     "name": "stdout",
     "output_type": "stream",
     "text": [
      "Model: \"sequential\"\n",
      "_________________________________________________________________\n",
      "Layer (type)                 Output Shape              Param #   \n",
      "=================================================================\n",
      "embedding (Embedding)        (None, None, 16)          160000    \n",
      "_________________________________________________________________\n",
      "lstm (LSTM)                  (None, 12)                1392      \n",
      "_________________________________________________________________\n",
      "dense (Dense)                (None, 12)                156       \n",
      "_________________________________________________________________\n",
      "dense_1 (Dense)              (None, 1)                 13        \n",
      "=================================================================\n",
      "Total params: 161,561\n",
      "Trainable params: 161,561\n",
      "Non-trainable params: 0\n",
      "_________________________________________________________________\n"
     ]
    }
   ],
   "source": [
    "# LSTM 1 + Dense 2\n",
    "\n",
    "model1 = tf.keras.Sequential()\n",
    "model1.add(tf.keras.layers.Embedding(vocab_size, word_vector_dim))\n",
    "model1.add(tf.keras.layers.LSTM(12))   \n",
    "model1.add(tf.keras.layers.Dense(12, activation='relu'))\n",
    "model1.add(tf.keras.layers.Dense(1, activation='sigmoid')) \n",
    "\n",
    "model1.summary()"
   ]
  },
  {
   "cell_type": "code",
   "execution_count": 17,
   "id": "b7ad3f71",
   "metadata": {},
   "outputs": [
    {
     "name": "stdout",
     "output_type": "stream",
     "text": [
      "Model: \"sequential_1\"\n",
      "_________________________________________________________________\n",
      "Layer (type)                 Output Shape              Param #   \n",
      "=================================================================\n",
      "embedding_1 (Embedding)      (None, None, 16)          160000    \n",
      "_________________________________________________________________\n",
      "conv1d (Conv1D)              (None, None, 16)          1808      \n",
      "_________________________________________________________________\n",
      "max_pooling1d (MaxPooling1D) (None, None, 16)          0         \n",
      "_________________________________________________________________\n",
      "conv1d_1 (Conv1D)            (None, None, 16)          1808      \n",
      "_________________________________________________________________\n",
      "global_max_pooling1d (Global (None, 16)                0         \n",
      "_________________________________________________________________\n",
      "dense_2 (Dense)              (None, 8)                 136       \n",
      "_________________________________________________________________\n",
      "dense_3 (Dense)              (None, 1)                 9         \n",
      "=================================================================\n",
      "Total params: 163,761\n",
      "Trainable params: 163,761\n",
      "Non-trainable params: 0\n",
      "_________________________________________________________________\n"
     ]
    }
   ],
   "source": [
    "# using conv-1d\n",
    "\n",
    "model2 = tf.keras.Sequential()\n",
    "model2.add(tf.keras.layers.Embedding(vocab_size, word_vector_dim, input_shape=(None,)))\n",
    "model2.add(tf.keras.layers.Conv1D(16, 7, activation='relu'))\n",
    "model2.add(tf.keras.layers.MaxPooling1D(5))\n",
    "model2.add(tf.keras.layers.Conv1D(16, 7, activation='relu'))\n",
    "model2.add(tf.keras.layers.GlobalMaxPooling1D())\n",
    "model2.add(tf.keras.layers.Dense(8, activation='relu'))\n",
    "model2.add(tf.keras.layers.Dense(1, activation='sigmoid'))\n",
    "\n",
    "model2.summary()"
   ]
  },
  {
   "cell_type": "code",
   "execution_count": 18,
   "id": "9da18b88",
   "metadata": {},
   "outputs": [
    {
     "name": "stdout",
     "output_type": "stream",
     "text": [
      "Model: \"sequential_2\"\n",
      "_________________________________________________________________\n",
      "Layer (type)                 Output Shape              Param #   \n",
      "=================================================================\n",
      "embedding_2 (Embedding)      (None, None, 16)          160000    \n",
      "_________________________________________________________________\n",
      "global_max_pooling1d_1 (Glob (None, 16)                0         \n",
      "_________________________________________________________________\n",
      "dense_4 (Dense)              (None, 8)                 136       \n",
      "_________________________________________________________________\n",
      "dense_5 (Dense)              (None, 1)                 9         \n",
      "=================================================================\n",
      "Total params: 160,145\n",
      "Trainable params: 160,145\n",
      "Non-trainable params: 0\n",
      "_________________________________________________________________\n"
     ]
    }
   ],
   "source": [
    "# only using global max pooling\n",
    "\n",
    "model3 = tf.keras.Sequential()\n",
    "model3.add(tf.keras.layers.Embedding(vocab_size, word_vector_dim, input_shape=(None,)))\n",
    "model3.add(tf.keras.layers.GlobalMaxPooling1D())\n",
    "model3.add(tf.keras.layers.Dense(8, activation='relu'))\n",
    "model3.add(tf.keras.layers.Dense(1, activation='sigmoid'))\n",
    "\n",
    "model3.summary()"
   ]
  },
  {
   "cell_type": "code",
   "execution_count": 19,
   "id": "db1d4441",
   "metadata": {},
   "outputs": [],
   "source": [
    "from sklearn.model_selection import train_test_split\n",
    "X, X_val, y, y_val = train_test_split(X_train, y_train, random_state=42)"
   ]
  },
  {
   "cell_type": "code",
   "execution_count": 20,
   "id": "80b1bbe9",
   "metadata": {},
   "outputs": [],
   "source": [
    "model1.compile(optimizer='adam',\n",
    "              loss='binary_crossentropy',\n",
    "              metrics=['accuracy'])"
   ]
  },
  {
   "cell_type": "code",
   "execution_count": 21,
   "id": "ea4374a0",
   "metadata": {},
   "outputs": [],
   "source": [
    "model2.compile(optimizer='adam',\n",
    "              loss='binary_crossentropy',\n",
    "              metrics=['accuracy'])"
   ]
  },
  {
   "cell_type": "code",
   "execution_count": 22,
   "id": "f61cd1fb",
   "metadata": {},
   "outputs": [],
   "source": [
    "model3.compile(optimizer='adam',\n",
    "              loss='binary_crossentropy',\n",
    "              metrics=['accuracy'])"
   ]
  },
  {
   "cell_type": "markdown",
   "id": "9ae97e95",
   "metadata": {},
   "source": [
    "## 5) 모델 훈련 개시"
   ]
  },
  {
   "cell_type": "code",
   "execution_count": 23,
   "id": "bfabf5d2",
   "metadata": {},
   "outputs": [],
   "source": [
    "epochs = 20"
   ]
  },
  {
   "cell_type": "code",
   "execution_count": 24,
   "id": "7c5ba9df",
   "metadata": {},
   "outputs": [
    {
     "name": "stdout",
     "output_type": "stream",
     "text": [
      "Epoch 1/20\n",
      "215/215 [==============================] - 33s 8ms/step - loss: 0.5616 - accuracy: 0.7373 - val_loss: 0.4503 - val_accuracy: 0.8380\n",
      "Epoch 2/20\n",
      "215/215 [==============================] - 1s 6ms/step - loss: 0.3759 - accuracy: 0.8499 - val_loss: 0.3627 - val_accuracy: 0.8457\n",
      "Epoch 3/20\n",
      "215/215 [==============================] - 1s 6ms/step - loss: 0.3232 - accuracy: 0.8671 - val_loss: 0.3560 - val_accuracy: 0.8481\n",
      "Epoch 4/20\n",
      "215/215 [==============================] - 1s 6ms/step - loss: 0.3045 - accuracy: 0.8759 - val_loss: 0.3560 - val_accuracy: 0.8466\n",
      "Epoch 5/20\n",
      "215/215 [==============================] - 1s 6ms/step - loss: 0.2907 - accuracy: 0.8830 - val_loss: 0.3550 - val_accuracy: 0.8481\n",
      "Epoch 6/20\n",
      "215/215 [==============================] - 1s 6ms/step - loss: 0.2789 - accuracy: 0.8886 - val_loss: 0.3549 - val_accuracy: 0.8480\n",
      "Epoch 7/20\n",
      "215/215 [==============================] - 1s 6ms/step - loss: 0.2671 - accuracy: 0.8945 - val_loss: 0.3638 - val_accuracy: 0.8481\n",
      "Epoch 8/20\n",
      "215/215 [==============================] - 1s 6ms/step - loss: 0.2554 - accuracy: 0.9001 - val_loss: 0.3757 - val_accuracy: 0.8469\n",
      "Epoch 9/20\n",
      "215/215 [==============================] - 1s 6ms/step - loss: 0.2436 - accuracy: 0.9054 - val_loss: 0.3804 - val_accuracy: 0.8451\n",
      "Epoch 10/20\n",
      "215/215 [==============================] - 1s 6ms/step - loss: 0.2316 - accuracy: 0.9115 - val_loss: 0.3986 - val_accuracy: 0.8448\n",
      "Epoch 11/20\n",
      "215/215 [==============================] - 1s 6ms/step - loss: 0.2206 - accuracy: 0.9156 - val_loss: 0.4073 - val_accuracy: 0.8432\n",
      "Epoch 12/20\n",
      "215/215 [==============================] - 1s 6ms/step - loss: 0.2114 - accuracy: 0.9194 - val_loss: 0.4238 - val_accuracy: 0.8441\n",
      "Epoch 13/20\n",
      "215/215 [==============================] - 1s 6ms/step - loss: 0.2011 - accuracy: 0.9238 - val_loss: 0.4364 - val_accuracy: 0.8452\n",
      "Epoch 14/20\n",
      "215/215 [==============================] - 1s 6ms/step - loss: 0.1923 - accuracy: 0.9284 - val_loss: 0.4582 - val_accuracy: 0.8416\n",
      "Epoch 15/20\n",
      "215/215 [==============================] - 1s 6ms/step - loss: 0.1848 - accuracy: 0.9305 - val_loss: 0.4676 - val_accuracy: 0.8388\n",
      "Epoch 16/20\n",
      "215/215 [==============================] - 1s 6ms/step - loss: 0.1769 - accuracy: 0.9351 - val_loss: 0.4961 - val_accuracy: 0.8403\n",
      "Epoch 17/20\n",
      "215/215 [==============================] - 1s 6ms/step - loss: 0.1702 - accuracy: 0.9374 - val_loss: 0.5168 - val_accuracy: 0.8404\n",
      "Epoch 18/20\n",
      "215/215 [==============================] - 1s 6ms/step - loss: 0.1648 - accuracy: 0.9407 - val_loss: 0.5521 - val_accuracy: 0.8380\n",
      "Epoch 19/20\n",
      "215/215 [==============================] - 1s 6ms/step - loss: 0.1590 - accuracy: 0.9430 - val_loss: 0.5310 - val_accuracy: 0.8366\n",
      "Epoch 20/20\n",
      "215/215 [==============================] - 1s 6ms/step - loss: 0.1525 - accuracy: 0.9464 - val_loss: 0.5685 - val_accuracy: 0.8368\n",
      "1537/1537 - 3s - loss: 0.5717 - accuracy: 0.8335\n"
     ]
    }
   ],
   "source": [
    "history1 = model1.fit(X,\n",
    "                    y,\n",
    "                    epochs=epochs,\n",
    "                    batch_size=512,\n",
    "                    validation_data=(X_val, y_val),\n",
    "                    verbose=1)\n",
    "\n",
    "results1 = model1.evaluate(X_test,  y_test, verbose=2)"
   ]
  },
  {
   "cell_type": "code",
   "execution_count": 25,
   "id": "4220d24a",
   "metadata": {},
   "outputs": [
    {
     "name": "stdout",
     "output_type": "stream",
     "text": [
      "Epoch 1/20\n",
      "215/215 [==============================] - 19s 7ms/step - loss: 0.5233 - accuracy: 0.7424 - val_loss: 0.3810 - val_accuracy: 0.8298\n",
      "Epoch 2/20\n",
      "215/215 [==============================] - 1s 5ms/step - loss: 0.3462 - accuracy: 0.8496 - val_loss: 0.3594 - val_accuracy: 0.8418\n",
      "Epoch 3/20\n",
      "215/215 [==============================] - 1s 5ms/step - loss: 0.3105 - accuracy: 0.8685 - val_loss: 0.3582 - val_accuracy: 0.8425\n",
      "Epoch 4/20\n",
      "215/215 [==============================] - 1s 5ms/step - loss: 0.2835 - accuracy: 0.8823 - val_loss: 0.3627 - val_accuracy: 0.8424\n",
      "Epoch 5/20\n",
      "215/215 [==============================] - 1s 5ms/step - loss: 0.2558 - accuracy: 0.8966 - val_loss: 0.3738 - val_accuracy: 0.8414\n",
      "Epoch 6/20\n",
      "215/215 [==============================] - 1s 5ms/step - loss: 0.2276 - accuracy: 0.9104 - val_loss: 0.3931 - val_accuracy: 0.8381\n",
      "Epoch 7/20\n",
      "215/215 [==============================] - 1s 5ms/step - loss: 0.1986 - accuracy: 0.9249 - val_loss: 0.4188 - val_accuracy: 0.8335\n",
      "Epoch 8/20\n",
      "215/215 [==============================] - 1s 5ms/step - loss: 0.1709 - accuracy: 0.9374 - val_loss: 0.4544 - val_accuracy: 0.8305\n",
      "Epoch 9/20\n",
      "215/215 [==============================] - 1s 5ms/step - loss: 0.1470 - accuracy: 0.9479 - val_loss: 0.4848 - val_accuracy: 0.8274\n",
      "Epoch 10/20\n",
      "215/215 [==============================] - 1s 5ms/step - loss: 0.1261 - accuracy: 0.9574 - val_loss: 0.5219 - val_accuracy: 0.8239\n",
      "Epoch 11/20\n",
      "215/215 [==============================] - 1s 5ms/step - loss: 0.1092 - accuracy: 0.9639 - val_loss: 0.5632 - val_accuracy: 0.8214\n",
      "Epoch 12/20\n",
      "215/215 [==============================] - 1s 5ms/step - loss: 0.0955 - accuracy: 0.9695 - val_loss: 0.5955 - val_accuracy: 0.8203\n",
      "Epoch 13/20\n",
      "215/215 [==============================] - 1s 5ms/step - loss: 0.0850 - accuracy: 0.9735 - val_loss: 0.6277 - val_accuracy: 0.8186\n",
      "Epoch 14/20\n",
      "215/215 [==============================] - 1s 5ms/step - loss: 0.0763 - accuracy: 0.9767 - val_loss: 0.6638 - val_accuracy: 0.8159\n",
      "Epoch 15/20\n",
      "215/215 [==============================] - 1s 5ms/step - loss: 0.0700 - accuracy: 0.9785 - val_loss: 0.7062 - val_accuracy: 0.8173\n",
      "Epoch 16/20\n",
      "215/215 [==============================] - 1s 5ms/step - loss: 0.0638 - accuracy: 0.9805 - val_loss: 0.7379 - val_accuracy: 0.8143\n",
      "Epoch 17/20\n",
      "215/215 [==============================] - 1s 5ms/step - loss: 0.0594 - accuracy: 0.9822 - val_loss: 0.7585 - val_accuracy: 0.8146\n",
      "Epoch 18/20\n",
      "215/215 [==============================] - 1s 5ms/step - loss: 0.0555 - accuracy: 0.9838 - val_loss: 0.8038 - val_accuracy: 0.8120\n",
      "Epoch 19/20\n",
      "215/215 [==============================] - 1s 5ms/step - loss: 0.0525 - accuracy: 0.9843 - val_loss: 0.8102 - val_accuracy: 0.8115\n",
      "Epoch 20/20\n",
      "215/215 [==============================] - 1s 5ms/step - loss: 0.0508 - accuracy: 0.9848 - val_loss: 0.8695 - val_accuracy: 0.8105\n",
      "1537/1537 - 3s - loss: 0.8767 - accuracy: 0.8076\n"
     ]
    }
   ],
   "source": [
    "history2 = model2.fit(X,\n",
    "                    y,\n",
    "                    epochs=epochs,\n",
    "                    batch_size=512,\n",
    "                    validation_data=(X_val, y_val),\n",
    "                    verbose=1)\n",
    "\n",
    "results2 = model2.evaluate(X_test,  y_test, verbose=2)"
   ]
  },
  {
   "cell_type": "code",
   "execution_count": 26,
   "id": "e7252efa",
   "metadata": {},
   "outputs": [
    {
     "name": "stdout",
     "output_type": "stream",
     "text": [
      "Epoch 1/20\n",
      "215/215 [==============================] - 1s 4ms/step - loss: 0.5980 - accuracy: 0.7597 - val_loss: 0.4458 - val_accuracy: 0.8192\n",
      "Epoch 2/20\n",
      "215/215 [==============================] - 1s 4ms/step - loss: 0.3824 - accuracy: 0.8374 - val_loss: 0.3669 - val_accuracy: 0.8397\n",
      "Epoch 3/20\n",
      "215/215 [==============================] - 1s 4ms/step - loss: 0.3279 - accuracy: 0.8615 - val_loss: 0.3556 - val_accuracy: 0.8450\n",
      "Epoch 4/20\n",
      "215/215 [==============================] - 1s 4ms/step - loss: 0.2990 - accuracy: 0.8757 - val_loss: 0.3542 - val_accuracy: 0.8469\n",
      "Epoch 5/20\n",
      "215/215 [==============================] - 1s 4ms/step - loss: 0.2774 - accuracy: 0.8863 - val_loss: 0.3585 - val_accuracy: 0.8462\n",
      "Epoch 6/20\n",
      "215/215 [==============================] - 1s 4ms/step - loss: 0.2600 - accuracy: 0.8944 - val_loss: 0.3648 - val_accuracy: 0.8460\n",
      "Epoch 7/20\n",
      "215/215 [==============================] - 1s 4ms/step - loss: 0.2446 - accuracy: 0.9017 - val_loss: 0.3748 - val_accuracy: 0.8434\n",
      "Epoch 8/20\n",
      "215/215 [==============================] - 1s 4ms/step - loss: 0.2315 - accuracy: 0.9080 - val_loss: 0.3848 - val_accuracy: 0.8428\n",
      "Epoch 9/20\n",
      "215/215 [==============================] - 1s 4ms/step - loss: 0.2195 - accuracy: 0.9144 - val_loss: 0.3957 - val_accuracy: 0.8416\n",
      "Epoch 10/20\n",
      "215/215 [==============================] - 1s 4ms/step - loss: 0.2087 - accuracy: 0.9192 - val_loss: 0.4082 - val_accuracy: 0.8413\n",
      "Epoch 11/20\n",
      "215/215 [==============================] - 1s 4ms/step - loss: 0.1991 - accuracy: 0.9240 - val_loss: 0.4198 - val_accuracy: 0.8397\n",
      "Epoch 12/20\n",
      "215/215 [==============================] - 1s 4ms/step - loss: 0.1903 - accuracy: 0.9279 - val_loss: 0.4335 - val_accuracy: 0.8371\n",
      "Epoch 13/20\n",
      "215/215 [==============================] - 1s 4ms/step - loss: 0.1819 - accuracy: 0.9319 - val_loss: 0.4448 - val_accuracy: 0.8359\n",
      "Epoch 14/20\n",
      "215/215 [==============================] - 1s 4ms/step - loss: 0.1743 - accuracy: 0.9360 - val_loss: 0.4597 - val_accuracy: 0.8343\n",
      "Epoch 15/20\n",
      "215/215 [==============================] - 1s 4ms/step - loss: 0.1672 - accuracy: 0.9387 - val_loss: 0.4714 - val_accuracy: 0.8322\n",
      "Epoch 16/20\n",
      "215/215 [==============================] - 1s 4ms/step - loss: 0.1607 - accuracy: 0.9418 - val_loss: 0.4846 - val_accuracy: 0.8321\n",
      "Epoch 17/20\n",
      "215/215 [==============================] - 1s 4ms/step - loss: 0.1549 - accuracy: 0.9445 - val_loss: 0.4986 - val_accuracy: 0.8297\n",
      "Epoch 18/20\n",
      "215/215 [==============================] - 1s 4ms/step - loss: 0.1490 - accuracy: 0.9464 - val_loss: 0.5113 - val_accuracy: 0.8291\n",
      "Epoch 19/20\n",
      "215/215 [==============================] - 1s 4ms/step - loss: 0.1438 - accuracy: 0.9495 - val_loss: 0.5237 - val_accuracy: 0.8283\n",
      "Epoch 20/20\n",
      "215/215 [==============================] - 1s 4ms/step - loss: 0.1390 - accuracy: 0.9516 - val_loss: 0.5382 - val_accuracy: 0.8265\n",
      "1537/1537 - 2s - loss: 0.5492 - accuracy: 0.8213\n"
     ]
    }
   ],
   "source": [
    "history3 = model3.fit(X,\n",
    "                    y,\n",
    "                    epochs=epochs,\n",
    "                    batch_size=512,\n",
    "                    validation_data=(X_val, y_val),\n",
    "                    verbose=1)\n",
    "\n",
    "results3 = model3.evaluate(X_test,  y_test, verbose=2)"
   ]
  },
  {
   "cell_type": "markdown",
   "id": "f5b4a3a7",
   "metadata": {},
   "source": [
    "## 6) Loss, Accuracy 그래프 시각화"
   ]
  },
  {
   "cell_type": "code",
   "execution_count": 28,
   "id": "9784eaf8",
   "metadata": {},
   "outputs": [],
   "source": [
    "import matplotlib.pyplot as plt\n",
    "\n",
    "# 손실과 정확도를 그래프로 그려본다\n",
    "def show_loss_and_accuracy_graph(history):\n",
    "    history_dict = history.history\n",
    "    acc = history_dict['accuracy']\n",
    "    val_acc = history_dict['val_accuracy']\n",
    "    loss = history_dict['loss']\n",
    "    val_loss = history_dict['val_loss']\n",
    "\n",
    "    epochs = range(1, len(acc) + 1)\n",
    "    fig = plt.subplots(2, 1, figsize=(5,8))\n",
    "    \n",
    "    plt.subplot(211)\n",
    "    # \"bo\"는 \"파란색 점\"입니다\n",
    "    plt.plot(epochs, loss, 'bo', label='Training loss')\n",
    "    # b는 \"파란 실선\"입니다\n",
    "    plt.plot(epochs, val_loss, 'b', label='Validation loss')\n",
    "    plt.title('Training and validation loss')\n",
    "    plt.xlabel('Epochs')\n",
    "    plt.ylabel('Loss')\n",
    "    plt.legend()\n",
    "    \n",
    "    plt.subplot(212)\n",
    "    plt.plot(epochs, acc, 'bo', label='Training acc')\n",
    "    plt.plot(epochs, val_acc, 'b', label='Validation acc')\n",
    "    plt.title('Training and validation accuracy')\n",
    "    plt.xlabel('Epochs')\n",
    "    plt.ylabel('Accuracy')\n",
    "    plt.legend()\n",
    "\n",
    "    plt.show()"
   ]
  },
  {
   "cell_type": "code",
   "execution_count": 29,
   "id": "65adcd45",
   "metadata": {},
   "outputs": [
    {
     "data": {
      "image/png": "[encoded data removed]",
      "text/plain": [
       "<Figure size 360x576 with 2 Axes>"
      ]
     },
     "metadata": {
      "needs_background": "light"
     },
     "output_type": "display_data"
    }
   ],
   "source": [
    "show_loss_and_accuracy_graph(history1)"
   ]
  },
  {
   "cell_type": "code",
   "execution_count": 30,
   "id": "e2d85056",
   "metadata": {},
   "outputs": [
    {
     "data": {
      "image/png": "[encoded data removed]",
      "text/plain": [
       "<Figure size 360x576 with 2 Axes>"
      ]
     },
     "metadata": {
      "needs_background": "light"
     },
     "output_type": "display_data"
    }
   ],
   "source": [
    "show_loss_and_accuracy_graph(history2)"
   ]
  },
  {
   "cell_type": "code",
   "execution_count": 31,
   "id": "781dcb53",
   "metadata": {},
   "outputs": [
    {
     "data": {
      "image/png": "[encoded data removed]",
      "text/plain": [
       "<Figure size 360x576 with 2 Axes>"
      ]
     },
     "metadata": {
      "needs_background": "light"
     },
     "output_type": "display_data"
    }
   ],
   "source": [
    "show_loss_and_accuracy_graph(history3)"
   ]
  },
  {
   "cell_type": "markdown",
   "id": "82800df1",
   "metadata": {},
   "source": [
    "3회정도 이후에는 traing loss와 validation loss간의 간격이 벌어지고 accuracy 벌어지는것이 확인됨.(과적합 발생)\n",
    "따라서 20회까지 돌릴 필요가 없고 epoch을 줄여주는것이 현명 할 듯. 추후에는 4~5까지 줄 일 예정"
   ]
  },
  {
   "cell_type": "markdown",
   "id": "073b443c",
   "metadata": {},
   "source": [
    "## 7) 학습된 Embedding 레이어 분석"
   ]
  },
  {
   "cell_type": "code",
   "execution_count": 32,
   "id": "13d7da69",
   "metadata": {},
   "outputs": [],
   "source": [
    "import os\n",
    "\n",
    "# 첫번째 모델의 임베딩 레이어를 가져와서 분석\n",
    "embedding_layer = model1.layers[0]\n",
    "embedding_vectors = embedding_layer.get_weights()[0]\n",
    "word2vec_file_path = os.getenv('HOME')+'/aiffel/sentiment_classification/data/word2vec.txt'\n",
    "f = open(word2vec_file_path, 'w')\n",
    "f.write('{} {}\\n'.format(vocab_size - 4, word_vector_dim)) \n",
    "# 단어 개수(에서 특수문자 4개는 제외하고)만큼의 워드 벡터를 파일에 기록합니다. \n",
    "for i in range(4,vocab_size):\n",
    "    f.write('{} {}\\n'.format(index_to_word[i], ' '.join(map(str, list(embedding_vectors[i, :])))))\n",
    "f.close()"
   ]
  },
  {
   "cell_type": "code",
   "execution_count": 33,
   "id": "80cf1b2b",
   "metadata": {},
   "outputs": [
    {
     "data": {
      "text/plain": [
       "[('원작자', 0.9737907648086548),\n",
       " ('어떤지', 0.9681253433227539),\n",
       " ('그럼에도', 0.9673286080360413),\n",
       " ('게이트', 0.9667692184448242),\n",
       " ('-)', 0.9664754867553711),\n",
       " ('아랫', 0.9657061696052551),\n",
       " ('프랭크', 0.9651712775230408),\n",
       " ('호불호', 0.9613417387008667),\n",
       " ('맷데이먼', 0.9605461955070496),\n",
       " ('명작', 0.9596567153930664)]"
      ]
     },
     "execution_count": 33,
     "metadata": {},
     "output_type": "execute_result"
    }
   ],
   "source": [
    "from gensim.models.keyedvectors import Word2VecKeyedVectors\n",
    "\n",
    "\n",
    "word_vectors = Word2VecKeyedVectors.load_word2vec_format(word2vec_file_path, binary=False)\n",
    "word_vectors.similar_by_word(\"최고\")"
   ]
  },
  {
   "cell_type": "markdown",
   "id": "8dcabb63",
   "metadata": {},
   "source": [
    "딱히 임베딩이 뜻을 잘 담는지 의문임."
   ]
  },
  {
   "cell_type": "markdown",
   "id": "afb3d987",
   "metadata": {},
   "source": [
    "## 8) 한국어 Word2Vec 임베딩 활용하여 성능 개선\n",
    "- 한국어 Word2Vec은 /data 폴더 안에 있는 word2vec_ko.model을 활용하세요.\n",
    "- 한국어 Word2Vec을 활용할 때는 load_word2vec_format() 형태가 아닌 load() 형태로 모델을 불러와주세요. 또한 모델을 활용할 때에는 아래 예시와 같이 .wv를 붙여서 활용합니다. 좀더 자세한 활용법에 대해선 다음 링크들을 참조해주세요. [참고 링크1](https://radimrehurek.com/gensim/auto_examples/tutorials/run_word2vec.html#storing-and-loading-models), [참고 링크2](https://radimrehurek.com/gensim/models/keyedvectors.html)\n",
    "\n",
    "```\n",
    "# 예시 코드\n",
    "from gensim.models.keyedvectors import Word2VecKeyedVectors\n",
    "word_vectors = Word2VecKeyedVectors.load(word2vec_file_path)\n",
    "vector = word_vectors.wv['끝']\n",
    "```"
   ]
  },
  {
   "cell_type": "code",
   "execution_count": 34,
   "id": "bfa1829b",
   "metadata": {},
   "outputs": [],
   "source": [
    "from gensim.models.keyedvectors import Word2VecKeyedVectors\n",
    "word2vec = Word2VecKeyedVectors.load(\n",
    "    os.getenv('HOME') + '/aiffel/sentiment_classification/data/word2vec_ko.model',\n",
    ").wv"
   ]
  },
  {
   "cell_type": "code",
   "execution_count": 35,
   "id": "eb52905a",
   "metadata": {},
   "outputs": [
    {
     "data": {
      "text/plain": [
       "(100,)"
      ]
     },
     "execution_count": 35,
     "metadata": {},
     "output_type": "execute_result"
    }
   ],
   "source": [
    "vector = word2vec['컴퓨터']\n",
    "vector.shape "
   ]
  },
  {
   "cell_type": "code",
   "execution_count": 37,
   "id": "daeae5ec",
   "metadata": {},
   "outputs": [
    {
     "data": {
      "text/plain": [
       "[('역대', 0.6544249653816223),\n",
       " ('최다', 0.6139797568321228),\n",
       " ('최악', 0.6104292273521423),\n",
       " ('최대', 0.6001774072647095),\n",
       " ('최저', 0.5936914682388306),\n",
       " ('정상급', 0.5868951082229614),\n",
       " ('올해', 0.5790539383888245),\n",
       " ('우수', 0.5667292475700378),\n",
       " ('최고령', 0.5547829866409302),\n",
       " ('최초', 0.5517786741256714)]"
      ]
     },
     "execution_count": 37,
     "metadata": {},
     "output_type": "execute_result"
    }
   ],
   "source": [
    "word2vec.similar_by_word(\"최고\")"
   ]
  },
  {
   "cell_type": "code",
   "execution_count": 38,
   "id": "7f369cc0",
   "metadata": {},
   "outputs": [
    {
     "data": {
      "text/plain": [
       "[('하드웨어', 0.806628942489624),\n",
       " ('소프트웨어', 0.7847487330436707),\n",
       " ('컴퓨팅', 0.7836830019950867),\n",
       " ('노트북', 0.7603618502616882),\n",
       " ('가상현실', 0.7591529488563538),\n",
       " ('그래픽스', 0.7564041614532471),\n",
       " ('메인프레임', 0.7557739019393921),\n",
       " ('PC', 0.7514778971672058),\n",
       " ('인공지능', 0.7492970824241638),\n",
       " ('프린터', 0.7475006580352783)]"
      ]
     },
     "execution_count": 38,
     "metadata": {},
     "output_type": "execute_result"
    }
   ],
   "source": [
    "word2vec.similar_by_word(\"컴퓨터\")"
   ]
  },
  {
   "cell_type": "markdown",
   "id": "7d5d356a",
   "metadata": {},
   "source": [
    "사전 학습된 한국어 word2vec은 상당히 의미를 잘 담고 있는것으로 보인다."
   ]
  },
  {
   "cell_type": "code",
   "execution_count": 59,
   "id": "51227af8",
   "metadata": {},
   "outputs": [],
   "source": [
    "from tensorflow.keras.initializers import Constant\n",
    "\n",
    "word2vec_dim = 100\n",
    "\n",
    "def init_embedding_matrix(word2vec, vocab_size, word_dim):\n",
    "    embedding_matrix = np.random.rand(vocab_size, word_dim)\n",
    "    for i in range(4,vocab_size):\n",
    "        if index_to_word[i] in word2vec:\n",
    "            embedding_matrix[i] = word2vec[index_to_word[i]]\n",
    "    return Constant(embedding_matrix)"
   ]
  },
  {
   "cell_type": "code",
   "execution_count": 62,
   "id": "da88ceaa",
   "metadata": {
    "scrolled": true
   },
   "outputs": [
    {
     "name": "stdout",
     "output_type": "stream",
     "text": [
      "Model: \"sequential_6\"\n",
      "_________________________________________________________________\n",
      "Layer (type)                 Output Shape              Param #   \n",
      "=================================================================\n",
      "embedding_6 (Embedding)      (None, 42, 100)           1000000   \n",
      "_________________________________________________________________\n",
      "lstm_3 (LSTM)                (None, 64)                42240     \n",
      "_________________________________________________________________\n",
      "dense_9 (Dense)              (None, 1)                 65        \n",
      "=================================================================\n",
      "Total params: 1,042,305\n",
      "Trainable params: 1,042,305\n",
      "Non-trainable params: 0\n",
      "_________________________________________________________________\n",
      "Epoch 1/5\n",
      "1714/1714 [==============================] - 12s 6ms/step - loss: 0.4216 - accuracy: 0.8032 - val_loss: 0.3481 - val_accuracy: 0.8487\n",
      "Epoch 2/5\n",
      "1714/1714 [==============================] - 10s 6ms/step - loss: 0.3146 - accuracy: 0.8643 - val_loss: 0.3262 - val_accuracy: 0.8565\n",
      "Epoch 3/5\n",
      "1714/1714 [==============================] - 9s 5ms/step - loss: 0.2748 - accuracy: 0.8836 - val_loss: 0.3251 - val_accuracy: 0.8612\n",
      "Epoch 4/5\n",
      "1714/1714 [==============================] - 9s 6ms/step - loss: 0.2453 - accuracy: 0.8984 - val_loss: 0.3254 - val_accuracy: 0.8623\n",
      "Epoch 5/5\n",
      "1714/1714 [==============================] - 10s 6ms/step - loss: 0.2188 - accuracy: 0.9108 - val_loss: 0.3320 - val_accuracy: 0.8633\n",
      "1537/1537 - 3s - loss: 0.3366 - accuracy: 0.8606\n"
     ]
    }
   ],
   "source": [
    "model = tf.keras.Sequential()\n",
    "model.add(tf.keras.layers.Embedding(vocab_size, \n",
    "                word2vec_dim, \n",
    "                embeddings_initializer=init_embedding_matrix(vocab_size, word2vec_dim),\n",
    "                input_length=maxlen, \n",
    "                trainable=True))\n",
    "model.add(tf.keras.layers.LSTM(64))   \n",
    "# model.add(tf.keras.layers.Dense(8, activation='relu'))\n",
    "model.add(tf.keras.layers.Dense(1, activation='sigmoid')) \n",
    "\n",
    "model.summary()\n",
    "model.compile(optimizer='adam',\n",
    "              loss='binary_crossentropy',\n",
    "              metrics=['accuracy'])\n",
    "history = model.fit(X,\n",
    "                    y,\n",
    "                    epochs=5,\n",
    "                    batch_size=64,\n",
    "                    validation_data=(X_val, y_val),\n",
    "                    verbose=1)\n",
    "\n",
    "results = model.evaluate(X_test,  y_test, verbose=2)"
   ]
  },
  {
   "cell_type": "code",
   "execution_count": 63,
   "id": "7be8e9af",
   "metadata": {},
   "outputs": [
    {
     "name": "stdout",
     "output_type": "stream",
     "text": [
      "total loss: 0.3366\taccuracy: 0.861\n"
     ]
    },
    {
     "data": {
      "image/png": "[encoded data removed]",
      "text/plain": [
       "<Figure size 360x576 with 2 Axes>"
      ]
     },
     "metadata": {
      "needs_background": "light"
     },
     "output_type": "display_data"
    }
   ],
   "source": [
    "print(f\"total loss: {results[0]:.4f}\\taccuracy: {results[1]:.3f}\")\n",
    "show_loss_and_accuracy_graph(history)"
   ]
  },
  {
   "cell_type": "markdown",
   "id": "e2106d5d",
   "metadata": {},
   "source": [
    "목표기준이였던 85프로를 훌쩍~? 뛰어넘는 86프로 달성하였다 미션 성공!!"
   ]
  },
  {
   "cell_type": "markdown",
   "id": "b7b08988",
   "metadata": {},
   "source": [
    "## 평가기준\n",
    "- Text classification 3가지 이상의 모델이 성공적으로 시도됨\n",
    "- gensim의 유사단어 찾기를 활용하여 자체학습한 임베딩과 사전학습 임베딩을 비교 분석함\n",
    "- 네이버 영화리뷰 데이터 감성분석 정확도를 85% 이상 달성함"
   ]
  },
  {
   "cell_type": "markdown",
   "id": "2963d97d",
   "metadata": {},
   "source": [
    "회고록 : 어려운 과제였지만, 좋은 코더를 만나서 수월하게 과제를 수행 할 수 있었습니다.\n",
    "전처리 과정에서 Mecab을 통해 형태소 단위로 쪼갠 문자들을 가지고 마음대로 직접 만든 불용어 리스트 등을 만들고, 결측치와 중복 데이터 삭제를 하는 과정들이 저의 손길이 닿은 모델이 나오는 것 같아서 신기한 기분이었습니다.\n",
    "또한 과제의 평가 기준을 위해 노력하면서 여러 하이퍼 파라미터들을 수정하면서 모델에 대한 이해도도 높일 수 있었습니다."
   ]
  }
 ],
 "metadata": {
  "kernelspec": {
   "display_name": "Python 3 (ipykernel)",
   "language": "python",
   "name": "python3"
  },
  "language_info": {
   "codemirror_mode": {
    "name": "ipython",
    "version": 3
   },
   "file_extension": ".py",
   "mimetype": "text/x-python",
   "name": "python",
   "nbconvert_exporter": "python",
   "pygments_lexer": "ipython3",
   "version": "3.9.7"
  }
 },
 "nbformat": 4,
 "nbformat_minor": 5
}
