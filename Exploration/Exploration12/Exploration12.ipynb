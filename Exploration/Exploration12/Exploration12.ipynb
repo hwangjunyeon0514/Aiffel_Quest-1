{
 "cells": [
  {
   "cell_type": "markdown",
   "id": "6212841a",
   "metadata": {},
   "source": [
    "# 뉴스 요약봇 만들기"
   ]
  },
  {
   "cell_type": "markdown",
   "id": "1a5706b2",
   "metadata": {},
   "source": [
    "### 모듈 불러오기"
   ]
  },
  {
   "cell_type": "code",
   "execution_count": 2,
   "id": "dcd66289",
   "metadata": {},
   "outputs": [
    {
     "name": "stderr",
     "output_type": "stream",
     "text": [
      "[nltk_data] Downloading package stopwords to /aiffel/nltk_data...\n",
      "[nltk_data]   Unzipping corpora/stopwords.zip.\n"
     ]
    }
   ],
   "source": [
    "# 뉴스 봇 만들기 \n",
    "# 불용어 제거\n",
    "#NLTK는 Natural Language Toolkit의 축약어로 영어 기호, 통계, 자연어 처리를 위한 라이브러리\n",
    "\n",
    "import nltk\n",
    "nltk.download('stopwords')\n",
    "\n",
    "import numpy as np\n",
    "import pandas as pd\n",
    "import os\n",
    "import re\n",
    "import matplotlib.pyplot as plt\n",
    "from nltk.corpus import stopwords\n",
    "\n",
    "\n",
    "from bs4 import BeautifulSoup \n",
    "\n",
    "from tensorflow.keras.preprocessing.text import Tokenizer \n",
    "from tensorflow.keras.preprocessing.sequence import pad_sequences\n",
    "\n",
    "import urllib.request\n",
    "import warnings\n",
    "warnings.filterwarnings(\"ignore\", category=UserWarning, module='bs4')\n"
   ]
  },
  {
   "cell_type": "code",
   "execution_count": 3,
   "id": "bd85f0a5",
   "metadata": {},
   "outputs": [
    {
     "name": "stdout",
     "output_type": "stream",
     "text": [
      "전체 샘플수 : 98401\n"
     ]
    },
    {
     "data": {
      "text/html": [
       "<div>\n",
       "<style scoped>\n",
       "    .dataframe tbody tr th:only-of-type {\n",
       "        vertical-align: middle;\n",
       "    }\n",
       "\n",
       "    .dataframe tbody tr th {\n",
       "        vertical-align: top;\n",
       "    }\n",
       "\n",
       "    .dataframe thead th {\n",
       "        text-align: right;\n",
       "    }\n",
       "</style>\n",
       "<table border=\"1\" class=\"dataframe\">\n",
       "  <thead>\n",
       "    <tr style=\"text-align: right;\">\n",
       "      <th></th>\n",
       "      <th>headlines</th>\n",
       "      <th>text</th>\n",
       "    </tr>\n",
       "  </thead>\n",
       "  <tbody>\n",
       "    <tr>\n",
       "      <th>0</th>\n",
       "      <td>upGrad learner switches to career in ML &amp; Al w...</td>\n",
       "      <td>Saurav Kant, an alumnus of upGrad and IIIT-B's...</td>\n",
       "    </tr>\n",
       "    <tr>\n",
       "      <th>1</th>\n",
       "      <td>Delhi techie wins free food from Swiggy for on...</td>\n",
       "      <td>Kunal Shah's credit card bill payment platform...</td>\n",
       "    </tr>\n",
       "  </tbody>\n",
       "</table>\n",
       "</div>"
      ],
      "text/plain": [
       "                                           headlines  \\\n",
       "0  upGrad learner switches to career in ML & Al w...   \n",
       "1  Delhi techie wins free food from Swiggy for on...   \n",
       "\n",
       "                                                text  \n",
       "0  Saurav Kant, an alumnus of upGrad and IIIT-B's...  \n",
       "1  Kunal Shah's credit card bill payment platform...  "
      ]
     },
     "execution_count": 3,
     "metadata": {},
     "output_type": "execute_result"
    }
   ],
   "source": [
    "# Review 데이터 불러오기\n",
    "import urllib.request\n",
    "urllib.request.urlretrieve(\"https://raw.githubusercontent.com/sunnysai12345/News_Summary/master/news_summary_more.csv\", filename=\"news_summary_more.csv\")\n",
    "data = pd.read_csv('news_summary_more.csv', encoding='iso-8859-1')\n",
    "#data = pd.read_csv(os.getenv(\"HOME\")+\"/aiffel/news_summarization/data/Reviews.csv\", nrows=100)\n",
    "print('전체 샘플수 :', (len(data)))\n",
    "data.head(2)"
   ]
  },
  {
   "cell_type": "code",
   "execution_count": 4,
   "id": "a58c5988",
   "metadata": {},
   "outputs": [
    {
     "data": {
      "text/html": [
       "<div>\n",
       "<style scoped>\n",
       "    .dataframe tbody tr th:only-of-type {\n",
       "        vertical-align: middle;\n",
       "    }\n",
       "\n",
       "    .dataframe tbody tr th {\n",
       "        vertical-align: top;\n",
       "    }\n",
       "\n",
       "    .dataframe thead th {\n",
       "        text-align: right;\n",
       "    }\n",
       "</style>\n",
       "<table border=\"1\" class=\"dataframe\">\n",
       "  <thead>\n",
       "    <tr style=\"text-align: right;\">\n",
       "      <th></th>\n",
       "      <th>headlines</th>\n",
       "      <th>text</th>\n",
       "    </tr>\n",
       "  </thead>\n",
       "  <tbody>\n",
       "    <tr>\n",
       "      <th>37070</th>\n",
       "      <td>US' separation of migrant kids may amount to t...</td>\n",
       "      <td>The US government's policy of separating migra...</td>\n",
       "    </tr>\n",
       "    <tr>\n",
       "      <th>78274</th>\n",
       "      <td>Digital currencies are an unfounded fad: Billi...</td>\n",
       "      <td>Investment firm Oaktree Capital's Co-chairman ...</td>\n",
       "    </tr>\n",
       "    <tr>\n",
       "      <th>19628</th>\n",
       "      <td>You die of shame: Coach shouted at Tajinderpal...</td>\n",
       "      <td>Shot-putter Tajinderpal Singh's coach MS Dhill...</td>\n",
       "    </tr>\n",
       "    <tr>\n",
       "      <th>38460</th>\n",
       "      <td>Vast improvement in countering J&amp;K insurgency:...</td>\n",
       "      <td>There has been a vast improvement in India's w...</td>\n",
       "    </tr>\n",
       "    <tr>\n",
       "      <th>7437</th>\n",
       "      <td>Alok untraceable after rape FIR filed against ...</td>\n",
       "      <td>Actor Alok Nath has gone missing after a rape ...</td>\n",
       "    </tr>\n",
       "    <tr>\n",
       "      <th>64030</th>\n",
       "      <td>BSE asks brokers for update on clients' Aadhaa...</td>\n",
       "      <td>BSE asked its brokers to submit details about ...</td>\n",
       "    </tr>\n",
       "    <tr>\n",
       "      <th>87686</th>\n",
       "      <td>The term 'women-oriented cinema' is sexist: Ad...</td>\n",
       "      <td>Talking about 'women-oriented cinema', actress...</td>\n",
       "    </tr>\n",
       "    <tr>\n",
       "      <th>40293</th>\n",
       "      <td>Russian cosmonauts play football with 2018 WC ...</td>\n",
       "      <td>Russian cosmonauts Oleg Artemyev and Anton Shk...</td>\n",
       "    </tr>\n",
       "    <tr>\n",
       "      <th>88599</th>\n",
       "      <td>IBM denies reports of firing 5,000 employees i...</td>\n",
       "      <td>IBM on Wednesday said media reports about the ...</td>\n",
       "    </tr>\n",
       "    <tr>\n",
       "      <th>56073</th>\n",
       "      <td>Hyderabad firm booked for cheating SBI of Ã¢Â...</td>\n",
       "      <td>The CBI has booked a case against Hyderabad-ba...</td>\n",
       "    </tr>\n",
       "  </tbody>\n",
       "</table>\n",
       "</div>"
      ],
      "text/plain": [
       "                                               headlines  \\\n",
       "37070  US' separation of migrant kids may amount to t...   \n",
       "78274  Digital currencies are an unfounded fad: Billi...   \n",
       "19628  You die of shame: Coach shouted at Tajinderpal...   \n",
       "38460  Vast improvement in countering J&K insurgency:...   \n",
       "7437   Alok untraceable after rape FIR filed against ...   \n",
       "64030  BSE asks brokers for update on clients' Aadhaa...   \n",
       "87686  The term 'women-oriented cinema' is sexist: Ad...   \n",
       "40293  Russian cosmonauts play football with 2018 WC ...   \n",
       "88599  IBM denies reports of firing 5,000 employees i...   \n",
       "56073  Hyderabad firm booked for cheating SBI of Ã¢Â...   \n",
       "\n",
       "                                                    text  \n",
       "37070  The US government's policy of separating migra...  \n",
       "78274  Investment firm Oaktree Capital's Co-chairman ...  \n",
       "19628  Shot-putter Tajinderpal Singh's coach MS Dhill...  \n",
       "38460  There has been a vast improvement in India's w...  \n",
       "7437   Actor Alok Nath has gone missing after a rape ...  \n",
       "64030  BSE asked its brokers to submit details about ...  \n",
       "87686  Talking about 'women-oriented cinema', actress...  \n",
       "40293  Russian cosmonauts Oleg Artemyev and Anton Shk...  \n",
       "88599  IBM on Wednesday said media reports about the ...  \n",
       "56073  The CBI has booked a case against Hyderabad-ba...  "
      ]
     },
     "execution_count": 4,
     "metadata": {},
     "output_type": "execute_result"
    }
   ],
   "source": [
    "data.sample(10)"
   ]
  },
  {
   "cell_type": "code",
   "execution_count": 7,
   "id": "4a628645",
   "metadata": {},
   "outputs": [
    {
     "data": {
      "text/html": [
       "<div>\n",
       "<style scoped>\n",
       "    .dataframe tbody tr th:only-of-type {\n",
       "        vertical-align: middle;\n",
       "    }\n",
       "\n",
       "    .dataframe tbody tr th {\n",
       "        vertical-align: top;\n",
       "    }\n",
       "\n",
       "    .dataframe thead th {\n",
       "        text-align: right;\n",
       "    }\n",
       "</style>\n",
       "<table border=\"1\" class=\"dataframe\">\n",
       "  <thead>\n",
       "    <tr style=\"text-align: right;\">\n",
       "      <th></th>\n",
       "      <th>Text</th>\n",
       "      <th>headlines</th>\n",
       "    </tr>\n",
       "  </thead>\n",
       "  <tbody>\n",
       "    <tr>\n",
       "      <th>0</th>\n",
       "      <td>Saurav Kant, an alumnus of upGrad and IIIT-B's...</td>\n",
       "      <td>upGrad learner switches to career in ML &amp; Al w...</td>\n",
       "    </tr>\n",
       "    <tr>\n",
       "      <th>1</th>\n",
       "      <td>Kunal Shah's credit card bill payment platform...</td>\n",
       "      <td>Delhi techie wins free food from Swiggy for on...</td>\n",
       "    </tr>\n",
       "    <tr>\n",
       "      <th>2</th>\n",
       "      <td>New Zealand defeated India by 8 wickets in the...</td>\n",
       "      <td>New Zealand end Rohit Sharma-led India's 12-ma...</td>\n",
       "    </tr>\n",
       "    <tr>\n",
       "      <th>3</th>\n",
       "      <td>With Aegon Life iTerm Insurance plan, customer...</td>\n",
       "      <td>Aegon life iTerm insurance plan helps customer...</td>\n",
       "    </tr>\n",
       "    <tr>\n",
       "      <th>4</th>\n",
       "      <td>Speaking about the sexual harassment allegatio...</td>\n",
       "      <td>Have known Hirani for yrs, what if MeToo claim...</td>\n",
       "    </tr>\n",
       "  </tbody>\n",
       "</table>\n",
       "</div>"
      ],
      "text/plain": [
       "                                                Text  \\\n",
       "0  Saurav Kant, an alumnus of upGrad and IIIT-B's...   \n",
       "1  Kunal Shah's credit card bill payment platform...   \n",
       "2  New Zealand defeated India by 8 wickets in the...   \n",
       "3  With Aegon Life iTerm Insurance plan, customer...   \n",
       "4  Speaking about the sexual harassment allegatio...   \n",
       "\n",
       "                                           headlines  \n",
       "0  upGrad learner switches to career in ML & Al w...  \n",
       "1  Delhi techie wins free food from Swiggy for on...  \n",
       "2  New Zealand end Rohit Sharma-led India's 12-ma...  \n",
       "3  Aegon life iTerm insurance plan helps customer...  \n",
       "4  Have known Hirani for yrs, what if MeToo claim...  "
      ]
     },
     "execution_count": 7,
     "metadata": {},
     "output_type": "execute_result"
    }
   ],
   "source": [
    "# 우리는 전체 데이터 중 Summary와 Text 열만 사용\n",
    "data = data.rename(columns={\"text\":\"Text\"})\n",
    "data = data[['Text','headlines']]\n",
    "data.head()"
   ]
  },
  {
   "cell_type": "markdown",
   "id": "0c716346",
   "metadata": {},
   "source": [
    "### 데이터 전처리 - 중복 제거"
   ]
  },
  {
   "cell_type": "code",
   "execution_count": 8,
   "id": "1dd200bc",
   "metadata": {},
   "outputs": [
    {
     "name": "stdout",
     "output_type": "stream",
     "text": [
      "Text 유일한 샘플의 수 : 98360\n",
      "headlines 유일한 샘플의 수 : 98280\n",
      "전체 샘플수 : 98360\n"
     ]
    }
   ],
   "source": [
    "# 데이터 전처리 하기\n",
    "# 데이터 null 값 존재하는 샘플 제거\n",
    "print('Text 유일한 샘플의 수 :', data['Text'].nunique())\n",
    "print('headlines 유일한 샘플의 수 :', data['headlines'].nunique())\n",
    "\n",
    "\n",
    "# headlines 같은 경우에는 간단한 요약이 많아서 겹칠 수 있다.\n",
    "# 하지만 text 같은 경우에는 중복된 경우 제거를 해야한다.\n",
    "# inplace=True 를 설정하면 DataFrame 타입 값을 return 하지 않고 data 내부를 직접적으로 바꿉니다\n",
    "data = data.drop_duplicates(subset = ['Text'])\n",
    "print('전체 샘플수 :', (len(data)))"
   ]
  },
  {
   "cell_type": "markdown",
   "id": "d7ddd374",
   "metadata": {},
   "source": [
    "### 데이터 전처리 - null 제거"
   ]
  },
  {
   "cell_type": "code",
   "execution_count": 9,
   "id": "ece29b4b",
   "metadata": {},
   "outputs": [
    {
     "name": "stdout",
     "output_type": "stream",
     "text": [
      "Text         0\n",
      "headlines    0\n",
      "dtype: int64\n",
      "전체 샘플 수:  98360\n"
     ]
    }
   ],
   "source": [
    "# 중복되는 값은 삭제해 주었지만 여전히 Null 값이 남아 있기 때문에 처리해준다,\n",
    "print(data.isnull().sum())\n",
    "\n",
    "# null 있는 행 제거\n",
    "data = data.dropna(axis = 0)\n",
    "print(\"전체 샘플 수: \",len(data))"
   ]
  },
  {
   "cell_type": "markdown",
   "id": "c4fdcac3",
   "metadata": {},
   "source": [
    "### 데이터 전처리 - 불용어 제거"
   ]
  },
  {
   "cell_type": "code",
   "execution_count": 10,
   "id": "4db9a3e3",
   "metadata": {},
   "outputs": [
    {
     "name": "stdout",
     "output_type": "stream",
     "text": [
      "정규화 사전의 수:  120\n"
     ]
    }
   ],
   "source": [
    "# 텍스트 정규화와 불용어 제거\n",
    "# 의미가 같은 표현은 연상량을 줄이기 위해 미리 같은 표현으로 통일 시켜준다\n",
    "\n",
    "# text dictionary 구성\n",
    "contractions = {\"ain't\": \"is not\", \"aren't\": \"are not\",\"can't\": \"cannot\", \"'cause\": \"because\", \"could've\": \"could have\", \"couldn't\": \"could not\",\n",
    "                           \"didn't\": \"did not\",  \"doesn't\": \"does not\", \"don't\": \"do not\", \"hadn't\": \"had not\", \"hasn't\": \"has not\", \"haven't\": \"have not\",\n",
    "                           \"he'd\": \"he would\",\"he'll\": \"he will\", \"he's\": \"he is\", \"how'd\": \"how did\", \"how'd'y\": \"how do you\", \"how'll\": \"how will\", \"how's\": \"how is\",\n",
    "                           \"I'd\": \"I would\", \"I'd've\": \"I would have\", \"I'll\": \"I will\", \"I'll've\": \"I will have\",\"I'm\": \"I am\", \"I've\": \"I have\", \"i'd\": \"i would\",\n",
    "                           \"i'd've\": \"i would have\", \"i'll\": \"i will\",  \"i'll've\": \"i will have\",\"i'm\": \"i am\", \"i've\": \"i have\", \"isn't\": \"is not\", \"it'd\": \"it would\",\n",
    "                           \"it'd've\": \"it would have\", \"it'll\": \"it will\", \"it'll've\": \"it will have\",\"it's\": \"it is\", \"let's\": \"let us\", \"ma'am\": \"madam\",\n",
    "                           \"mayn't\": \"may not\", \"might've\": \"might have\",\"mightn't\": \"might not\",\"mightn't've\": \"might not have\", \"must've\": \"must have\",\n",
    "                           \"mustn't\": \"must not\", \"mustn't've\": \"must not have\", \"needn't\": \"need not\", \"needn't've\": \"need not have\",\"o'clock\": \"of the clock\",\n",
    "                           \"oughtn't\": \"ought not\", \"oughtn't've\": \"ought not have\", \"shan't\": \"shall not\", \"sha'n't\": \"shall not\", \"shan't've\": \"shall not have\",\n",
    "                           \"she'd\": \"she would\", \"she'd've\": \"she would have\", \"she'll\": \"she will\", \"she'll've\": \"she will have\", \"she's\": \"she is\",\n",
    "                           \"should've\": \"should have\", \"shouldn't\": \"should not\", \"shouldn't've\": \"should not have\", \"so've\": \"so have\",\"so's\": \"so as\",\n",
    "                           \"this's\": \"this is\",\"that'd\": \"that would\", \"that'd've\": \"that would have\", \"that's\": \"that is\", \"there'd\": \"there would\",\n",
    "                           \"there'd've\": \"there would have\", \"there's\": \"there is\", \"here's\": \"here is\",\"they'd\": \"they would\", \"they'd've\": \"they would have\",\n",
    "                           \"they'll\": \"they will\", \"they'll've\": \"they will have\", \"they're\": \"they are\", \"they've\": \"they have\", \"to've\": \"to have\",\n",
    "                           \"wasn't\": \"was not\", \"we'd\": \"we would\", \"we'd've\": \"we would have\", \"we'll\": \"we will\", \"we'll've\": \"we will have\", \"we're\": \"we are\",\n",
    "                           \"we've\": \"we have\", \"weren't\": \"were not\", \"what'll\": \"what will\", \"what'll've\": \"what will have\", \"what're\": \"what are\",\n",
    "                           \"what's\": \"what is\", \"what've\": \"what have\", \"when's\": \"when is\", \"when've\": \"when have\", \"where'd\": \"where did\", \"where's\": \"where is\",\n",
    "                           \"where've\": \"where have\", \"who'll\": \"who will\", \"who'll've\": \"who will have\", \"who's\": \"who is\", \"who've\": \"who have\",\n",
    "                           \"why's\": \"why is\", \"why've\": \"why have\", \"will've\": \"will have\", \"won't\": \"will not\", \"won't've\": \"will not have\",\n",
    "                           \"would've\": \"would have\", \"wouldn't\": \"would not\", \"wouldn't've\": \"would not have\", \"y'all\": \"you all\",\n",
    "                           \"y'all'd\": \"you all would\",\"y'all'd've\": \"you all would have\",\"y'all're\": \"you all are\",\"y'all've\": \"you all have\",\n",
    "                           \"you'd\": \"you would\", \"you'd've\": \"you would have\", \"you'll\": \"you will\", \"you'll've\": \"you will have\",\n",
    "                           \"you're\": \"you are\", \"you've\": \"you have\"}\n",
    "\n",
    "print(\"정규화 사전의 수: \", len(contractions))"
   ]
  },
  {
   "cell_type": "code",
   "execution_count": 11,
   "id": "049df4ff",
   "metadata": {},
   "outputs": [
    {
     "name": "stdout",
     "output_type": "stream",
     "text": [
      "불용어 개수 : 179\n",
      "['i', 'me', 'my', 'myself', 'we', 'our', 'ours', 'ourselves', 'you', \"you're\", \"you've\", \"you'll\", \"you'd\", 'your', 'yours', 'yourself', 'yourselves', 'he', 'him', 'his', 'himself', 'she', \"she's\", 'her', 'hers', 'herself', 'it', \"it's\", 'its', 'itself', 'they', 'them', 'their', 'theirs', 'themselves', 'what', 'which', 'who', 'whom', 'this', 'that', \"that'll\", 'these', 'those', 'am', 'is', 'are', 'was', 'were', 'be', 'been', 'being', 'have', 'has', 'had', 'having', 'do', 'does', 'did', 'doing', 'a', 'an', 'the', 'and', 'but', 'if', 'or', 'because', 'as', 'until', 'while', 'of', 'at', 'by', 'for', 'with', 'about', 'against', 'between', 'into', 'through', 'during', 'before', 'after', 'above', 'below', 'to', 'from', 'up', 'down', 'in', 'out', 'on', 'off', 'over', 'under', 'again', 'further', 'then', 'once', 'here', 'there', 'when', 'where', 'why', 'how', 'all', 'any', 'both', 'each', 'few', 'more', 'most', 'other', 'some', 'such', 'no', 'nor', 'not', 'only', 'own', 'same', 'so', 'than', 'too', 'very', 's', 't', 'can', 'will', 'just', 'don', \"don't\", 'should', \"should've\", 'now', 'd', 'll', 'm', 'o', 're', 've', 'y', 'ain', 'aren', \"aren't\", 'couldn', \"couldn't\", 'didn', \"didn't\", 'doesn', \"doesn't\", 'hadn', \"hadn't\", 'hasn', \"hasn't\", 'haven', \"haven't\", 'isn', \"isn't\", 'ma', 'mightn', \"mightn't\", 'mustn', \"mustn't\", 'needn', \"needn't\", 'shan', \"shan't\", 'shouldn', \"shouldn't\", 'wasn', \"wasn't\", 'weren', \"weren't\", 'won', \"won't\", 'wouldn', \"wouldn't\"]\n"
     ]
    }
   ],
   "source": [
    "# 자연어를 처리할 때 실질적으로 별 도움이 되지 않는 단어들 제거\n",
    "# NLTK에서 제공하는 불용어 리스트를 참조해서 불용어 제거\n",
    "\n",
    "# NLTK에서 미리 정의해서 제공하고 있는 불용어가 179개이다\n",
    "print('불용어 개수 :', len(stopwords.words('english') ))\n",
    "print(stopwords.words('english'))"
   ]
  },
  {
   "cell_type": "markdown",
   "id": "ba18bdac",
   "metadata": {},
   "source": [
    "### 데이터 전처리 함수 -  Sentence"
   ]
  },
  {
   "cell_type": "code",
   "execution_count": 12,
   "id": "be4da367",
   "metadata": {},
   "outputs": [],
   "source": [
    "# 문자는 소문자로 통일, html 태그 제거, 각종 특수문자 제거\n",
    "# 상대적으로 길이가 짧은 headlines 전처리할 때는 호출하지 않는다.\n",
    "# 그 이유는 요약 결과문이 자연스럽게 처리되기 위해서 이다.\n",
    "\n",
    "\n",
    "# 데이터 전처리 함수\n",
    "def preprocess_sentence(sentence, remove_stopwords=True):\n",
    "    sentence = sentence.lower() # 텍스트 소문자화\n",
    "    sentence = BeautifulSoup(sentence, \"lxml\").text # <br />, <a href = ...> 등의 html 태그 제거\n",
    "    sentence = re.sub(r'\\([^)]*\\)', '', sentence) # 괄호로 닫힌 문자열 (...) 제거 Ex) my husband (and myself!) for => my husband for\n",
    "    sentence = re.sub('\"','', sentence) # 쌍따옴표 \" 제거\n",
    "    sentence = ' '.join([contractions[t] if t in contractions else t for t in sentence.split(\" \")]) # 약어 정규화\n",
    "    sentence = re.sub(r\"'s\\b\",\"\", sentence) # 소유격 제거. Ex) roland's -> roland\n",
    "    sentence = re.sub(\"[^a-zA-Z]\", \" \", sentence) # 영어 외 문자(숫자, 특수문자 등) 공백으로 변환\n",
    "    sentence = re.sub('[m]{2,}', 'mm', sentence) # m이 3개 이상이면 2개로 변경. Ex) ummmmmmm yeah -> umm yeah\n",
    "    \n",
    "    # 불용어 제거 (Text)\n",
    "    if remove_stopwords:\n",
    "        tokens = ' '.join(word for word in sentence.split() if not word in stopwords.words('english') if len(word) > 1)\n",
    "    # 불용어 미제거 (headlines)\n",
    "    else:\n",
    "        tokens = ' '.join(word for word in sentence.split() if len(word) > 1)\n",
    "    return tokens"
   ]
  },
  {
   "cell_type": "code",
   "execution_count": 13,
   "id": "0e8c295b",
   "metadata": {},
   "outputs": [
    {
     "name": "stdout",
     "output_type": "stream",
     "text": [
      "text:  everything bought great infact ordered twice third ordered wasfor mother father\n",
      "headlines: great way to start the day\n"
     ]
    }
   ],
   "source": [
    "# 제대로 작동하는지 test\n",
    "temp_text = 'Everything I bought was great, infact I ordered twice and the third ordered was<br />for my mother and father.'\n",
    "temp_summary = 'Great way to start (or finish) the day!!!'\n",
    "\n",
    "\n",
    "print(\"text: \", preprocess_sentence(temp_text))\n",
    "# summary는 불용어를 제거하지 않는다고 했기 때문에 인자에 False를 넣어준다,\n",
    "print(\"headlines:\", preprocess_sentence(temp_summary, False)) "
   ]
  },
  {
   "cell_type": "markdown",
   "id": "e29c6a07",
   "metadata": {},
   "source": [
    "### 데이터 전처리 함수 - Sentences"
   ]
  },
  {
   "cell_type": "code",
   "execution_count": 14,
   "id": "64432db9",
   "metadata": {},
   "outputs": [
    {
     "name": "stdout",
     "output_type": "stream",
     "text": [
      "Text 전처리 후 결과:  ['saurav kant alumnus upgrad iiit pg program machine learning artificial intelligence sr systems engineer infosys almost years work experience program upgrad degree career support helped transition data scientist tech mahindra salary hike upgrad online power learning powered lakh careers', 'kunal shah credit card bill payment platform cred gave users chance win free food swiggy one year pranav kaushik delhi techie bagged reward spending cred coins users get one cred coin per rupee bill paid used avail rewards brands like ixigo bookmyshow ubereats cult fit', 'new zealand defeated india wickets fourth odi hamilton thursday win first match five match odi series india lost international match rohit sharma captaincy consecutive victories dating back march match witnessed india getting seventh lowest total odi cricket history', 'aegon life iterm insurance plan customers enjoy tax benefits premiums paid save taxes plan provides life cover age years also customers options insure critical illnesses disability accidental death benefit rider life cover age years', 'speaking sexual harassment allegations rajkumar hirani sonam kapoor said known hirani many years true metoo movement get derailed metoo movement always believe woman case need reserve judgment added hirani accused assistant worked sanju']\n",
      "\n",
      "headlines 전처리 후 결과:  ['upgrad learner switches to career in ml al with salary hike', 'delhi techie wins free food from swiggy for one year on cred', 'new zealand end rohit sharma led india match winning streak', 'aegon life iterm insurance plan helps customers save tax', 'have known hirani for yrs what if metoo claims are not true sonam']\n"
     ]
    }
   ],
   "source": [
    "# 전체 문장 데이터 전처리 함수\n",
    "def preprocess_sentences(data, col,remove_stopwords=True):\n",
    "    clean_text = []\n",
    "    \n",
    "    # for문으로 모든 문장에 전처리 함수 적용\n",
    "    for text in data[col]:\n",
    "        clean_text.append(preprocess_sentence(text,remove_stopwords))\n",
    "    \n",
    "    # 전처리 후 출력\n",
    "    print(f\"{col} 전처리 후 결과: \", clean_text[:5])\n",
    "    return clean_text\n",
    "\n",
    "clean_text =  preprocess_sentences(data, 'Text',remove_stopwords=True)\n",
    "print(\"\")\n",
    "clean_summary =  preprocess_sentences(data, 'headlines',remove_stopwords=False)\n"
   ]
  },
  {
   "cell_type": "code",
   "execution_count": 101,
   "id": "9f42104f",
   "metadata": {},
   "outputs": [
    {
     "ename": "ValueError",
     "evalue": "Length of values (98360) does not match length of index (96871)",
     "output_type": "error",
     "traceback": [
      "\u001b[0;31m---------------------------------------------------------------------------\u001b[0m",
      "\u001b[0;31mValueError\u001b[0m                                Traceback (most recent call last)",
      "\u001b[0;32m/tmp/ipykernel_31/1603256327.py\u001b[0m in \u001b[0;36m<module>\u001b[0;34m\u001b[0m\n\u001b[1;32m      1\u001b[0m \u001b[0;31m# 정제 과정에서 전처리가 된 후에는 남는 단어가 없어서 빈 샘플이 생성될 수 잇다.\u001b[0m\u001b[0;34m\u001b[0m\u001b[0;34m\u001b[0m\u001b[0m\n\u001b[0;32m----> 2\u001b[0;31m \u001b[0mdata\u001b[0m\u001b[0;34m[\u001b[0m\u001b[0;34m'Text'\u001b[0m\u001b[0;34m]\u001b[0m\u001b[0;34m=\u001b[0m \u001b[0mclean_text\u001b[0m\u001b[0;34m\u001b[0m\u001b[0;34m\u001b[0m\u001b[0m\n\u001b[0m\u001b[1;32m      3\u001b[0m \u001b[0mdata\u001b[0m\u001b[0;34m[\u001b[0m\u001b[0;34m'headlines'\u001b[0m\u001b[0;34m]\u001b[0m \u001b[0;34m=\u001b[0m \u001b[0mclean_summary\u001b[0m\u001b[0;34m\u001b[0m\u001b[0;34m\u001b[0m\u001b[0m\n\u001b[1;32m      4\u001b[0m \u001b[0;34m\u001b[0m\u001b[0m\n\u001b[1;32m      5\u001b[0m \u001b[0;31m# 빈 값을 Null 값으로 변환\u001b[0m\u001b[0;34m\u001b[0m\u001b[0;34m\u001b[0m\u001b[0m\n",
      "\u001b[0;32m/opt/conda/lib/python3.9/site-packages/pandas/core/frame.py\u001b[0m in \u001b[0;36m__setitem__\u001b[0;34m(self, key, value)\u001b[0m\n\u001b[1;32m   3610\u001b[0m         \u001b[0;32melse\u001b[0m\u001b[0;34m:\u001b[0m\u001b[0;34m\u001b[0m\u001b[0;34m\u001b[0m\u001b[0m\n\u001b[1;32m   3611\u001b[0m             \u001b[0;31m# set column\u001b[0m\u001b[0;34m\u001b[0m\u001b[0;34m\u001b[0m\u001b[0m\n\u001b[0;32m-> 3612\u001b[0;31m             \u001b[0mself\u001b[0m\u001b[0;34m.\u001b[0m\u001b[0m_set_item\u001b[0m\u001b[0;34m(\u001b[0m\u001b[0mkey\u001b[0m\u001b[0;34m,\u001b[0m \u001b[0mvalue\u001b[0m\u001b[0;34m)\u001b[0m\u001b[0;34m\u001b[0m\u001b[0;34m\u001b[0m\u001b[0m\n\u001b[0m\u001b[1;32m   3613\u001b[0m \u001b[0;34m\u001b[0m\u001b[0m\n\u001b[1;32m   3614\u001b[0m     \u001b[0;32mdef\u001b[0m \u001b[0m_setitem_slice\u001b[0m\u001b[0;34m(\u001b[0m\u001b[0mself\u001b[0m\u001b[0;34m,\u001b[0m \u001b[0mkey\u001b[0m\u001b[0;34m:\u001b[0m \u001b[0mslice\u001b[0m\u001b[0;34m,\u001b[0m \u001b[0mvalue\u001b[0m\u001b[0;34m)\u001b[0m\u001b[0;34m:\u001b[0m\u001b[0;34m\u001b[0m\u001b[0;34m\u001b[0m\u001b[0m\n",
      "\u001b[0;32m/opt/conda/lib/python3.9/site-packages/pandas/core/frame.py\u001b[0m in \u001b[0;36m_set_item\u001b[0;34m(self, key, value)\u001b[0m\n\u001b[1;32m   3782\u001b[0m         \u001b[0mensure\u001b[0m \u001b[0mhomogeneity\u001b[0m\u001b[0;34m.\u001b[0m\u001b[0;34m\u001b[0m\u001b[0;34m\u001b[0m\u001b[0m\n\u001b[1;32m   3783\u001b[0m         \"\"\"\n\u001b[0;32m-> 3784\u001b[0;31m         \u001b[0mvalue\u001b[0m \u001b[0;34m=\u001b[0m \u001b[0mself\u001b[0m\u001b[0;34m.\u001b[0m\u001b[0m_sanitize_column\u001b[0m\u001b[0;34m(\u001b[0m\u001b[0mvalue\u001b[0m\u001b[0;34m)\u001b[0m\u001b[0;34m\u001b[0m\u001b[0;34m\u001b[0m\u001b[0m\n\u001b[0m\u001b[1;32m   3785\u001b[0m \u001b[0;34m\u001b[0m\u001b[0m\n\u001b[1;32m   3786\u001b[0m         if (\n",
      "\u001b[0;32m/opt/conda/lib/python3.9/site-packages/pandas/core/frame.py\u001b[0m in \u001b[0;36m_sanitize_column\u001b[0;34m(self, value)\u001b[0m\n\u001b[1;32m   4507\u001b[0m \u001b[0;34m\u001b[0m\u001b[0m\n\u001b[1;32m   4508\u001b[0m         \u001b[0;32mif\u001b[0m \u001b[0mis_list_like\u001b[0m\u001b[0;34m(\u001b[0m\u001b[0mvalue\u001b[0m\u001b[0;34m)\u001b[0m\u001b[0;34m:\u001b[0m\u001b[0;34m\u001b[0m\u001b[0;34m\u001b[0m\u001b[0m\n\u001b[0;32m-> 4509\u001b[0;31m             \u001b[0mcom\u001b[0m\u001b[0;34m.\u001b[0m\u001b[0mrequire_length_match\u001b[0m\u001b[0;34m(\u001b[0m\u001b[0mvalue\u001b[0m\u001b[0;34m,\u001b[0m \u001b[0mself\u001b[0m\u001b[0;34m.\u001b[0m\u001b[0mindex\u001b[0m\u001b[0;34m)\u001b[0m\u001b[0;34m\u001b[0m\u001b[0;34m\u001b[0m\u001b[0m\n\u001b[0m\u001b[1;32m   4510\u001b[0m         \u001b[0;32mreturn\u001b[0m \u001b[0msanitize_array\u001b[0m\u001b[0;34m(\u001b[0m\u001b[0mvalue\u001b[0m\u001b[0;34m,\u001b[0m \u001b[0mself\u001b[0m\u001b[0;34m.\u001b[0m\u001b[0mindex\u001b[0m\u001b[0;34m,\u001b[0m \u001b[0mcopy\u001b[0m\u001b[0;34m=\u001b[0m\u001b[0;32mTrue\u001b[0m\u001b[0;34m,\u001b[0m \u001b[0mallow_2d\u001b[0m\u001b[0;34m=\u001b[0m\u001b[0;32mTrue\u001b[0m\u001b[0;34m)\u001b[0m\u001b[0;34m\u001b[0m\u001b[0;34m\u001b[0m\u001b[0m\n\u001b[1;32m   4511\u001b[0m \u001b[0;34m\u001b[0m\u001b[0m\n",
      "\u001b[0;32m/opt/conda/lib/python3.9/site-packages/pandas/core/common.py\u001b[0m in \u001b[0;36mrequire_length_match\u001b[0;34m(data, index)\u001b[0m\n\u001b[1;32m    529\u001b[0m     \"\"\"\n\u001b[1;32m    530\u001b[0m     \u001b[0;32mif\u001b[0m \u001b[0mlen\u001b[0m\u001b[0;34m(\u001b[0m\u001b[0mdata\u001b[0m\u001b[0;34m)\u001b[0m \u001b[0;34m!=\u001b[0m \u001b[0mlen\u001b[0m\u001b[0;34m(\u001b[0m\u001b[0mindex\u001b[0m\u001b[0;34m)\u001b[0m\u001b[0;34m:\u001b[0m\u001b[0;34m\u001b[0m\u001b[0;34m\u001b[0m\u001b[0m\n\u001b[0;32m--> 531\u001b[0;31m         raise ValueError(\n\u001b[0m\u001b[1;32m    532\u001b[0m             \u001b[0;34m\"Length of values \"\u001b[0m\u001b[0;34m\u001b[0m\u001b[0;34m\u001b[0m\u001b[0m\n\u001b[1;32m    533\u001b[0m             \u001b[0;34mf\"({len(data)}) \"\u001b[0m\u001b[0;34m\u001b[0m\u001b[0;34m\u001b[0m\u001b[0m\n",
      "\u001b[0;31mValueError\u001b[0m: Length of values (98360) does not match length of index (96871)"
     ]
    }
   ],
   "source": [
    "# 정제 과정에서 전처리가 된 후에는 남는 단어가 없어서 빈 샘플이 생성될 수 잇다.\n",
    "data['Text']= clean_text\n",
    "data['headlines'] = clean_summary\n",
    "\n",
    "# 빈 값을 Null 값으로 변환\n",
    "data = data.replace('',np.nan)\n",
    "data"
   ]
  },
  {
   "cell_type": "code",
   "execution_count": 16,
   "id": "8cb22f79",
   "metadata": {},
   "outputs": [
    {
     "data": {
      "text/plain": [
       "Text         0\n",
       "headlines    0\n",
       "dtype: int64"
      ]
     },
     "execution_count": 16,
     "metadata": {},
     "output_type": "execute_result"
    }
   ],
   "source": [
    "# 결측치로 잘 대체되었는지 확인\n",
    "data.isnull().sum()"
   ]
  },
  {
   "cell_type": "code",
   "execution_count": 17,
   "id": "a180a36b",
   "metadata": {},
   "outputs": [
    {
     "name": "stdout",
     "output_type": "stream",
     "text": [
      "98360\n"
     ]
    }
   ],
   "source": [
    "# nan값이 아닌 샘플들만 가져오기\n",
    "data = data.dropna(axis=0)\n",
    "print(len(data))"
   ]
  },
  {
   "cell_type": "markdown",
   "id": "bc9c62a2",
   "metadata": {},
   "source": [
    "### 문장 정보 함수"
   ]
  },
  {
   "cell_type": "code",
   "execution_count": 18,
   "id": "ad74c58e",
   "metadata": {},
   "outputs": [],
   "source": [
    "def sentence_info(data,col):\n",
    "    # 각 행의 한 문장씩 split하여 길이 정보를 저장함\n",
    "    text_len = [len(s.split()) for s in data[col]]\n",
    "\n",
    "    # 저장한 길이 정보를 토대로 최대, 최소 ,평균을 구함\n",
    "    print(f'{col}의 최소 길이 : {np.min(text_len)}')\n",
    "    print(f'{col}의 최대 길이 : {np.max(text_len)}')\n",
    "    print(f'{col}의 평균 길이 : {np.mean(text_len)}')\n",
    "    \n",
    "    return text_len"
   ]
  },
  {
   "cell_type": "code",
   "execution_count": 19,
   "id": "69739cf3",
   "metadata": {},
   "outputs": [
    {
     "name": "stdout",
     "output_type": "stream",
     "text": [
      "Text의 최소 길이 : 1\n",
      "Text의 최대 길이 : 60\n",
      "Text의 평균 길이 : 35.09968483123221\n",
      "headlines의 최소 길이 : 1\n",
      "headlines의 최대 길이 : 16\n",
      "headlines의 평균 길이 : 9.299532330215534\n"
     ]
    },
    {
     "data": {
      "image/png": "[encoded data removed]",
      "text/plain": [
       "<Figure size 432x288 with 2 Axes>"
      ]
     },
     "metadata": {
      "needs_background": "light"
     },
     "output_type": "display_data"
    },
    {
     "data": {
      "image/png": "[encoded data removed]",
      "text/plain": [
       "<Figure size 432x288 with 1 Axes>"
      ]
     },
     "metadata": {
      "needs_background": "light"
     },
     "output_type": "display_data"
    },
    {
     "data": {
      "image/png": "[encoded data removed]",
      "text/plain": [
       "<Figure size 432x288 with 1 Axes>"
      ]
     },
     "metadata": {
      "needs_background": "light"
     },
     "output_type": "display_data"
    }
   ],
   "source": [
    "# 샘플의 최대 길이 정하기\n",
    "# 문장의 사작과 끝 표시해주기\n",
    "\n",
    "# 길이 분포 출력\n",
    "import matplotlib.pyplot as plt\n",
    "\n",
    "# 문장의 길이정보를 토대로 최대 최소 평균\n",
    "text_len = sentence_info(data,'Text')\n",
    "summary_len = sentence_info(data,'headlines')\n",
    "\n",
    "\n",
    "# text 정보 시각화\n",
    "plt.subplot(1,2,1)\n",
    "plt.boxplot(text_len)\n",
    "plt.title('Text')\n",
    "plt.subplot(1,2,2)\n",
    "plt.boxplot(summary_len)\n",
    "plt.title('headlines')\n",
    "plt.tight_layout()\n",
    "plt.show()\n",
    "\n",
    "plt.title('Text')\n",
    "plt.hist(text_len, bins = 50)\n",
    "plt.xlabel('length of samples')\n",
    "plt.ylabel('number of samples')\n",
    "plt.show()\n",
    "\n",
    "plt.title('headlines')\n",
    "plt.hist(summary_len, bins = 50)\n",
    "plt.xlabel('length of samples')\n",
    "plt.ylabel('number of samples')\n",
    "plt.show()"
   ]
  },
  {
   "cell_type": "code",
   "execution_count": 107,
   "id": "af5b77ff",
   "metadata": {},
   "outputs": [],
   "source": [
    "# 최대 길이에 대한 차이 존재\n",
    "# text의 경우 대체적으로 평균 길이는 38, 대체적으로 100내외의 길이\n",
    "# headlines 경우 최대 길이가 28 , 평균 길이가 4, 대체적으로 10이하의 길이\n",
    "\n",
    "\n",
    "# 임의의 길이\n",
    "text_max_len = 40\n",
    "summary_max_len = 10"
   ]
  },
  {
   "cell_type": "markdown",
   "id": "76d07303",
   "metadata": {},
   "source": [
    "### 길이를 토대로 샘플의 해당 비율 출력 함수"
   ]
  },
  {
   "cell_type": "code",
   "execution_count": 108,
   "id": "c8265e95",
   "metadata": {},
   "outputs": [
    {
     "name": "stdout",
     "output_type": "stream",
     "text": [
      "전체 샘플 중 길이가 40 이하인 샘플의 비율: 1.0\n",
      "전체 샘플 중 길이가 10 이하인 샘플의 비율: 0.8254191033138402\n"
     ]
    }
   ],
   "source": [
    "# 우리가 선택한 임의의 길이를 가지고 데이터를 살펴보면 얼마나 데이터가 해당될까\n",
    "def below_threshold_len(max_len, nested_list):\n",
    "  cnt = 0\n",
    "\n",
    "  for s in nested_list:\n",
    "    if(len(s.split()) <= max_len):\n",
    "        cnt = cnt + 1\n",
    "  print('전체 샘플 중 길이가 %s 이하인 샘플의 비율: %s'%(max_len, (cnt / len(nested_list))))\n",
    "\n",
    "\n",
    "below_threshold_len(text_max_len, data['Text'])\n",
    "below_threshold_len(summary_max_len,  data['headlines'])"
   ]
  },
  {
   "cell_type": "code",
   "execution_count": 109,
   "id": "a3be6733",
   "metadata": {},
   "outputs": [
    {
     "data": {
      "text/plain": [
       "74102"
      ]
     },
     "execution_count": 109,
     "metadata": {},
     "output_type": "execute_result"
    }
   ],
   "source": [
    "# text는 23%의 샘플이 정보가 손실되는 것이다\n",
    "# 따라서 max len보다 긴 샘플들은 제거\n",
    "\n",
    "data = data[data['Text'].apply(lambda x : len(x.split()) <= text_max_len)]\n",
    "data = data[data['headlines'].apply(lambda x : len(x.split()) <= summary_max_len)]\n",
    "len(data)"
   ]
  },
  {
   "cell_type": "code",
   "execution_count": 110,
   "id": "8df677d4",
   "metadata": {},
   "outputs": [
    {
     "data": {
      "text/html": [
       "<div>\n",
       "<style scoped>\n",
       "    .dataframe tbody tr th:only-of-type {\n",
       "        vertical-align: middle;\n",
       "    }\n",
       "\n",
       "    .dataframe tbody tr th {\n",
       "        vertical-align: top;\n",
       "    }\n",
       "\n",
       "    .dataframe thead th {\n",
       "        text-align: right;\n",
       "    }\n",
       "</style>\n",
       "<table border=\"1\" class=\"dataframe\">\n",
       "  <thead>\n",
       "    <tr style=\"text-align: right;\">\n",
       "      <th></th>\n",
       "      <th>Text</th>\n",
       "      <th>headlines</th>\n",
       "      <th>decoder_input</th>\n",
       "      <th>decoder_target</th>\n",
       "    </tr>\n",
       "  </thead>\n",
       "  <tbody>\n",
       "    <tr>\n",
       "      <th>2</th>\n",
       "      <td>new zealand defeated india wickets fourth odi ...</td>\n",
       "      <td>new zealand end rohit sharma led india match w...</td>\n",
       "      <td>sostoken new zealand end rohit sharma led indi...</td>\n",
       "      <td>new zealand end rohit sharma led india match w...</td>\n",
       "    </tr>\n",
       "    <tr>\n",
       "      <th>3</th>\n",
       "      <td>aegon life iterm insurance plan customers enjo...</td>\n",
       "      <td>aegon life iterm insurance plan helps customer...</td>\n",
       "      <td>sostoken aegon life iterm insurance plan helps...</td>\n",
       "      <td>aegon life iterm insurance plan helps customer...</td>\n",
       "    </tr>\n",
       "    <tr>\n",
       "      <th>5</th>\n",
       "      <td>pakistani singer rahat fateh ali khan denied r...</td>\n",
       "      <td>rahat fateh ali khan denies getting notice for...</td>\n",
       "      <td>sostoken rahat fateh ali khan denies getting n...</td>\n",
       "      <td>rahat fateh ali khan denies getting notice for...</td>\n",
       "    </tr>\n",
       "    <tr>\n",
       "      <th>9</th>\n",
       "      <td>congress candidate shafia zubair ramgarh assem...</td>\n",
       "      <td>cong wins ramgarh bypoll in rajasthan takes to...</td>\n",
       "      <td>sostoken cong wins ramgarh bypoll in rajasthan...</td>\n",
       "      <td>cong wins ramgarh bypoll in rajasthan takes to...</td>\n",
       "    </tr>\n",
       "    <tr>\n",
       "      <th>10</th>\n",
       "      <td>two minor cousins uttar pradesh gorakhpur alle...</td>\n",
       "      <td>up cousins fed human excreta for friendship wi...</td>\n",
       "      <td>sostoken up cousins fed human excreta for frie...</td>\n",
       "      <td>up cousins fed human excreta for friendship wi...</td>\n",
       "    </tr>\n",
       "  </tbody>\n",
       "</table>\n",
       "</div>"
      ],
      "text/plain": [
       "                                                 Text  \\\n",
       "2   new zealand defeated india wickets fourth odi ...   \n",
       "3   aegon life iterm insurance plan customers enjo...   \n",
       "5   pakistani singer rahat fateh ali khan denied r...   \n",
       "9   congress candidate shafia zubair ramgarh assem...   \n",
       "10  two minor cousins uttar pradesh gorakhpur alle...   \n",
       "\n",
       "                                            headlines  \\\n",
       "2   new zealand end rohit sharma led india match w...   \n",
       "3   aegon life iterm insurance plan helps customer...   \n",
       "5   rahat fateh ali khan denies getting notice for...   \n",
       "9   cong wins ramgarh bypoll in rajasthan takes to...   \n",
       "10  up cousins fed human excreta for friendship wi...   \n",
       "\n",
       "                                        decoder_input  \\\n",
       "2   sostoken new zealand end rohit sharma led indi...   \n",
       "3   sostoken aegon life iterm insurance plan helps...   \n",
       "5   sostoken rahat fateh ali khan denies getting n...   \n",
       "9   sostoken cong wins ramgarh bypoll in rajasthan...   \n",
       "10  sostoken up cousins fed human excreta for frie...   \n",
       "\n",
       "                                       decoder_target  \n",
       "2   new zealand end rohit sharma led india match w...  \n",
       "3   aegon life iterm insurance plan helps customer...  \n",
       "5   rahat fateh ali khan denies getting notice for...  \n",
       "9   cong wins ramgarh bypoll in rajasthan takes to...  \n",
       "10  up cousins fed human excreta for friendship wi...  "
      ]
     },
     "execution_count": 110,
     "metadata": {},
     "output_type": "execute_result"
    }
   ],
   "source": [
    "# 시작과 종료 토큰 추가하기\n",
    "# 디코더의 입ㄺ과 레이블에 시작토큰과 종료 토큰을 추가해줘야 한다\n",
    "\n",
    "# 시작토큰 sostoken\n",
    "# 종료 토큰 eostoken\n",
    "# decoder의 입력, 시작 토큰이 맨 앞에 있는 문장 이름 decoder input\n",
    "# decoder의 입력, 종료 토큰이 맨 뒤에 있는 문장 이름 decoder target\n",
    "# 두 문장 모두 headlines 열로 만든다\n",
    "\n",
    "data['decoder_input'] = data['headlines'].apply(lambda x : 'sostoken '+ x)\n",
    "data['decoder_target'] = data['headlines'].apply(lambda x : x + ' eostoken')\n",
    "data.head()"
   ]
  },
  {
   "cell_type": "code",
   "execution_count": 159,
   "id": "16eaa3e3",
   "metadata": {},
   "outputs": [],
   "source": [
    "# text sentence은 encoder의 input 데이터\n",
    "encoder_input = np.array(data['Text']) # 인코더의 입력\n",
    "\n",
    "# token이 붙은 decoder의 input과 target 데이터\n",
    "decoder_input = np.array(data['decoder_input']) # 디코더의 입력\n",
    "decoder_target = np.array(data['decoder_target']) # 디코더의 레이블"
   ]
  },
  {
   "cell_type": "markdown",
   "id": "10bb2bad",
   "metadata": {},
   "source": [
    "### Shuffle train test 데이터 생성 함수"
   ]
  },
  {
   "cell_type": "code",
   "execution_count": 160,
   "id": "24e217f1",
   "metadata": {},
   "outputs": [
    {
     "name": "stdout",
     "output_type": "stream",
     "text": [
      "훈련 데이터의 개수 : 59282\n",
      "훈련 레이블의 개수 : 59282\n",
      "테스트 데이터의 개수 : 14820\n",
      "테스트 레이블의 개수 : 14820\n"
     ]
    }
   ],
   "source": [
    "def train_test_data_shuffle(encoder_input_len,encoder_input,decoder_input,decoder_target):\n",
    "    # encoder의 input값 만큼 인덱스를 생성한다\n",
    "    indices = np.arange(encoder_input_len)\n",
    "    # indices를 섞는다\n",
    "    np.random.shuffle(indices)\n",
    "\n",
    "\n",
    "    # 원본 데이터 세트를 섞은 index 값이 담겨있는 list로 섞어준다\n",
    "    encoder_input = encoder_input[indices]\n",
    "    decoder_input = decoder_input[indices]\n",
    "    decoder_target = decoder_target[indices]\n",
    "\n",
    "    # 데이터를 8 : 2 비율로 분리\n",
    "    n_of_val = int(len(encoder_input)*0.2)\n",
    "\n",
    "    # 테스트 데이터 범위를 제외하고 train 데이터 만들기\n",
    "    encoder_input_train = encoder_input[:-n_of_val]\n",
    "    decoder_input_train = decoder_input[:-n_of_val]\n",
    "    decoder_target_train = decoder_target[:-n_of_val]\n",
    "\n",
    "    encoder_input_test = encoder_input[-n_of_val:]\n",
    "    decoder_input_test = decoder_input[-n_of_val:]\n",
    "    decoder_target_test = decoder_target[-n_of_val:]\n",
    "\n",
    "    print('훈련 데이터의 개수 :', len(encoder_input_train))\n",
    "    print('훈련 레이블의 개수 :', len(decoder_input_train))\n",
    "    print('테스트 데이터의 개수 :', len(encoder_input_test))\n",
    "    print('테스트 레이블의 개수 :', len(decoder_input_test))\n",
    "      \n",
    "    return encoder_input_train, decoder_input_train,decoder_target_train,encoder_input_test,decoder_input_test,decoder_target_test\n",
    "\n",
    "\n",
    "encoder_input_train,\\\n",
    "decoder_input_train,\\\n",
    "decoder_target_train,\\\n",
    "encoder_input_test,\\\n",
    "decoder_input_test,\\\n",
    "decoder_target_test=train_test_data_shuffle(encoder_input.shape[0],\n",
    "                                            encoder_input,\n",
    "                                            decoder_input,\n",
    "                                            decoder_target)"
   ]
  },
  {
   "cell_type": "markdown",
   "id": "daf3ba30",
   "metadata": {},
   "source": [
    "### 단어 집합의 정보 출력 함수"
   ]
  },
  {
   "cell_type": "code",
   "execution_count": 161,
   "id": "0243d18f",
   "metadata": {},
   "outputs": [],
   "source": [
    "# 정수 인코딩하기\n",
    "# 텍스트 데이터를 숫자로 처리할 수 있도록 훈련 데이터와테스트 데이터의단어 정수로 변경\n",
    "# 단어 집합 만들기\n",
    "\n",
    "def word_set_ratio(threshold, data):\n",
    "\n",
    "    # Keras  토크나이저\n",
    "    tokenizer = Tokenizer() \n",
    "    # 입력된 데이터로부터 단어 집합 생성\n",
    "    tokenizer.fit_on_texts(data) \n",
    "    # 단어에 고유한 정수 부여\n",
    "    # 단어 집합이 생성 src_tokenizer.word_index에 저장\n",
    "    # 빈도수가 낮은 단어들은 훈련 데이터에서 제외\n",
    "\n",
    "\n",
    "    # 등장 빈도수 7번\n",
    "    threshold = threshold\n",
    "    total_cnt = len(tokenizer.word_index) # 단어의 수\n",
    "\n",
    "\n",
    "    # 등장 빈도수가 threshold보다 작은 단어의 개수를 카운트\n",
    "    rare_cnt = 0 \n",
    "    # 훈련 데이터의 전체 단어 빈도수 총 합\n",
    "    total_freq = 0 \n",
    "    # 등장 빈도수가 threshold보다 작은 단어의 등장 빈도수의 총 합\n",
    "    rare_freq = 0 \n",
    "\n",
    "\n",
    "    # 단어와 빈도수의 쌍(pair)을 key와 value로 받는다.\n",
    "    for key, value in tokenizer.word_counts.items():\n",
    "        total_freq = total_freq + value\n",
    "\n",
    "        # 단어의 등장 빈도수가 threshold보다 작으면\n",
    "        if(value < threshold):\n",
    "            rare_cnt = rare_cnt + 1\n",
    "            rare_freq = rare_freq + value\n",
    "\n",
    "    print('단어 집합(vocabulary)의 크기 :', total_cnt)\n",
    "    print('등장 빈도가 %s번 이하인 희귀 단어의 수: %s'%(threshold - 1, rare_cnt))\n",
    "    print('단어 집합에서 희귀 단어를 제외시킬 경우의 단어 집합의 크기 %s'%(total_cnt - rare_cnt))\n",
    "    print(\"단어 집합에서 희귀 단어의 비율:\", (rare_cnt / total_cnt)*100)\n",
    "    print(\"전체 등장 빈도에서 희귀 단어 등장 빈도 비율:\", (rare_freq / total_freq)*100)\n",
    "    print(\"==============================================================================\")\n"
   ]
  },
  {
   "cell_type": "code",
   "execution_count": 162,
   "id": "723852e7",
   "metadata": {},
   "outputs": [
    {
     "name": "stdout",
     "output_type": "stream",
     "text": [
      "encoder input train\n",
      "단어 집합(vocabulary)의 크기 : 61707\n",
      "등장 빈도가 4번 이하인 희귀 단어의 수: 38619\n",
      "단어 집합에서 희귀 단어를 제외시킬 경우의 단어 집합의 크기 23088\n",
      "단어 집합에서 희귀 단어의 비율: 62.584471777918225\n",
      "전체 등장 빈도에서 희귀 단어 등장 빈도 비율: 3.1988030040033215\n",
      "==============================================================================\n",
      "decoder input train\n",
      "단어 집합(vocabulary)의 크기 : 27288\n",
      "등장 빈도가 3번 이하인 희귀 단어의 수: 15763\n",
      "단어 집합에서 희귀 단어를 제외시킬 경우의 단어 집합의 크기 11525\n",
      "단어 집합에서 희귀 단어의 비율: 57.765318088537086\n",
      "전체 등장 빈도에서 희귀 단어 등장 빈도 비율: 4.085351728398239\n",
      "==============================================================================\n"
     ]
    }
   ],
   "source": [
    "# 단어 집합의 정보\n",
    "print(\"encoder input train\")\n",
    "word_set_ratio(5, encoder_input_train)\n",
    "print(\"decoder input train\")\n",
    "word_set_ratio(4, decoder_input_train)"
   ]
  },
  {
   "cell_type": "code",
   "execution_count": 163,
   "id": "8e6039ac",
   "metadata": {},
   "outputs": [],
   "source": [
    "def size_limit_text2seq(vocab_limit, input_train, input_test, target_train, target_test):\n",
    "    src_vocab = vocab_limit\n",
    "\n",
    "    # Check if target_train and target_test are empty arrays\n",
    "    if not target_train.any() and not target_test.any():\n",
    "        src_tokenizer = Tokenizer(num_words=src_vocab) \n",
    "        src_tokenizer.fit_on_texts(input_train)\n",
    "        # encoder 텍스트 시퀀스를 정수 시퀀스로 변환\n",
    "        encoder_input_train = src_tokenizer.texts_to_sequences(input_train) \n",
    "        encoder_input_test = src_tokenizer.texts_to_sequences(input_test)\n",
    "        \n",
    "        # Print a few samples to check progress\n",
    "        # print(encoder_input_train[:3])\n",
    "\n",
    "        return src_tokenizer, encoder_input_train, encoder_input_test\n",
    "    else:\n",
    "        tar_vocab = vocab_limit  # Assuming tar_vocab should also be set to vocab_limit\n",
    "        tar_tokenizer = Tokenizer(num_words=tar_vocab)\n",
    "        tar_tokenizer.fit_on_texts(input_train)\n",
    "        tar_tokenizer.fit_on_texts(target_train)\n",
    "        # 텍스트 시퀀스를 정수 시퀀스로 변환, 반환값 list\n",
    "        decoder_input_train = tar_tokenizer.texts_to_sequences(input_train) \n",
    "        decoder_target_train = tar_tokenizer.texts_to_sequences(target_train)\n",
    "        decoder_input_test = tar_tokenizer.texts_to_sequences(input_test)\n",
    "        decoder_target_test = tar_tokenizer.texts_to_sequences(target_test)\n",
    "\n",
    "        return tar_tokenizer, decoder_input_train, decoder_target_train, decoder_input_test, decoder_target_test\n",
    "\n",
    "# Example usage\n",
    "src_tokenizer, encoder_input_train, encoder_input_test = size_limit_text2seq(23000, encoder_input_train, encoder_input_test, np.array([]), np.array([]))\n",
    "tar_tokenizer,decoder_input_train, decoder_target_train, decoder_input_test, decoder_target_test = size_limit_text2seq(12000, decoder_input_train, decoder_input_test, decoder_target_train,decoder_target_test)\n"
   ]
  },
  {
   "cell_type": "code",
   "execution_count": 164,
   "id": "92d7df99",
   "metadata": {},
   "outputs": [
    {
     "name": "stdout",
     "output_type": "stream",
     "text": [
      "삭제할 훈련 데이터의 개수 : 0\n",
      "삭제할 테스트 데이터의 개수 : 1\n",
      "훈련 데이터의 개수 : 59282\n",
      "훈련 레이블의 개수 : 59282\n",
      "테스트 데이터의 개수 : 14819\n",
      "테스트 레이블의 개수 : 14819\n"
     ]
    }
   ],
   "source": [
    "# 이전과 동일하게 전처리를 해주고 나서 데이터를 삭제하고 나면\n",
    "# 빈도수가 낮은 단어가 많이 포함되었던 샘플들은 빈 샘플이 될 가능성이 있다.\n",
    "\n",
    "# 또 추가한 토큰도 모든 sentence에 있기 때문에 빈도수 높은 단어에 해당한다\n",
    "# 따라서 집합 제한에서도 삭제되지 않는다.\n",
    "# 빈 샘플의 요약문은 길이가 1개로 나올 것이다.\n",
    "\n",
    "# drop할 index를 list에 저장\n",
    "drop_train = [index for index, sentence in enumerate(decoder_input_train) if len(sentence) == 1]\n",
    "drop_test = [index for index, sentence in enumerate(decoder_input_test) if len(sentence) == 1]\n",
    "\n",
    "print('삭제할 훈련 데이터의 개수 :', len(drop_train))\n",
    "print('삭제할 테스트 데이터의 개수 :', len(drop_test))\n",
    "\n",
    "\n",
    "def drop_sentence(index_list, data):\n",
    "    temp = [sentence \n",
    "          for index, sentence in enumerate(data) \n",
    "          if index not in index_list]\n",
    "    return temp\n",
    "\n",
    "encoder_input_train = drop_sentence(drop_train,encoder_input_train)\n",
    "decoder_input_train = drop_sentence(drop_train,decoder_input_train)\n",
    "decoder_target_train = drop_sentence(drop_train,decoder_target_train)\n",
    "\n",
    "encoder_input_test = drop_sentence(drop_test,encoder_input_test)\n",
    "decoder_input_test = drop_sentence(drop_test,decoder_input_test)\n",
    "decoder_target_test = drop_sentence(drop_test,decoder_target_test)\n",
    "\n",
    "\n",
    "print('훈련 데이터의 개수 :', len(encoder_input_train))\n",
    "print('훈련 레이블의 개수 :', len(decoder_input_train))\n",
    "print('테스트 데이터의 개수 :', len(encoder_input_test))\n",
    "print('테스트 레이블의 개수 :', len(decoder_input_test))"
   ]
  },
  {
   "cell_type": "code",
   "execution_count": 165,
   "id": "7cd45964",
   "metadata": {},
   "outputs": [
    {
     "name": "stdout",
     "output_type": "stream",
     "text": [
      "훈련 데이터의 개수 : 59282\n",
      "훈련 레이블의 개수 : 59282\n",
      "테스트 데이터의 개수 : 14819\n",
      "테스트 레이블의 개수 : 14819\n"
     ]
    }
   ],
   "source": [
    "# 패딩하기\n",
    "# 패딩을 하는 이유는 서로 다른 길이의 샘플들을 병렬 처리하기 위해서 이다.\n",
    "\n",
    "\n",
    "# post에 padding\n",
    "encoder_input_train = pad_sequences(encoder_input_train, maxlen=text_max_len, padding='post')\n",
    "encoder_input_test = pad_sequences(encoder_input_test, maxlen=text_max_len, padding='post')\n",
    "decoder_input_train = pad_sequences(decoder_input_train, maxlen=summary_max_len, padding='post')\n",
    "decoder_target_train = pad_sequences(decoder_target_train, maxlen=summary_max_len, padding='post')\n",
    "decoder_input_test = pad_sequences(decoder_input_test, maxlen=summary_max_len, padding='post')\n",
    "decoder_target_test = pad_sequences(decoder_target_test, maxlen=summary_max_len, padding='post')\n",
    "\n",
    "print('훈련 데이터의 개수 :', len(encoder_input_train))\n",
    "print('훈련 레이블의 개수 :', len(decoder_input_train))\n",
    "print('테스트 데이터의 개수 :', len(encoder_input_test))\n",
    "print('테스트 레이블의 개수 :', len(decoder_input_test))"
   ]
  },
  {
   "cell_type": "markdown",
   "id": "74d485a7",
   "metadata": {},
   "source": [
    "### 모델 설계하기"
   ]
  },
  {
   "cell_type": "code",
   "execution_count": 280,
   "id": "13524a1e",
   "metadata": {},
   "outputs": [],
   "source": [
    "# LSTM으로 인코더 디코더 설계하기\n",
    "\n",
    "from tensorflow.keras.layers import Input, LSTM, Embedding, Dense, Concatenate, TimeDistributed\n",
    "from tensorflow.keras.models import Model\n",
    "from tensorflow.keras.callbacks import EarlyStopping, ModelCheckpoint\n",
    "\n",
    "\n",
    "# 인코더 설계 시작\n",
    "embedding_dim = 300\n",
    "# hidden state는 얼마만큼의 수용력을 가질지 정하는 파라미터\n",
    "hidden_size = 128\n",
    "\n",
    "# 인코더\n",
    "encoder_inputs = Input(shape=(text_max_len,))\n",
    "src_vocab = 23000\n",
    "# 인코더의 임베딩 층\n",
    "enc_emb = Embedding(src_vocab, embedding_dim)(encoder_inputs)\n",
    "\n",
    "# 인코더의 LSTM 1\n",
    "# encoder_lstm1 = LSTM(hidden_size, return_sequences=True, return_state=True ,dropout = 0.4, recurrent_dropout = 0.4)\n",
    "encoder_lstm1 = LSTM(hidden_size, return_sequences=True, return_state=True ,dropout = 0.5)\n",
    "encoder_output1, state_h1, state_c1 = encoder_lstm1(enc_emb)\n",
    "\n",
    "# 인코더의 LSTM 2\n",
    "encoder_lstm2 = LSTM(hidden_size, return_sequences=True, return_state=True)\n",
    "encoder_output2, state_h2, state_c2 = encoder_lstm2(encoder_output1)\n",
    "\n",
    "# 인코더의 LSTM 3\n",
    "encoder_lstm3 = LSTM(hidden_size, return_sequences=True, return_state=True ,dropout = 0.5)\n",
    "encoder_output3, state_h3, state_c3 = encoder_lstm2(encoder_output2)"
   ]
  },
  {
   "cell_type": "code",
   "execution_count": 281,
   "id": "9ff790a2",
   "metadata": {},
   "outputs": [],
   "source": [
    "# 디코더 설계\n",
    "decoder_inputs = Input(shape=(None,))\n",
    "tar_vocab =12000\n",
    "# 디코더의 임베딩 층\n",
    "dec_emb_layer = Embedding(tar_vocab, embedding_dim)\n",
    "dec_emb = dec_emb_layer(decoder_inputs)\n",
    "\n",
    "# 디코더의 LSTM\n",
    "# decoder_lstm = LSTM(hidden_size, return_sequences=True, return_state=True, dropout=0.4, recurrent_dropout=0.2)\n",
    "decoder_lstm = LSTM(hidden_size, return_sequences=True, return_state=True, dropout=0.4)\n",
    "\n",
    "\n",
    "# initial state의 인자값으로 hidden state와 cell state 값을 넣어주어야 한다\n",
    "# 아마도 인코더에서 생성한 값들을 디코더로 넘겨주는 과정인 것 같다\n",
    "decoder_outputs, _, _ = decoder_lstm(dec_emb, initial_state=[state_h3, state_c3])"
   ]
  },
  {
   "cell_type": "code",
   "execution_count": 282,
   "id": "65f1e2db",
   "metadata": {},
   "outputs": [
    {
     "name": "stdout",
     "output_type": "stream",
     "text": [
      "Model: \"model_31\"\n",
      "__________________________________________________________________________________________________\n",
      "Layer (type)                    Output Shape         Param #     Connected to                     \n",
      "==================================================================================================\n",
      "input_44 (InputLayer)           [(None, 40)]         0                                            \n",
      "__________________________________________________________________________________________________\n",
      "embedding_32 (Embedding)        (None, 40, 300)      6900000     input_44[0][0]                   \n",
      "__________________________________________________________________________________________________\n",
      "lstm_66 (LSTM)                  [(None, 40, 128), (N 219648      embedding_32[0][0]               \n",
      "__________________________________________________________________________________________________\n",
      "input_45 (InputLayer)           [(None, None)]       0                                            \n",
      "__________________________________________________________________________________________________\n",
      "lstm_67 (LSTM)                  [(None, 40, 128), (N 131584      lstm_66[0][0]                    \n",
      "                                                                 lstm_67[0][0]                    \n",
      "__________________________________________________________________________________________________\n",
      "embedding_33 (Embedding)        (None, None, 300)    3600000     input_45[0][0]                   \n",
      "__________________________________________________________________________________________________\n",
      "lstm_69 (LSTM)                  [(None, None, 128),  219648      embedding_33[0][0]               \n",
      "                                                                 lstm_67[1][1]                    \n",
      "                                                                 lstm_67[1][2]                    \n",
      "__________________________________________________________________________________________________\n",
      "dense_28 (Dense)                (None, None, 12000)  1548000     lstm_69[0][0]                    \n",
      "==================================================================================================\n",
      "Total params: 12,618,880\n",
      "Trainable params: 12,618,880\n",
      "Non-trainable params: 0\n",
      "__________________________________________________________________________________________________\n"
     ]
    }
   ],
   "source": [
    "# 디코더의 출력층 \n",
    "decoder_softmax_layer = Dense(tar_vocab, activation='softmax')\n",
    "decoder_softmax_outputs = decoder_softmax_layer(decoder_outputs) \n",
    "\n",
    "# 모델 정의\n",
    "model = Model([encoder_inputs, decoder_inputs], decoder_softmax_outputs)\n",
    "model.summary()"
   ]
  },
  {
   "cell_type": "markdown",
   "id": "93233d43",
   "metadata": {},
   "source": [
    "### Attention 메커니즘을 도입한 모델"
   ]
  },
  {
   "cell_type": "code",
   "execution_count": 283,
   "id": "403a76c4",
   "metadata": {},
   "outputs": [
    {
     "name": "stdout",
     "output_type": "stream",
     "text": [
      "Model: \"model_32\"\n",
      "__________________________________________________________________________________________________\n",
      "Layer (type)                    Output Shape         Param #     Connected to                     \n",
      "==================================================================================================\n",
      "input_44 (InputLayer)           [(None, 40)]         0                                            \n",
      "__________________________________________________________________________________________________\n",
      "embedding_32 (Embedding)        (None, 40, 300)      6900000     input_44[0][0]                   \n",
      "__________________________________________________________________________________________________\n",
      "lstm_66 (LSTM)                  [(None, 40, 128), (N 219648      embedding_32[0][0]               \n",
      "__________________________________________________________________________________________________\n",
      "input_45 (InputLayer)           [(None, None)]       0                                            \n",
      "__________________________________________________________________________________________________\n",
      "lstm_67 (LSTM)                  [(None, 40, 128), (N 131584      lstm_66[0][0]                    \n",
      "                                                                 lstm_67[0][0]                    \n",
      "__________________________________________________________________________________________________\n",
      "embedding_33 (Embedding)        (None, None, 300)    3600000     input_45[0][0]                   \n",
      "__________________________________________________________________________________________________\n",
      "lstm_69 (LSTM)                  [(None, None, 128),  219648      embedding_33[0][0]               \n",
      "                                                                 lstm_67[1][1]                    \n",
      "                                                                 lstm_67[1][2]                    \n",
      "__________________________________________________________________________________________________\n",
      "attention_layer (AdditiveAttent (None, None, 128)    128         lstm_69[0][0]                    \n",
      "                                                                 lstm_67[1][0]                    \n",
      "__________________________________________________________________________________________________\n",
      "concat_layer (Concatenate)      (None, None, 256)    0           lstm_69[0][0]                    \n",
      "                                                                 attention_layer[0][0]            \n",
      "__________________________________________________________________________________________________\n",
      "dense_29 (Dense)                (None, None, 12000)  3084000     concat_layer[0][0]               \n",
      "==================================================================================================\n",
      "Total params: 14,155,008\n",
      "Trainable params: 14,155,008\n",
      "Non-trainable params: 0\n",
      "__________________________________________________________________________________________________\n"
     ]
    }
   ],
   "source": [
    "# 디코더 출력층에서는 다중 클래스 분류 문제를 풀어야 한다.\n",
    "# 따라서 Dense의 인자로 tar vocab을 주고 활성화함수를 소프트맥스로 사용한다\n",
    "\n",
    "# 어텐션 메커니즘의 도입 - Bahdanau 스타일의 어텐션\n",
    "from tensorflow.keras.layers import AdditiveAttention\n",
    "\n",
    "# 어텐션 층(어텐션 함수)\n",
    "attn_layer = AdditiveAttention(name='attention_layer')\n",
    "\n",
    "\n",
    "# 인코더와 디코더의 모든 time step의 hidden state를 어텐션 층에 전달하고 결과를 리턴\n",
    "# 디코덕가 각 인코더의 hidden state에 얼마나 주의를 기울여야 하는지를 가중치로 나타낸다\n",
    "# 전달하는 값은 모든 타임 스텝에 대한 hidden state\n",
    "attn_out = attn_layer([decoder_outputs, encoder_output3])\n",
    "\n",
    "\n",
    "# 어텐션의 결과와 디코더의 hidden state들을 연결\n",
    "# 디코더의 현 스텝에서 hidden state에 대한 가중합을 계산하는데,\n",
    "# 이때 인코더의 hidden state를 기준으로 가중치를 계산한다\n",
    "# 첫번째 입력 디코더 현재 타임 스텝에 대한 hidden state\n",
    "# 두번 째 입력으로 전달 인코더의 모든 타임 스텝에 대한 hidden state\n",
    "decoder_concat_input = Concatenate(axis=-1, name='concat_layer')([decoder_outputs, attn_out])\n",
    "\n",
    "\n",
    "# 디코더의 출력층\n",
    "decoder_softmax_layer = Dense(tar_vocab, activation='softmax')\n",
    "decoder_softmax_outputs = decoder_softmax_layer(decoder_concat_input)\n",
    "\n",
    "\n",
    "# 모델 정의\n",
    "model = Model([encoder_inputs, decoder_inputs], decoder_softmax_outputs)\n",
    "model.summary()"
   ]
  },
  {
   "cell_type": "code",
   "execution_count": 284,
   "id": "162ebdfe",
   "metadata": {},
   "outputs": [
    {
     "data": {
      "text/plain": [
       "array([[3563, 1284,  172, ...,   81,    2,    0],\n",
       "       [  34,   33,   26, ...,    2,    0,    0],\n",
       "       [3353,   76,    4, ..., 1629,    2,    0],\n",
       "       ...,\n",
       "       [1236,    8,    5, ...,   14, 4571,    2],\n",
       "       [  65,   86, 3317, ...,   17, 2860,    2],\n",
       "       [  11, 2077,   53, ...,  893,    2,    0]], dtype=int32)"
      ]
     },
     "execution_count": 284,
     "metadata": {},
     "output_type": "execute_result"
    }
   ],
   "source": [
    "decoder_target_train"
   ]
  },
  {
   "cell_type": "code",
   "execution_count": 285,
   "id": "51505fc5",
   "metadata": {},
   "outputs": [],
   "source": [
    "# 모델 컴파일\n",
    "model.compile(optimizer='Adam', \n",
    "              loss='sparse_categorical_crossentropy')\n",
    "\n",
    "es = EarlyStopping(monitor='val_loss',\n",
    "                   patience=9, \n",
    "                   verbose=1)\n"
   ]
  },
  {
   "cell_type": "code",
   "execution_count": 286,
   "id": "6deb392a",
   "metadata": {},
   "outputs": [
    {
     "name": "stdout",
     "output_type": "stream",
     "text": [
      "Epoch 1/100\n",
      "232/232 [==============================] - 18s 57ms/step - loss: 6.7715 - val_loss: 6.2299\n",
      "Epoch 2/100\n",
      "232/232 [==============================] - 12s 53ms/step - loss: 6.2151 - val_loss: 6.0387\n",
      "Epoch 3/100\n",
      "232/232 [==============================] - 12s 54ms/step - loss: 5.9411 - val_loss: 5.7080\n",
      "Epoch 4/100\n",
      "232/232 [==============================] - 13s 54ms/step - loss: 5.5104 - val_loss: 5.3242\n",
      "Epoch 5/100\n",
      "232/232 [==============================] - 13s 55ms/step - loss: 5.1368 - val_loss: 5.0825\n",
      "Epoch 6/100\n",
      "232/232 [==============================] - 13s 56ms/step - loss: 4.8444 - val_loss: 4.8995\n",
      "Epoch 7/100\n",
      "232/232 [==============================] - 13s 56ms/step - loss: 4.5968 - val_loss: 4.7621\n",
      "Epoch 8/100\n",
      "232/232 [==============================] - 13s 55ms/step - loss: 4.3812 - val_loss: 4.6502\n",
      "Epoch 9/100\n",
      "232/232 [==============================] - 13s 55ms/step - loss: 4.1897 - val_loss: 4.5655\n",
      "Epoch 10/100\n",
      "232/232 [==============================] - 13s 55ms/step - loss: 4.0221 - val_loss: 4.4958\n",
      "Epoch 11/100\n",
      "232/232 [==============================] - 13s 55ms/step - loss: 3.8737 - val_loss: 4.4495\n",
      "Epoch 12/100\n",
      "232/232 [==============================] - 13s 55ms/step - loss: 3.7395 - val_loss: 4.4079\n",
      "Epoch 13/100\n",
      "232/232 [==============================] - 13s 55ms/step - loss: 3.6165 - val_loss: 4.3805\n",
      "Epoch 14/100\n",
      "232/232 [==============================] - 13s 55ms/step - loss: 3.5043 - val_loss: 4.3577\n",
      "Epoch 15/100\n",
      "232/232 [==============================] - 13s 55ms/step - loss: 3.4003 - val_loss: 4.3396\n",
      "Epoch 16/100\n",
      "232/232 [==============================] - 13s 55ms/step - loss: 3.3003 - val_loss: 4.3304\n",
      "Epoch 17/100\n",
      "232/232 [==============================] - 13s 55ms/step - loss: 3.2089 - val_loss: 4.3245\n",
      "Epoch 18/100\n",
      "232/232 [==============================] - 13s 55ms/step - loss: 3.1223 - val_loss: 4.3147\n",
      "Epoch 19/100\n",
      "232/232 [==============================] - 13s 55ms/step - loss: 3.0390 - val_loss: 4.3159\n",
      "Epoch 20/100\n",
      "232/232 [==============================] - 13s 55ms/step - loss: 2.9619 - val_loss: 4.3169\n",
      "Epoch 21/100\n",
      "232/232 [==============================] - 13s 55ms/step - loss: 2.8870 - val_loss: 4.3166\n",
      "Epoch 22/100\n",
      "232/232 [==============================] - 13s 55ms/step - loss: 2.8159 - val_loss: 4.3264\n",
      "Epoch 23/100\n",
      "232/232 [==============================] - 13s 55ms/step - loss: 2.7482 - val_loss: 4.3273\n",
      "Epoch 24/100\n",
      "232/232 [==============================] - 13s 55ms/step - loss: 2.6840 - val_loss: 4.3382\n",
      "Epoch 25/100\n",
      "232/232 [==============================] - 13s 55ms/step - loss: 2.6227 - val_loss: 4.3450\n",
      "Epoch 26/100\n",
      "232/232 [==============================] - 13s 55ms/step - loss: 2.5632 - val_loss: 4.3632\n",
      "Epoch 27/100\n",
      "232/232 [==============================] - 13s 55ms/step - loss: 2.5093 - val_loss: 4.3693\n",
      "Epoch 00027: early stopping\n"
     ]
    }
   ],
   "source": [
    "history = model.fit(x=[encoder_input_train, decoder_input_train], y=decoder_target_train, \\\n",
    "          validation_data=([encoder_input_test, decoder_input_test], decoder_target_test), \\\n",
    "          batch_size=256, callbacks=[es], epochs=100)"
   ]
  },
  {
   "cell_type": "code",
   "execution_count": 287,
   "id": "83213931",
   "metadata": {},
   "outputs": [
    {
     "data": {
      "image/png": "[encoded data removed]",
      "text/plain": [
       "<Figure size 432x288 with 1 Axes>"
      ]
     },
     "metadata": {
      "needs_background": "light"
     },
     "output_type": "display_data"
    }
   ],
   "source": [
    "# history loss 값 시각화\n",
    "plt.plot(history.history['loss'], label='train')\n",
    "plt.plot(history.history['val_loss'], label='test')\n",
    "plt.legend()\n",
    "plt.show()"
   ]
  },
  {
   "cell_type": "markdown",
   "id": "2e237ff2",
   "metadata": {},
   "source": [
    "### 텍스트 데이터를 실제 데이터로 복원하기"
   ]
  },
  {
   "cell_type": "code",
   "execution_count": 194,
   "id": "05128032",
   "metadata": {},
   "outputs": [],
   "source": [
    "# 원문 단어 집합에서 정수 -> 단어를 얻음\n",
    "src_index_to_word = src_tokenizer.index_word \n",
    "\n",
    "# 요약 단어 집합에서 단어 -> 정수를 얻음\n",
    "tar_word_to_index = tar_tokenizer.word_index\n",
    "\n",
    "\n",
    "# 요약 단어 집합에서 정수 -> 단어를 얻음\n",
    "tar_index_to_word = tar_tokenizer.index_word \n",
    "\n",
    "\n"
   ]
  },
  {
   "cell_type": "code",
   "execution_count": 195,
   "id": "69f4859b",
   "metadata": {},
   "outputs": [],
   "source": [
    "# 정답이 없는 요약 문제를 생성하기 위해서는 실제 동작할 때의 방식이 다르므로\n",
    "# 인퍼런스 모델 설계를 별도로 해주어야 한다\n",
    "\n",
    "# 인코더 설계\n",
    "encoder_model = Model(inputs=encoder_inputs, outputs=[encoder_output3, state_h3, state_c3])\n",
    "\n",
    "# 이전 시점의 상태들을 저장하는 텐서\n",
    "decoder_state_input_h = Input(shape=(hidden_size,))\n",
    "decoder_state_input_c = Input(shape=(hidden_size,))\n",
    "\n",
    "dec_emb2 = dec_emb_layer(decoder_inputs)\n",
    "\n",
    "# 문장의 다음 단어를 예측하기 위해서 초기 상태(initial_state)를 이전 시점의 상태로 사용. 이는 뒤의 함수 decode_sequence()에 구현\n",
    "# 훈련 과정에서와 달리 LSTM의 리턴하는 은닉 상태와 셀 상태인 state_h와 state_c를 버리지 않음.\n",
    "decoder_outputs2, state_h2, state_c2 = decoder_lstm(dec_emb2, initial_state=[decoder_state_input_h, decoder_state_input_c])\n"
   ]
  },
  {
   "cell_type": "code",
   "execution_count": 196,
   "id": "b91818c3",
   "metadata": {},
   "outputs": [],
   "source": [
    "# 어텐션 함수\n",
    "decoder_hidden_state_input = Input(shape=(text_max_len, hidden_size))\n",
    "attn_out_inf = attn_layer([decoder_outputs2, decoder_hidden_state_input])\n",
    "decoder_inf_concat = Concatenate(axis=-1, name='concat')([decoder_outputs2, attn_out_inf])\n",
    "\n",
    "# 디코더의 출력층\n",
    "decoder_outputs2 = decoder_softmax_layer(decoder_inf_concat) \n",
    "\n",
    "# 최종 디코더 모델\n",
    "decoder_model = Model(\n",
    "    [decoder_inputs] + [decoder_hidden_state_input,decoder_state_input_h, decoder_state_input_c],\n",
    "    [decoder_outputs2] + [state_h2, state_c2])\n"
   ]
  },
  {
   "cell_type": "code",
   "execution_count": 197,
   "id": "4f6ebe0d",
   "metadata": {},
   "outputs": [],
   "source": [
    "def decode_sequence(input_seq):\n",
    "    # 입력으로부터 인코더의 상태를 얻음\n",
    "    e_out, e_h, e_c = encoder_model.predict(input_seq)\n",
    "\n",
    "     # <SOS>에 해당하는 토큰 생성\n",
    "    target_seq = np.zeros((1,1))\n",
    "    target_seq[0, 0] = tar_word_to_index['sostoken']\n",
    "\n",
    "    stop_condition = False\n",
    "    decoded_sentence = ''\n",
    "    while not stop_condition: # stop_condition이 True가 될 때까지 루프 반복\n",
    "\n",
    "        output_tokens, h, c = decoder_model.predict([target_seq] + [e_out, e_h, e_c])\n",
    "        sampled_token_index = np.argmax(output_tokens[0, -1, :])\n",
    "        sampled_token = tar_index_to_word[sampled_token_index]\n",
    "\n",
    "        if (sampled_token!='eostoken'):\n",
    "            decoded_sentence += ' '+sampled_token\n",
    "\n",
    "        #  <eos>에 도달하거나 최대 길이를 넘으면 중단.\n",
    "        if (sampled_token == 'eostoken'  or len(decoded_sentence.split()) >= (summary_max_len-1)):\n",
    "            stop_condition = True\n",
    "\n",
    "        # 길이가 1인 타겟 시퀀스를 업데이트\n",
    "        target_seq = np.zeros((1,1))\n",
    "        target_seq[0, 0] = sampled_token_index\n",
    "\n",
    "        # 상태를 업데이트 합니다.\n",
    "        e_h, e_c = h, c\n",
    "\n",
    "    return decoded_sentence"
   ]
  },
  {
   "cell_type": "code",
   "execution_count": 198,
   "id": "e54b3a0a",
   "metadata": {},
   "outputs": [],
   "source": [
    "# 정수 시퀀스를 텍스트 시퀀스로 변환하여 결과를 확인\n",
    "# 원문의 정수 시퀀스를 텍스트 시퀀스로 변환\n",
    "def seq2text(input_seq):\n",
    "    temp=''\n",
    "    for i in input_seq:\n",
    "        if (i!=0):\n",
    "            temp = temp + src_index_to_word[i]+' '\n",
    "    return temp\n",
    "\n",
    "\n",
    "# 요약문의 정수 시퀀스를 텍스트 시퀀스로 변환\n",
    "def seq2summary(input_seq):\n",
    "    temp=''\n",
    "    for i in input_seq:\n",
    "        if (i!=0) and (i !=1 ) and (i !=2) :\n",
    "            temp = temp + src_index_to_word[i]+' '\n",
    "    return temp\n",
    "\n"
   ]
  },
  {
   "cell_type": "code",
   "execution_count": 199,
   "id": "00c4ae5d",
   "metadata": {},
   "outputs": [
    {
     "name": "stdout",
     "output_type": "stream",
     "text": [
      "원문 : federal judge dismissed defamation lawsuit filed pornstar stormy daniels donald trump us president called reacting trump remark daniels called tiny lawyer tweeted disgusting embarrassment united states daniels claims sexual relationship trump \n",
      "실제 요약 : last data pink overbooked gurdwara \n",
      "예측 요약 :  trump lawyer files lawsuit against trump over sexual harassment\n",
      "\n",
      "\n",
      "원문 : letter paying tribute late actress sridevi union minister smriti irani wrote farewell star whose last words ring true forever else would irani revealed sridevi said thanked sridevi attending international film festival india goa november \n",
      "실제 요약 : cctv medical aimed long dogs year second added young happy \n",
      "예측 요약 :  anupam kher to make sridevi in tubelight\n",
      "\n",
      "\n",
      "원문 : indian batsman shikhar dhawan revealed celebration taking catch field inspired sport kabaddi dhawan said australia took shane watson catch since likes watch kabaddi adopted celebration kabaddi sport dhawan said \n",
      "실제 요약 : champion beginning polls old cabin tennis \n",
      "예측 요약 :  dhawan takes catch to catch with his skills\n",
      "\n",
      "\n",
      "원문 : tibetan spiritual leader dalai lama sunday said india china ability destroy added whether two countries like live side side spiritual leader living india self imposed exile since \n",
      "실제 요약 : government day chief director universities birthday debut judges youngest \n",
      "예측 요약 :  india china should be resolved by china china\n",
      "\n",
      "\n",
      "원문 : cab hailing startup uber raised billion japan softbank led team investors according reports shares purchased existing shareholders value uber approximately billion roughly discount startup recent valuation billion reports added team uber softbank holding largest stake \n",
      "실제 요약 : without google elections kind experience year elections bjp \n",
      "예측 요약 :  uber may buy ola rival for billion from softbank\n",
      "\n",
      "\n",
      "원문 : white house press secretary sarah sanders said god wanted donald trump become president adding god calls us fill different roles different times think done tremendous job supporting lot things people faith really care added \n",
      "실제 요약 : common fashion last year right air always times \n",
      "예측 요약 :  trump will never be good for presidency trump\n",
      "\n",
      "\n",
      "원문 : board australia largest bank commonwealth bank australia scrapped short term bonuses ceo ian senior executives comes government sued bank allegedly breaching money laundering terrorism financing laws times received million short term bonus fiscal year ended june \n",
      "실제 요약 : ever maharashtra match arrest officials sections indian massive thursday \n",
      "예측 요약 :  bank of baroda ceo resigns after years\n",
      "\n",
      "\n",
      "원문 : asian american man described racial slur outlet american fast food chain bell philadelphia young lee gave name steve avoid hassle spell real name branded steve food receipt cashier bell fired worker \n",
      "실제 요약 : emergency peace people objects procure two minister nuclear incorporated \n",
      "예측 요약 :  burger king slammed for racist slur on airbnb\n",
      "\n",
      "\n",
      "원문 : facebook co founder ceo mark zuckerberg created family messaging system called years old system used father dental office could inform patient without shouting also used family communicate within house notably zuckerberg turned sunday \n",
      "실제 요약 : addressing protesting use fighters hair two duty \n",
      "예측 요약 :  zuckerberg to launch his name\n",
      "\n",
      "\n",
      "원문 : hyperloop one achieved record speed kmph metre nevada track testing full scale pod week test pod could achieve kmph earlier month final hyperloop system expected reach kmph hyperloop one pods use electromagnetic propulsion magnetic levitation travel near vacuum tubes \n",
      "실제 요약 : marketing saying hashmi high iit also involving added claimed wrote \n",
      "예측 요약 :  india first gen achieves record for kmph in days\n",
      "\n",
      "\n",
      "원문 : first indian woman wrestler appear wwe kavita devi fought wearing salwar kameez first round young classic wwe first woman competition former competitive powerlifter however lost dakota encounter kavita made tournament performance wwe dubai earlier year \n",
      "실제 요약 : reports usa initiated pistol whether cena added crowd \n",
      "예측 요약 :  wwe wrestler gets first wwe wrestler in first day\n",
      "\n",
      "\n",
      "원문 : india installed power capacity formed non fossil fuels like nuclear hydroelectric power plants according government third national electricity plan coal currently accounts india energy capacity india total renewable capacity surpass coal based capacity according plan \n",
      "실제 요약 : also government shop fortis film discovered narayana old \n",
      "예측 요약 :  india may buy gas plants in antarctica\n",
      "\n",
      "\n",
      "원문 : co producer wonder woman jon revealed along film director patty jenkins already planning make another great wonder woman film patty writing treatment right blast making patty first time got cool idea second one added \n",
      "실제 요약 : priyanka year six forced crew coalition based around bowler \n",
      "예측 요약 :  wonder woman co founder earns her first woman\n",
      "\n",
      "\n",
      "원문 : congress leader shehzad poonawalla announced plans author book power structure followed congress fight order added sale proceeds books forwarded charity earlier poonawalla claimed party internal polls rigged favour congress vice president rahul gandhi \n",
      "실제 요약 : year transparent kangana police however bollywood wasim \n",
      "예측 요약 :  congress has no one of majority of congress\n",
      "\n",
      "\n",
      "원문 : technology giant ibm lost billion market capitalisation wednesday intraday trade ibm reported fall revenue th consecutive quarter saw shares slide following billionaire warren buffett berkshire hathaway holding company stake ibm also lost around million wednesday \n",
      "실제 요약 : educational pradesh world fiction family film kind added monday \n",
      "예측 요약 :  apple loses billion in market value after years\n",
      "\n",
      "\n",
      "원문 : capturing mosul militant group islamic state destroyed museum turned tax department revealed envelopes used issue orders pay islamic tax one main sources funding militants found museum basement iraqi troops took museum back militants last month \n",
      "실제 요약 : agreement record posted tencent approached president mother celebrating \n",
      "예측 요약 :  palestinian army captures rohingya conversion to prevent islamic\n",
      "\n",
      "\n",
      "원문 : government looking raise around crore sale debt laden air india land real estate properties sale aims trim crore debt national carrier fetch better valuation strategic sale last week government approved transfer debt worth crore special purpose vehicle \n",
      "실제 요약 : girl world film cm government feet song \n",
      "예측 요약 :  govt to invest crore in crore\n",
      "\n",
      "\n",
      "원문 : actor rajkummar rao said sex favourite audience fan subtle humour enjoy watching comedy screen long stupid making sense added rao said prefer comedy forcing something viewer \n",
      "실제 요약 : russia crore found wonder females alumni track \n",
      "예측 요약 :  was not good thing about my tweets user\n",
      "\n",
      "\n",
      "원문 : year old man sundar killed buried concrete two men chennai stalking woman sister law sundar reportedly forcing woman get relationship also troubling sister law women two male accomplices hatched plan murder police said \n",
      "실제 요약 : ruled reportedly women bullet car portfolio us bumrah made \n",
      "예측 요약 :  man kills man for trying to save man killed\n",
      "\n",
      "\n",
      "원문 : palace london get first new building years planning permission granted nine storey library library store historic books execution warrant mary queen church nazis rise germany much much religious archive said palace official \n",
      "실제 요약 : behalf year modi billion man claimed victim added pakistan \n",
      "예측 요약 :  new zealand to get its first ever renovation\n",
      "\n",
      "\n",
      "원문 : delhi daredevils thursday named former australian captain ricky ponting new head coach indian premier league year old coached mumbai indians title winning season delhi daredevils announced retained rishabh pant chris morris shreyas iyer ipl \n",
      "실제 요약 : years sang complainant agrawal president united april us kashmir \n",
      "예측 요약 :  ponting to be named after ipl ipl team\n",
      "\n",
      "\n",
      "원문 : singer kailash kher wife revealed attempted suicide age sexually abused child unfortunately culture talking bodies good touch bad touch families society added said talking depression first step towards happiness \n",
      "실제 요약 : cheap authorities two one duty also coo polling released \n",
      "예측 요약 :  singer priest keeps me in his daughters murder\n",
      "\n",
      "\n",
      "원문 : actor turned politician kamal haasan said somehow supports congress president rahul gandhi remark would thrown file proposing demonetisation dustbin prime minister haasan also denied rumours funded christian missionaries saying laugh even sensible argument \n",
      "실제 요약 : chain trafficking following police squad added misbehaved know \n"
     ]
    },
    {
     "name": "stdout",
     "output_type": "stream",
     "text": [
      "예측 요약 :  rahul gandhi is like national illness shah\n",
      "\n",
      "\n",
      "원문 : former finance minister chidambaram monday said biggest issue lok sabha elections unemployment adding government incompetent know create jobs chidambaram suggested least five teachers recruited one teacher schools millions jobs created \n",
      "실제 요약 : associates year new highways sharing added staged received recovered \n",
      "예측 요약 :  will not have integrity of polls chidambaram\n",
      "\n",
      "\n",
      "원문 : rjd leader bhai monday refused remove red beacon atop car said order bihar government cabinet decided bihar follow decision delhi cabinet government pass order follow rule said \n",
      "실제 요약 : article per baby year german awarded talwar film lakh home \n",
      "예측 요약 :  lalu yadav sits on hunger strike in delhi nagar\n",
      "\n",
      "\n",
      "원문 : us food drug administration approved new gene therapy treat children adult patients inherited form vision loss may result blindness whose safety established patient trial first directly administered gene therapy targets disease caused specific gene \n",
      "실제 요약 : minister round babri contributed year displayed astronauts phone \n",
      "예측 요약 :  to get cancer treatment for patient cancer\n",
      "\n",
      "\n",
      "원문 : indians largest group visa applicants first nine months current us financial year lakh applications till june accounted total applications collected china came second applications highest ever past financial years third list canada applications \n",
      "실제 요약 : suicide position us also one located opening brown \n",
      "예측 요약 :  indian americans earn crore in years\n",
      "\n",
      "\n",
      "원문 : police thursday confirmed two women shelter home bihar rajeev nagar managed run away despite heavy security women aged reportedly ran away wednesday earlier month two girls staying shelter brought dead patna hospital following police detained shelter home secretary treasurer \n",
      "실제 요약 : made companies working film hard supreme closed recent arrested media \n",
      "예측 요약 :  haryana police station resumes work after years\n",
      "\n",
      "\n",
      "원문 : sunny leone shared picture husband daniel weber wedding ceremony occasion marriage anniversary wrote crazy journey life together added seven years ago vowed front god always love love today day \n",
      "실제 요약 : got sunday police september twins lok reservation police army charge \n",
      "예측 요약 :  wish to wish girl who married sunny deol\n",
      "\n",
      "\n",
      "원문 : us state secretary mike pompeo said president donald trump world build new liberal world order acting preserve protect advance open transparent free world sovereign states pompeo added president trump abandoning international leadership friends international system said \n",
      "실제 요약 : last state victim claimed would education minister record possible \n",
      "예측 요약 :  trump to be world largest energy in russia\n",
      "\n",
      "\n",
      "원문 : hyderabad based startup helps come online co founder ceo gulati said writing speeches microsoft co founder bill gates greatest achievement gulati worked decade microsoft co founding added tesla ceo elon musk one many living persons \n",
      "실제 요약 : tuesday willing terminated us lost twice notably officials \n",
      "예측 요약 :  co founder startup co founder joins twitter\n",
      "\n",
      "\n",
      "원문 : rocket powered car ssc first public test run thursday hit kmph speed eight seconds car ran km long runway technology formula race cars jets powered rolls royce jet engine reportedly aiming hit kmph speed \n",
      "실제 요약 : guilty raja home launched involving iit added achieved \n",
      "예측 요약 :  first gen kmph launched in seconds on first time\n",
      "\n",
      "\n",
      "원문 : foreigners tribunal assam asked retired army ahmed wife prove indian citizenship ahmed retired army years service said humiliated notice alleged illegally migrated bangladesh earlier assam police erroneously termed army officer bangladeshi immigrant \n",
      "실제 요약 : survivor board storm led year hotels lakh replaced \n",
      "예측 요약 :  army officer who gave army citizenship to army chief\n",
      "\n",
      "\n",
      "원문 : supreme court appointed environment pollution authority panel recommended ban plying diesel vehicles pollution crosses emergency levels delhi ncr suggesting shutting thermal power plants peak pollution days panel also said weak public transport system creating problems implementation odd even scheme \n",
      "실제 요약 : including matches recognition report police orders pune added years unfair \n",
      "예측 요약 :  sc lifts ban on construction of firecrackers in delhi\n",
      "\n",
      "\n",
      "원문 : amazon ceo jeff bezos founded aerospace startup blue origin test flown rocket capsule first time bezos confirmed tweet crew capsule reached orbit returned earth test dummy strapped october bezos said blue origin start taking space tourists orbit around next year \n",
      "실제 요약 : oscar thousands problems opened plans guilty kozhikode us man pm \n",
      "예측 요약 :  jeff bezos launches world first ever launch robot bezos\n",
      "\n",
      "\n",
      "원문 : village rajouri district received electricity connection road first time since independence district last village connected rest state road reports said developmental works areas done without problem rajouri district collector shahid iqbal said \n",
      "실제 요약 : create pradesh tourists man pm person al \n",
      "예측 요약 :  andhra village first ever state assembly office\n",
      "\n",
      "\n",
      "원문 : daughter turkish billionaire onboard private jet crashed mountainous region iran sunday seven friends returning dubai celebrating ahead wedding businessman next month eight women well three crew members killed crash \n",
      "실제 요약 : rape effective year new among women added top instead \n",
      "예측 요약 :  russian pilot shot dead by plane crash in paris\n",
      "\n",
      "\n",
      "원문 : pakistan election commission warned independent candidate sheikh muhammad using lashkar taiba founder hafiz saeed image election campaigns contesting independently saeed party milli muslim league recognised polls held lahore seat fell vacant due nawaz sharif disqualification panama papers case \n",
      "실제 요약 : sending strikes system interview bigg time across lakh anything \n",
      "예측 요약 :  pakistan accuses pakistan of contesting on hafiz saeed\n",
      "\n",
      "\n",
      "원문 : actor former bigg boss contestant khan denied reports arrested last night mumbai hotel possession ecstasy tablets found guilty acquisition drugs punished telling truth tweeted said conspiracy planned media haters \n",
      "실제 요약 : post kohli users singh us sword also firms \n",
      "예측 요약 :  actor shilpa wife held for raping actress in malayalam\n",
      "\n",
      "\n",
      "원문 : stellar explosions often associated explosive death stars however observations chile based telescopes provide first ever insights explosive birth stars astronomers said year old explosion captured firework like debris resulting possible collision stellar gases showing star formation violent process \n",
      "실제 요약 : thakur analytica man researchers due wife afghanistan \n",
      "예측 요약 :  china launches death penalty for depression\n",
      "\n",
      "\n",
      "원문 : haryana chief minister manohar lal khattar admitted lapses managing law order situation dera sacha sauda chief gurmeet ram rahim singh convicted rape friday added damage happened paramilitary forces army deployed sensitive areas \n",
      "실제 요약 : want congress rules year morphed startup shows cow lawsuit \n",
      "예측 요약 :  punjab cm ram rahim to get rape charges\n",
      "\n",
      "\n",
      "원문 : net worth reed hastings netflix co founder ceo crossed billion mark tuesday netflix shares hit time high company posted positive second quarter earnings hastings net worth increased billion record billion less hours hastings co founded netflix software executive marc \n",
      "실제 요약 : radio officials starring narendra launched high move two hospital \n",
      "예측 요약 :  alibaba founder jack ma to invest bn in china\n",
      "\n",
      "\n",
      "원문 : special cbi court mumbai acquitted accused sohrabuddin sheikh encounter case due lack evidence special cbi judge observed order witnesses proofs satisfactory prove conspiracy murder witnesses case turned hostile course trial \n",
      "실제 요약 : days month added overtaking environment thursday suspects first get \n",
      "예측 요약 :  cbi challenges cbi to probe in sohrabuddin encounter case\n",
      "\n",
      "\n",
      "원문 : indian premier league side rajasthan royals begun go green initiative side help plant one million saplings across state rajasthan initiative undertaken association government rajasthan among organisations campaign also spread awareness regarding carpooling rainwater harvesting waste management \n",
      "실제 요약 : gujarat kuldeep year selling saying life switched added gujarat \n",
      "예측 요약 :  chennai super kings are the last last year\n",
      "\n",
      "\n",
      "원문 : cat elected honorary mayor alaska town passed away thursday night age town human mayor elected cat liked drinking water glasses tourist attraction town around residents \n",
      "실제 요약 : mistakenly films accused systems sixth also minister agencies months showing \n"
     ]
    },
    {
     "name": "stdout",
     "output_type": "stream",
     "text": [
      "예측 요약 :  french town passes away at\n",
      "\n",
      "\n",
      "원문 : maruti suzuki became first indian automaker cross trillion market capitalisation shares hit mark intraday trade wednesday also became country sixth company cross milestone notably maruti market cap around higher parent japan suzuki motor corporation \n",
      "실제 요약 : pooja man reports constellation year follow wednesday like council pollution \n",
      "예측 요약 :  maruti suzuki crosses trillion market for first time\n",
      "\n",
      "\n",
      "원문 : government clarified whatsapp cannot launch payments services whatsapp pay india without office team country government also planning approach rbi make sure company violate rules however whatsapp said setting india team priority currently looking leadership positions \n",
      "실제 요약 : shah city director third added government children coach court \n",
      "예측 요약 :  whatsapp not provided payments on whatsapp payments govt\n",
      "\n",
      "\n",
      "원문 : day lok sabha rajya sabha wednesday passed constitution bill introduce reservation economically weaker sections among general category jobs educational institutions bill supported members seven members voted bill support lawmakers lower house \n",
      "실제 요약 : sc us extensive financing added administration deals ramdev old adam \n",
      "예측 요약 :  lok sabha passes bill to economically nda\n",
      "\n",
      "\n",
      "원문 : two russian men refused pay loans worth lakh local bank claiming soviet citizens russian denying constitutional status russia two men said would obey illegitimate requirements russian court soviet union dissolved december russia took successor state \n",
      "실제 요약 : left making reforms year city relief wicketkeeper prosecution replaced \n",
      "예측 요약 :  us bank offers bank robbery of bank fraud\n",
      "\n",
      "\n",
      "원문 : hong kong leased great britain china years december britain signed pact china agreeing return hong kong lease ended meanwhile china promised implement one country two systems policy wherein hong kong would maintain separate political economic system years \n",
      "실제 요약 : chief going constable trading year crew federation us pakistan \n",
      "예측 요약 :  world richest person to become world largest economy\n",
      "\n",
      "\n"
     ]
    }
   ],
   "source": [
    "for i in range(50, 100):\n",
    "    print(\"원문 :\", seq2text(encoder_input_test[i]))\n",
    "    print(\"실제 요약 :\", seq2summary(decoder_input_test[i]))\n",
    "    print(\"예측 요약 :\", decode_sequence(encoder_input_test[i].reshape(1, text_max_len)))\n",
    "    print(\"\\n\")"
   ]
  },
  {
   "cell_type": "markdown",
   "id": "f0fb2ad8",
   "metadata": {},
   "source": [
    "### 추출적 요약해보기"
   ]
  },
  {
   "cell_type": "code",
   "execution_count": 231,
   "id": "07cf9ca9",
   "metadata": {},
   "outputs": [],
   "source": [
    "import requests\n",
    "from summa.summarizer import summarize"
   ]
  },
  {
   "cell_type": "code",
   "execution_count": 244,
   "id": "7d67852a",
   "metadata": {},
   "outputs": [],
   "source": [
    "data = pd.read_csv('news_summary_more.csv', encoding='iso-8859-1')\n",
    "text = requests.get('http://rare-technologies.com/the_matrix_synopsis.txt').text"
   ]
  },
  {
   "cell_type": "code",
   "execution_count": 252,
   "id": "36ab38ea",
   "metadata": {},
   "outputs": [
    {
     "data": {
      "text/plain": [
       "\"Saurav Kant, an alumnus of upGrad and IIIT-B's PG Program in Machine learning and Artificial Intelligence, was a Sr Systems Engineer at Infosys with almost 5 years of work experience. The program and upGrad's 360-degree career support helped him transition to a Data Scientist at Tech Mahindra with 90% salary hike. upGrad's Online Power Learning has powered 3 lakh+ careers.\""
      ]
     },
     "execution_count": 252,
     "metadata": {},
     "output_type": "execute_result"
    }
   ],
   "source": [
    "data['text'].values[0]\n",
    "     "
   ]
  },
  {
   "cell_type": "code",
   "execution_count": 254,
   "id": "ea216861",
   "metadata": {},
   "outputs": [
    {
     "name": "stdout",
     "output_type": "stream",
     "text": [
      "원문 : Saurav Kant, an alumnus of upGrad and IIIT-B's PG Program in Machine learning and Artificial Intelligence, was a Sr Systems Engineer at Infosys with almost 5 years of work experience. The program and upGrad's 360-degree career support helped him transition to a Data Scientist at Tech Mahindra with 90% salary hike. upGrad's Online Power Learning has powered 3 lakh+ careers.\n",
      "예측 요약 upGrad's Online Power Learning has powered 3 lakh+ careers.\n",
      "\n",
      "\n",
      "원문 : Kunal Shah's credit card bill payment platform, CRED, gave users a chance to win free food from Swiggy for one year. Pranav Kaushik, a Delhi techie, bagged this reward after spending 2000 CRED coins. Users get one CRED coin per rupee of bill paid, which can be used to avail rewards from brands like Ixigo, BookMyShow, UberEats, Cult.Fit and more.\n",
      "예측 요약 Users get one CRED coin per rupee of bill paid, which can be used to avail rewards from brands like Ixigo, BookMyShow, UberEats, Cult.Fit and more.\n",
      "\n",
      "\n",
      "원문 : New Zealand defeated India by 8 wickets in the fourth ODI at Hamilton on Thursday to win their first match of the five-match ODI series. India lost an international match under Rohit Sharma's captaincy after 12 consecutive victories dating back to March 2018. The match witnessed India getting all out for 92, their seventh lowest total in ODI cricket history.\n",
      "예측 요약 The match witnessed India getting all out for 92, their seventh lowest total in ODI cricket history.\n",
      "\n",
      "\n",
      "원문 : With Aegon Life iTerm Insurance plan, customers can enjoy tax benefits on your premiums paid and save up to Ã¢ÂÂ¹46,800^ on taxes. The plan provides life cover up to the age of 100 years. Also, customers have options to insure against Critical Illnesses, Disability and Accidental Death Benefit Rider with a life cover up to the age of 80 years.\n",
      "예측 요약 Also, customers have options to insure against Critical Illnesses, Disability and Accidental Death Benefit Rider with a life cover up to the age of 80 years.\n",
      "\n",
      "\n",
      "원문 : Speaking about the sexual harassment allegations against Rajkumar Hirani, Sonam Kapoor said, \"I've known Hirani for many years...What if it's not true, the [#MeToo] movement will get derailed.\" \"In the #MeToo movement, I always believe a woman. But in this case, we need to reserve our judgment,\" she added. Hirani has been accused by an assistant who worked in 'Sanju'.\n",
      "예측 요약 Speaking about the sexual harassment allegations against Rajkumar Hirani, Sonam Kapoor said, \"I've known Hirani for many years...What if it's not true, the [#MeToo] movement will get derailed.\" \"In the #MeToo movement, I always believe a woman.\n",
      "\n",
      "\n",
      "원문 : Pakistani singer Rahat Fateh Ali Khan has denied receiving any notice from the Enforcement Directorate over allegedly smuggling foreign currency out of India. \"It would have been better if the authorities would have served the notice first if any and then publicised this,\" reads a press release issued on behalf of Rahat. The statement further called the allegation \"bizarre\".\n",
      "예측 요약 Pakistani singer Rahat Fateh Ali Khan has denied receiving any notice from the Enforcement Directorate over allegedly smuggling foreign currency out of India.\n",
      "\n",
      "\n",
      "원문 : India recorded their lowest ODI total in New Zealand after getting all out for 92 runs in 30.5 overs in the fourth ODI at Hamilton on Thursday. Seven of India's batsmen were dismissed for single-digit scores, while their number ten batsman Yuzvendra Chahal top-scored with 18*(37). India's previous lowest ODI total in New Zealand was 108.\n",
      "예측 요약 India's previous lowest ODI total in New Zealand was 108.\n",
      "\n",
      "\n",
      "원문 : Weeks after ex-CBI Director Alok Verma told the Department of Personnel and Training to consider him retired, the Home Ministry asked him to join work on the last day of his fixed tenure as Director on Thursday. The ministry directed him to immediately join as DG, Fire Services, the post he was transferred to after his removal as CBI chief.\n",
      "예측 요약 Weeks after ex-CBI Director Alok Verma told the Department of Personnel and Training to consider him retired, the Home Ministry asked him to join work on the last day of his fixed tenure as Director on Thursday.\n",
      "\n",
      "\n",
      "원문 : Andhra Pradesh CM N Chandrababu Naidu has said, \"When I met then US President Bill Clinton, I addressed him as Mr Clinton, not as 'sir'. (PM Narendra) Modi is my junior in politics...I addressed him as sir 10 times.\" \"I did this...to satisfy his ego in the hope that he will do justice to the state,\" he added.\n",
      "예측 요약 Andhra Pradesh CM N Chandrababu Naidu has said, \"When I met then US President Bill Clinton, I addressed him as Mr Clinton, not as 'sir'.\n",
      "\n",
      "\n",
      "원문 : Congress candidate Shafia Zubair won the Ramgarh Assembly seat in Rajasthan, by defeating BJP's Sukhwant Singh with a margin of 12,228 votes in the bypoll. With this victory, Congress has taken its total to 100 seats in the 200-member assembly. The election to the Ramgarh seat was delayed due to the death of sitting MLA and BSP candidate Laxman Singh.\n",
      "예측 요약 Congress candidate Shafia Zubair won the Ramgarh Assembly seat in Rajasthan, by defeating BJP's Sukhwant Singh with a margin of 12,228 votes in the bypoll.\n",
      "\n",
      "\n",
      "원문 : Two minor cousins in Uttar Pradesh's Gorakhpur were allegedly repeatedly burnt with tongs and forced to eat human excreta by their family for being friends with two boys from the same school. The cousins revealed their ordeal to the police and Child Welfare Committee after being brought back to Gorakhpur from Nepal, where they had fled to escape the torture.\n",
      "예측 요약 Two minor cousins in Uttar Pradesh's Gorakhpur were allegedly repeatedly burnt with tongs and forced to eat human excreta by their family for being friends with two boys from the same school.\n",
      "\n",
      "\n",
      "원문 : Isha Ghosh, an 81-year-old member of Bharat Scouts and Guides (BSG), has been imparting physical and mental training to schoolchildren in Jharkhand for several decades. Chaibasa-based Ghosh reportedly walks seven kilometres daily and spends eight hours conducting physical training, apart from climbing and yoga sessions. She says, \"One should do something for society till one's last breath.\"\n",
      "예측 요약 Isha Ghosh, an 81-year-old member of Bharat Scouts and Guides (BSG), has been imparting physical and mental training to schoolchildren in Jharkhand for several decades.\n",
      "\n",
      "\n",
      "원문 : Urging saints and seers at the Kumbh Mela to quit smoking, Yoga guru Ramdev said, \"We follow Ram and Krishna who never smoked in their life then why should we?\" Making them take a pledge to quit tobacco, he collected chillum (clay pipe) from several sadhus. He said he will deposit the chillums for display at a museum he'll build.\n",
      "예측 요약 Urging saints and seers at the Kumbh Mela to quit smoking, Yoga guru Ramdev said, \"We follow Ram and Krishna who never smoked in their life then why should we?\" Making them take a pledge to quit tobacco, he collected chillum (clay pipe) from several sadhus.\n",
      "\n",
      "\n",
      "원문 : Former stripper and regional sales director of a pharmaceutical company, Sunrise Lee, gave a doctor a lap dance in a nightclub to persuade him to prescribe an addictive fentanyl spray in 2012, the company's sales representative told a US court. She said she saw Lee \"sitting on [doctor's] lap, kind of bouncing around.\" Lee has been accused of bribing doctors.\n",
      "예측 요약 Former stripper and regional sales director of a pharmaceutical company, Sunrise Lee, gave a doctor a lap dance in a nightclub to persuade him to prescribe an addictive fentanyl spray in 2012, the company's sales representative told a US court.\n",
      "\n",
      "\n",
      "원문 : Reliance Industries' Chairman Mukesh Ambani's daughter Isha Ambani, who got married last month, said she only cried at her 'bidaai' because she felt peer pressure as everyone was crying, especially her parents. \"I was emotional too but everyone around me would cry all the time,\" she added. \"It was a very emotional affair for everyone in my family,\" said Isha.\n",
      "예측 요약 \"It was a very emotional affair for everyone in my family,\" said Isha.\n",
      "\n",
      "\n",
      "원문 : Louis Vuitton owner LVMH, which makes high-end beverages like MoÃÂ«t & Chandon champagne and Hennessy cognac, said it's stockpiling four months' worth of wine and spirits in UK in preparation for Brexit. \"We're ready for worst case scenario if there are difficulties with deliveries,\" the French luxury giant said. The UK is scheduled to leave the EU on March 29.\n",
      "예측 요약 Louis Vuitton owner LVMH, which makes high-end beverages like MoÃÂ«t & Chandon champagne and Hennessy cognac, said it's stockpiling four months' worth of wine and spirits in UK in preparation for Brexit.\n",
      "\n",
      "\n",
      "원문 : Filmmaker Karan Johar and actress Tabu turned showstoppers for Gaurav Gupta on the opening night of LakmÃÂ© Fashion Week Summer/ Resort 2019. While Johar wore a red sequinned jacket with black pants, Tabu walked the ramp in a grey embellished gown. The fashion show, which began on January 29, will continue till February 3.\n",
      "예측 요약 Filmmaker Karan Johar and actress Tabu turned showstoppers for Gaurav Gupta on the opening night of LakmÃÂ© Fashion Week Summer/ Resort 2019.\n",
      "\n",
      "\n",
      "원문 : In a jibe at Congress President Rahul Gandhi, PM Narendra Modi on Wednesday said those on \"bail will have to go to jail.\" PM Modi added, \"He is out on bail and his associates too are facing charges...I know they will be convicted one day.\" The PM claimed he'd waged a war on corruption because he's from a common household. \n",
      "예측 요약 \n",
      "\n",
      "\n",
      "원문 : Days after he threatened to step down from his post if Congress MLAs continue \"crossing the line,\" Karnataka Chief Minister HD Kumaraswamy accused them of taking potshots and asked, \"How many more days can I tolerate such stuff?\" Kumaraswamy, who made the statements after a Congress MLA demanded that Siddaramaiah be made CM again, said, \"Power is ephemeral.\"\n",
      "예측 요약 \n",
      "\n",
      "\n",
      "원문 : Union Minister Dharmendra Pradhan on Wednesday claimed the illegal mining mafia in Odisha operates under the control of CM Naveen Patnaik and state Congress chief Niranjan Patnaik. He added, \"The time has come for the people of Odisha to put a full stop to their activities...The time has come for us to ask for an explanation from this corrupt government.\"\n",
      "예측 요약 Union Minister Dharmendra Pradhan on Wednesday claimed the illegal mining mafia in Odisha operates under the control of CM Naveen Patnaik and state Congress chief Niranjan Patnaik.\n",
      "\n",
      "\n",
      "원문 : Claiming there is a dearth of ideas among opposition parties, Prime Minister Narendra Modi on Wednesday said, \"The opposition talks only about Modi the whole day, I suspect they even dream about me.\" PM Modi, who was addressing the New India Youth Conclave inÃ¢ÂÂ Surat, added that the opposition parties have only one agenda which is \"Modi\". \n",
      "예측 요약 \n",
      "\n",
      "\n",
      "원문 : The Indian Space Research Organisation on Wednesday unveiled Human Space Flight Centre in Bengaluru for its Ã¢ÂÂ¹10,000-crore manned space mission 'Gaganyaan' scheduled for 2021. ISRO said the centre will be responsible for development of engineering systems for crew survival in space and crew selection and training. It'll also pursue activities for sustained human space flight missions, ISRO added.\n",
      "예측 요약 It'll also pursue activities for sustained human space flight missions, ISRO added.\n",
      "\n",
      "\n",
      "원문 : At least 12 people have been killed and 170 others have been injured in Saudi Arabia this week due to flooding from heavy rain. The emergency services rescued 271 people from the flooded areas, more than half of them in Tabuk. Heavy rains hit mainly western and northwestern parts of Saudi Arabia, near its border with Jordan.\n",
      "예측 요약 At least 12 people have been killed and 170 others have been injured in Saudi Arabia this week due to flooding from heavy rain.\n",
      "\n",
      "\n",
      "원문 : Reliance Industries' Chairman Mukesh Ambani's daughter Isha Ambani has featured on the cover of the February edition of Vogue India. She's dressed in a white shirt dress and black ruffled skirt by Australian designer Toni Maticevski, while accessorising her look with a Misho ring. In the cover story on her, Isha has spoken about her work and life after marriage.\n",
      " \n",
      "예측 요약 Reliance Industries' Chairman Mukesh Ambani's daughter Isha Ambani has featured on the cover of the February edition of Vogue India.\n",
      "\n",
      "\n",
      "원문 : Indian Oil Corporation on Wednesday said it's looking for an annual deal to buy US crude as it seeks to broaden oil purchasing options. This comes amid uncertainties over Iran imports. The US had in November granted a six-month waiver to India from sanctions against Iran and restricted the country's monthly intake of Iranian oil to 3,00,000 barrels per day.\n",
      "\n",
      "\n",
      "예측 요약 The US had in November granted a six-month waiver to India from sanctions against Iran and restricted the country's monthly intake of Iranian oil to 3,00,000 barrels per day.\n",
      "\n",
      "\n",
      "원문 : Former Windies fast bowler Curtly Ambrose dismissed seven Australian batsmen within a span of 32 balls giving away just one run, in a Test match on January 30, 1993. Ambrose's spell helped his team bowl out Australia for 119 in the first innings, after being 85 for 2 at one point. Ambrose ended with first-innings figures of 18-9-25-7.\n",
      "예측 요약 Ambrose ended with first-innings figures of 18-9-25-7.\n",
      "\n",
      "\n",
      "원문 : A London zoo is offering people to name a cockroach after their exes on Valentine's Day for ÃÂ£1.50 (nearly Ã¢ÂÂ¹140). \"For those that don't quite require revenge, there's another way to make you feel better about getting back at your ex,\" the zoo said in a statement. The names will appear on zoo's 'roach board' on February 14. \n",
      "예측 요약 The names will appear on zoo's 'roach board' on February 14.\n",
      "\n",
      "\n",
      "원문 : Stand-in captain Rohit Sharma has become the 14th Indian cricketer to play 200 ODIs, achieving the feat after taking the field against New Zealand in fourth ODI at Hamilton on Thursday. The 31-year-old had made his ODI debut on June 23, 2007, against Ireland in Belfast. Rohit scored 7,799 runs in his first 199 ODIs at an average of 48.14.\n",
      "예측 요약 Rohit scored 7,799 runs in his first 199 ODIs at an average of 48.14.\n",
      "\n",
      "\n",
      "원문 : Batsman Shubman Gill has become the 227th cricketer to represent India in ODI cricket, achieving the feat against New Zealand in the fourth ODI at Hamilton on Thursday. The 19-year-old received his maiden ODI cap from former captain MS Dhoni. Notably, Shubman was named Player of the Under-19 World Cup in New Zealand last year.\n",
      "예측 요약 Notably, Shubman was named Player of the Under-19 World Cup in New Zealand last year.\n",
      "\n",
      "\n",
      "원문 : Investigators searching for a lost plane carrying Argentine forward Emiliano Sala found two seat cushions on French coast that \"likely\" belonged to the aircraft. The investigators said they'll now launch an underwater seabed search for aircraft wreckage. The Cardiff City footballer was travelling from France's Nantes to Wales' Cardiff when his plane disappeared over English Channel on January 21.\n",
      "예측 요약 Investigators searching for a lost plane carrying Argentine forward Emiliano Sala found two seat cushions on French coast that \"likely\" belonged to the aircraft.\n",
      "\n",
      "\n",
      "원문 : Italian third division football side Lucchese's head coach Giancarlo Favarin has been banned for five months for headbutting Alessandria's assistant coach Gaetano Mancino during a brawl following the teams' 2-2 draw on Sunday. Mancino was caught off-balance and knocked to the ground after the headbutt. Earlier in the match, Favarin had told his own player to break an opponent's legs.\n",
      "예측 요약 Italian third division football side Lucchese's head coach Giancarlo Favarin has been banned for five months for headbutting Alessandria's assistant coach Gaetano Mancino during a brawl following the teams' 2-2 draw on Sunday.\n",
      "\n",
      "\n",
      "원문 : Cyclists taking part in National Track Cycling Championship in Jaipur opted to sleep on the floor inside the stadium instead of hotels over expensive cycles. The organisers had booked hotels but they didn't have the provision for cyclists to keep their bikes inside. A national gold medallist said their cycles cost between Ã¢ÂÂ¹5-9 lakh and once damaged, they become non-repairable. \n",
      "예측 요약 Cyclists taking part in National Track Cycling Championship in Jaipur opted to sleep on the floor inside the stadium instead of hotels over expensive cycles.\n",
      "\n",
      "\n",
      "원문 : Silvia Grecco, a 56-year-old Brazilian mother narrates her local football team Palmeiras' matches live to her 12-year-old blind and autistic son Nickollas from the stands. \"I describe details: this player is wearing short sleeves...colour of...football boots, hair colour...Everything I see and feel, I tell him, even when I need to curse the referee!\" Grecco said after a recent match.\n",
      "예측 요약 Silvia Grecco, a 56-year-old Brazilian mother narrates her local football team Palmeiras' matches live to her 12-year-old blind and autistic son Nickollas from the stands.\n",
      "\n",
      "\n",
      "원문 : A TechCrunch report has claimed that IndiaÃ¢ÂÂs largest bank SBI secured a passwordless server \"overnight\" on being alerted it allowed anyone to access phone numbers, bank balances, and transactions of millions of its customers. The Mumbai-based server was containing two months of data from SBI Quick, an SMS and call-based system used to request basic information about accounts, TechCrunch revealed.\n",
      "예측 요약 A TechCrunch report has claimed that IndiaÃ¢ÂÂs largest bank SBI secured a passwordless server \"overnight\" on being alerted it allowed anyone to access phone numbers, bank balances, and transactions of millions of its customers.\n",
      "\n",
      "\n",
      "원문 : Rahul Gandhi has replied to Goa CM Manohar Parrikar's letter, which accused the Congress President of using his \"visit to an ailing man for political gains\". \"He's under immense pressure from the PM after our meeting and needs to demonstrate his loyalty by attacking me,\" Gandhi wrote in his letter. Parrikar had clarified he didn't discuss Rafale deal with Rahul.\n",
      "예측 요약 Rahul Gandhi has replied to Goa CM Manohar Parrikar's letter, which accused the Congress President of using his \"visit to an ailing man for political gains\".\n",
      "\n",
      "\n",
      "원문 : Twenty-seven-year-old Mohammed Mahuwala was arrested in Indore on Wednesday for allegedly cheating e-commerce giant Amazon of nearly Ã¢ÂÂ¹30 lakh. Mahuwala was a member of a gang who ordered costly gadgets from Amazon. \"[They] used to get refund of the amount paid...by saying the parcel...was empty. In reality, these devices were taken out from parcel and sold...to local shopkeepers,\" said police.\n",
      "예측 요약 Twenty-seven-year-old Mohammed Mahuwala was arrested in Indore on Wednesday for allegedly cheating e-commerce giant Amazon of nearly Ã¢ÂÂ¹30 lakh.\n",
      "Mahuwala was a member of a gang who ordered costly gadgets from Amazon.\n",
      "\n",
      "\n",
      "원문 : AgustaWestland chopper scam co-accused Rajiv Saxena was extradited to India from UAE on Wednesday. He had been evading the Enforcement Directorate's summons claiming he was suffering from leukaemia but had moved an anti-money laundering court for anticipatory bail in December, stating he had never been summoned at his Dubai address. Saxena's lawyers alleged he had been \"illegally extradited\". \n",
      "예측 요약 AgustaWestland chopper scam co-accused Rajiv Saxena was extradited to India from UAE on Wednesday.\n",
      "\n",
      "\n",
      "원문 : Afghan President Ashraf Ghani has said the \"keys to war\" are in Pakistan's Islamabad, Quetta and Rawalpindi, accusing the country of providing safe havens to militants, including those belonging to the Taliban. Ghani added the \"key to peace was in Afghanistan\". His comments came amid the talks between the US and the Taliban to end the 17-year war in Afghanistan.\n",
      "예측 요약 Afghan President Ashraf Ghani has said the \"keys to war\" are in Pakistan's Islamabad, Quetta and Rawalpindi, accusing the country of providing safe havens to militants, including those belonging to the Taliban.\n",
      "\n",
      "\n",
      "원문 : A Singapore-based insurance agent has been jailed for two years and five months for threatening to harm his clients unless they paid him in bitcoins. The 36-year-old set up an email account, and signed the messages as 'Lord Voldemort', a fictional character from the Harry Potter series. Ye Lin Myint targeted about 33 people, including those who cancelled insurance policies.\n",
      "예측 요약 A Singapore-based insurance agent has been jailed for two years and five months for threatening to harm his clients unless they paid him in bitcoins.\n",
      "\n",
      "\n",
      "원문 : Gabrielle Reilly, a 22-year-old US woman, created earrings for her Apple AirPods and put it up for sale online for $20 (about Ã¢ÂÂ¹1,500). \"I absolutely refuse to lose them (AirPods)...So I made earrings,\" she explained. The earrings, which took her over an hour to make, debuted in a video on Twitter that has since garnered over three million views.\n",
      "예측 요약 \"I absolutely refuse to lose them (AirPods)...So I made earrings,\" she explained.\n",
      "\n",
      "\n",
      "원문 : Ex-ICICI Bank CEO Chanda Kochhar said she's \"utterly disappointed, hurt and shocked\" by the bank's decision to terminate her. Kochhar said she served ICICI for 34 years with utmost honesty and integrity and that ultimately truth will prevail. Adding that she hasn't been given a copy of the independent probe report, Kochhar said none of ICICI's credit decisions are unilateral\n",
      "예측 요약 Adding that she hasn't been given a copy of the independent probe report, Kochhar said none of ICICI's credit decisions are unilateral\n",
      "\n",
      "\n",
      "원문 : Swedish multinational fast-fashion brand Hennes & Mauritz AB (H&M) has hired Christopher Wylie, the whistleblower who exposed Facebook's Cambridge Analytica data scandal. WylieÃ¢ÂÂs focus will be to help get better insights on customers, products and markets and support work on sustainable and ethical artificial intelligence, H&M spokesperson said. Wylie is a former employee of Cambridge Analytica.\n",
      "예측 요약 Swedish multinational fast-fashion brand Hennes & Mauritz AB (H&M) has hired Christopher Wylie, the whistleblower who exposed Facebook's Cambridge Analytica data scandal.\n",
      "\n",
      "\n",
      "원문 : Micro-blogging platform Twitter is testing a new feature on Android to put news on the top of a user's timeline. \"With this update, weÃ¢ÂÂre making it easier for people to see news and stories their followers have been discussing,\" Product Manager Walter Gurzynski said. The feature comes alongside a prompt saying, \"Catch up on what's happened while you were away.\"\n",
      "예측 요약 Micro-blogging platform Twitter is testing a new feature on Android to put news on the top of a user's timeline.\n",
      "\n",
      "\n",
      "원문 : Samsung has started mass producing its one terabyte 'embedded Universal Flash Storage (eUFS) 2.1' technology for \"use in next-generation mobile applications\", which it claims is the industry's first such eUFS. The company added the new eUFS will let smartphones store 260 10-minute videos shot in 4K UHD format. It'll be sized the same as the previous 512GB version, Samsung said.\n",
      "예측 요약 Samsung has started mass producing its one terabyte 'embedded Universal Flash Storage (eUFS) 2.1' technology for \"use in next-generation mobile applications\", which it claims is the industry's first such eUFS.\n",
      "\n",
      "\n",
      "원문 : Prime Minister Narendra Modi on Wednesday said the people with 'negative mindset' are questioning him and his government for floating pro-poor schemes. He added negative mindset people are raising doubts about schemes such as building toilets and providing free gas connections to the poor. He further said that negative mentality laced with a vested interest still exists in the country.\n",
      "예측 요약 Prime Minister Narendra Modi on Wednesday said the people with 'negative mindset' are questioning him and his government for floating pro-poor schemes.\n",
      "\n",
      "\n",
      "원문 : Union Minister Anantkumar Hegde took a dig at Congress President Rahul Gandhi by calling him a \"hybrid specimen\" who has no clue about religion. \"A father who's...Muslim, a mother who's...Christian and the son is supposed to be...Brahmin. How is that even possible?\" he said. He added such \"hybrid specimen\" cannot be found in any laboratory in the world.\n",
      "예측 요약 Union Minister Anantkumar Hegde took a dig at Congress President Rahul Gandhi by calling him a \"hybrid specimen\" who has no clue about religion.\n",
      "He added such \"hybrid specimen\" cannot be found in any laboratory in the world.\n",
      "\n",
      "\n",
      "원문 : Several parts of the US are set to experience record low temperatures as the polar vortex hit the Upper Midwest, with more than 200 million people expected to experience below-freezing temperatures this week. Temperatures throughout the Upper Midwest are expected to be at least 20-40Ã¢ÂÂ below zero. Government offices and schools have been closed in several areas.\n",
      "예측 요약 Several parts of the US are set to experience record low temperatures as the polar vortex hit the Upper Midwest, with more than 200 million people expected to experience below-freezing temperatures this week.\n",
      "\n",
      "\n",
      "원문 : The police on Wednesday registered cases against 13 persons, including a woman leader of Hindu Mahasabha, in Aligarh for firing at an effigy of Mahatma Gandhi with an air pistol. \"The incident took place in a house in Naurangabad locality of the city,\" Senior Superintendent of Police said. The video of the event went viral on social media, he added.\n",
      "예측 요약 The police on Wednesday registered cases against 13 persons, including a woman leader of Hindu Mahasabha, in Aligarh for firing at an effigy of Mahatma Gandhi with an air pistol.\n",
      "\n",
      "\n",
      "원문 : Railway police has rescued a woman travelling on a train in Chennai who got her leg stuck inside the commode of a toilet. After being caught inside the commode hole, she struggled to remove her leg and following failed attempts, she shouted for help, reports said. Railway police used a cutter to pry open the commode and freed her leg.\n",
      "예측 요약 Railway police has rescued a woman travelling on a train in Chennai who got her leg stuck inside the commode of a toilet.\n",
      "\n",
      "\n",
      "원문 : The US on Tuesday began returning asylum seekers to Mexico, sending back a migrant from a Central American nation and called the move a \"response to the illegal migration crisis\" faced by it. Under its Migrant Protection Protocols policy, the US will return certain migrants who cross into the country illegally back to Mexico while their asylum requests are processed.\n",
      "예측 요약 The US on Tuesday began returning asylum seekers to Mexico, sending back a migrant from a Central American nation and called the move a \"response to the illegal migration crisis\" faced by it.\n",
      "\n",
      "\n"
     ]
    }
   ],
   "source": [
    "for i in range(0, 50):\n",
    "    input_text =  data['text'].values[i]\n",
    "    print(\"원문 :\", input_text)\n",
    "    \n",
    "    print(\"예측 요약\",summarize(input_text, ratio=0.5))\n",
    "    print(\"\\n\")"
   ]
  },
  {
   "cell_type": "markdown",
   "id": "6c577f6a",
   "metadata": {},
   "source": [
    "## 회고\n",
    "\n",
    "### 개요\n",
    "- 프로젝트: 뉴스기사 요약해보기\n",
    "\n",
    "### 과정\n",
    "- 데이터 준비\n",
    "- 데이터 전처리\n",
    "    - 데이터 정리\n",
    "    - 훈련데이터와 테스트 데이터 나누기\n",
    "    - 정수 인코딩\n",
    "- 모델 설계\n",
    "- 모델 훈련\n",
    "- 훈련 결과 시각화\n",
    "- 인퍼런스 모델 구현\n",
    "- 모델 테스트\n",
    "- Summa 추출적 요약 하기\n",
    "\n",
    "### 느낀점\n",
    "- 텍스트 전처리부터 모델 설계까지 직접 구현해보면서, 이론적으로만 접했을 때 이해하기 힘든 부분을 조금이나마 이해할 수 잇었다.\n",
    "- 자연어 처리라는 분야가 모델을 설계하면서 걸리는 시간보다 텍스트를 전처리 하는 과정에서 시간이 더욱 오래 걸렸다. 전처리된 데이터를 따로 저장을 해서 전처리하는 시간을 줄일 수 있는 방법을 모색해봐야겠다.\n",
    "- 모델의 성능이 예상보다 좋지 않아 추가적인 공부와 실험이 필요할 것 같다.\n",
    "- 반복되는 과정을 모두 함수로 모듈화 함으로서 파라미터를 좀 더 유연하게 조절할 수 있었다."
   ]
  },
  {
   "cell_type": "code",
   "execution_count": null,
   "id": "40dd3d60",
   "metadata": {},
   "outputs": [],
   "source": []
  }
 ],
 "metadata": {
  "kernelspec": {
   "display_name": "Python 3 (ipykernel)",
   "language": "python",
   "name": "python3"
  },
  "language_info": {
   "codemirror_mode": {
    "name": "ipython",
    "version": 3
   },
   "file_extension": ".py",
   "mimetype": "text/x-python",
   "name": "python",
   "nbconvert_exporter": "python",
   "pygments_lexer": "ipython3",
   "version": "3.9.7"
  }
 },
 "nbformat": 4,
 "nbformat_minor": 5
}
